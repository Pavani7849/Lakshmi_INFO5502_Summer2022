{
  "cells": [
    {
      "cell_type": "markdown",
      "metadata": {
        "id": "view-in-github",
        "colab_type": "text"
      },
      "source": [
        "<a href=\"https://colab.research.google.com/github/Pavani7849/Lakshmi_INFO5502_Summer2022/blob/main/INFO_5502_Final_Exam_Summer_2022.ipynb\" target=\"_parent\"><img src=\"https://colab.research.google.com/assets/colab-badge.svg\" alt=\"Open In Colab\"/></a>"
      ]
    },
    {
      "cell_type": "markdown",
      "metadata": {
        "id": "2wszv2rQyrPF"
      },
      "source": [
        "### INFO 5502 Final Exam (05/12/2022, 500 points in total)"
      ]
    },
    {
      "cell_type": "markdown",
      "metadata": {
        "id": "gAkW_SK4yrPH"
      },
      "source": [
        "<span style='background:yellow'>**Question 1 (100 pt).**</span> We want to create a birthday frequency graph using the data on births in the United States, provided by the Centers for Disease Control (CDC). You can download the data from my GitHub link:https://github.com/unt-iialab/info5502-spring2022/blob/main/datasets/births.csv \n",
        "\n",
        "Please visualize the data as the following figure using python (you can use any data visualization packages):\n",
        "\n"
      ]
    },
    {
      "cell_type": "code",
      "execution_count": 48,
      "metadata": {
        "id": "5Oz6Q90gyrPI"
      },
      "outputs": [],
      "source": [
        "#### You code here\n",
        "import numpy as np\n",
        "import pandas as pd\n",
        "import matplotlib.pyplot as plt\n",
        "import seaborn as sns\n",
        "\n"
      ]
    },
    {
      "cell_type": "code",
      "execution_count": 49,
      "metadata": {
        "id": "uwFLTEhJyrPJ"
      },
      "outputs": [],
      "source": [
        "# df = pd.read_csv(\"https://github.com/unt-iialab/info5502-spring2022/blob/main/datasets/births.csv\")\n",
        "df = pd.read_csv(\"births.csv\")"
      ]
    },
    {
      "cell_type": "code",
      "execution_count": 50,
      "metadata": {
        "colab": {
          "base_uri": "https://localhost:8080/",
          "height": 206
        },
        "id": "YNHeZYMVyrPK",
        "outputId": "856cc71b-56d9-4b39-dfff-8b770393ba01"
      },
      "outputs": [
        {
          "output_type": "execute_result",
          "data": {
            "text/plain": [
              "   year  month  day gender  births\n",
              "0  1969      1  1.0      F    4046\n",
              "1  1969      1  1.0      M    4440\n",
              "2  1969      1  2.0      F    4454\n",
              "3  1969      1  2.0      M    4548\n",
              "4  1969      1  3.0      F    4548"
            ],
            "text/html": [
              "\n",
              "  <div id=\"df-ad311592-4c27-47ee-87ce-d84690370b95\">\n",
              "    <div class=\"colab-df-container\">\n",
              "      <div>\n",
              "<style scoped>\n",
              "    .dataframe tbody tr th:only-of-type {\n",
              "        vertical-align: middle;\n",
              "    }\n",
              "\n",
              "    .dataframe tbody tr th {\n",
              "        vertical-align: top;\n",
              "    }\n",
              "\n",
              "    .dataframe thead th {\n",
              "        text-align: right;\n",
              "    }\n",
              "</style>\n",
              "<table border=\"1\" class=\"dataframe\">\n",
              "  <thead>\n",
              "    <tr style=\"text-align: right;\">\n",
              "      <th></th>\n",
              "      <th>year</th>\n",
              "      <th>month</th>\n",
              "      <th>day</th>\n",
              "      <th>gender</th>\n",
              "      <th>births</th>\n",
              "    </tr>\n",
              "  </thead>\n",
              "  <tbody>\n",
              "    <tr>\n",
              "      <th>0</th>\n",
              "      <td>1969</td>\n",
              "      <td>1</td>\n",
              "      <td>1.0</td>\n",
              "      <td>F</td>\n",
              "      <td>4046</td>\n",
              "    </tr>\n",
              "    <tr>\n",
              "      <th>1</th>\n",
              "      <td>1969</td>\n",
              "      <td>1</td>\n",
              "      <td>1.0</td>\n",
              "      <td>M</td>\n",
              "      <td>4440</td>\n",
              "    </tr>\n",
              "    <tr>\n",
              "      <th>2</th>\n",
              "      <td>1969</td>\n",
              "      <td>1</td>\n",
              "      <td>2.0</td>\n",
              "      <td>F</td>\n",
              "      <td>4454</td>\n",
              "    </tr>\n",
              "    <tr>\n",
              "      <th>3</th>\n",
              "      <td>1969</td>\n",
              "      <td>1</td>\n",
              "      <td>2.0</td>\n",
              "      <td>M</td>\n",
              "      <td>4548</td>\n",
              "    </tr>\n",
              "    <tr>\n",
              "      <th>4</th>\n",
              "      <td>1969</td>\n",
              "      <td>1</td>\n",
              "      <td>3.0</td>\n",
              "      <td>F</td>\n",
              "      <td>4548</td>\n",
              "    </tr>\n",
              "  </tbody>\n",
              "</table>\n",
              "</div>\n",
              "      <button class=\"colab-df-convert\" onclick=\"convertToInteractive('df-ad311592-4c27-47ee-87ce-d84690370b95')\"\n",
              "              title=\"Convert this dataframe to an interactive table.\"\n",
              "              style=\"display:none;\">\n",
              "        \n",
              "  <svg xmlns=\"http://www.w3.org/2000/svg\" height=\"24px\"viewBox=\"0 0 24 24\"\n",
              "       width=\"24px\">\n",
              "    <path d=\"M0 0h24v24H0V0z\" fill=\"none\"/>\n",
              "    <path d=\"M18.56 5.44l.94 2.06.94-2.06 2.06-.94-2.06-.94-.94-2.06-.94 2.06-2.06.94zm-11 1L8.5 8.5l.94-2.06 2.06-.94-2.06-.94L8.5 2.5l-.94 2.06-2.06.94zm10 10l.94 2.06.94-2.06 2.06-.94-2.06-.94-.94-2.06-.94 2.06-2.06.94z\"/><path d=\"M17.41 7.96l-1.37-1.37c-.4-.4-.92-.59-1.43-.59-.52 0-1.04.2-1.43.59L10.3 9.45l-7.72 7.72c-.78.78-.78 2.05 0 2.83L4 21.41c.39.39.9.59 1.41.59.51 0 1.02-.2 1.41-.59l7.78-7.78 2.81-2.81c.8-.78.8-2.07 0-2.86zM5.41 20L4 18.59l7.72-7.72 1.47 1.35L5.41 20z\"/>\n",
              "  </svg>\n",
              "      </button>\n",
              "      \n",
              "  <style>\n",
              "    .colab-df-container {\n",
              "      display:flex;\n",
              "      flex-wrap:wrap;\n",
              "      gap: 12px;\n",
              "    }\n",
              "\n",
              "    .colab-df-convert {\n",
              "      background-color: #E8F0FE;\n",
              "      border: none;\n",
              "      border-radius: 50%;\n",
              "      cursor: pointer;\n",
              "      display: none;\n",
              "      fill: #1967D2;\n",
              "      height: 32px;\n",
              "      padding: 0 0 0 0;\n",
              "      width: 32px;\n",
              "    }\n",
              "\n",
              "    .colab-df-convert:hover {\n",
              "      background-color: #E2EBFA;\n",
              "      box-shadow: 0px 1px 2px rgba(60, 64, 67, 0.3), 0px 1px 3px 1px rgba(60, 64, 67, 0.15);\n",
              "      fill: #174EA6;\n",
              "    }\n",
              "\n",
              "    [theme=dark] .colab-df-convert {\n",
              "      background-color: #3B4455;\n",
              "      fill: #D2E3FC;\n",
              "    }\n",
              "\n",
              "    [theme=dark] .colab-df-convert:hover {\n",
              "      background-color: #434B5C;\n",
              "      box-shadow: 0px 1px 3px 1px rgba(0, 0, 0, 0.15);\n",
              "      filter: drop-shadow(0px 1px 2px rgba(0, 0, 0, 0.3));\n",
              "      fill: #FFFFFF;\n",
              "    }\n",
              "  </style>\n",
              "\n",
              "      <script>\n",
              "        const buttonEl =\n",
              "          document.querySelector('#df-ad311592-4c27-47ee-87ce-d84690370b95 button.colab-df-convert');\n",
              "        buttonEl.style.display =\n",
              "          google.colab.kernel.accessAllowed ? 'block' : 'none';\n",
              "\n",
              "        async function convertToInteractive(key) {\n",
              "          const element = document.querySelector('#df-ad311592-4c27-47ee-87ce-d84690370b95');\n",
              "          const dataTable =\n",
              "            await google.colab.kernel.invokeFunction('convertToInteractive',\n",
              "                                                     [key], {});\n",
              "          if (!dataTable) return;\n",
              "\n",
              "          const docLinkHtml = 'Like what you see? Visit the ' +\n",
              "            '<a target=\"_blank\" href=https://colab.research.google.com/notebooks/data_table.ipynb>data table notebook</a>'\n",
              "            + ' to learn more about interactive tables.';\n",
              "          element.innerHTML = '';\n",
              "          dataTable['output_type'] = 'display_data';\n",
              "          await google.colab.output.renderOutput(dataTable, element);\n",
              "          const docLink = document.createElement('div');\n",
              "          docLink.innerHTML = docLinkHtml;\n",
              "          element.appendChild(docLink);\n",
              "        }\n",
              "      </script>\n",
              "    </div>\n",
              "  </div>\n",
              "  "
            ]
          },
          "metadata": {},
          "execution_count": 50
        }
      ],
      "source": [
        "df.head()"
      ]
    },
    {
      "cell_type": "code",
      "execution_count": 51,
      "metadata": {
        "id": "nyLJUT5NyrPL"
      },
      "outputs": [],
      "source": [
        "data = df.groupby(['month', 'day'])['births'].mean().reset_index()"
      ]
    },
    {
      "cell_type": "code",
      "execution_count": 52,
      "metadata": {
        "colab": {
          "base_uri": "https://localhost:8080/",
          "height": 424
        },
        "id": "nOiducxbyrPL",
        "outputId": "7228ec83-14de-47b5-b810-148dfdf96f4e"
      },
      "outputs": [
        {
          "output_type": "execute_result",
          "data": {
            "text/plain": [
              "     month   day       births\n",
              "0        1   1.0  4009.225000\n",
              "1        1   2.0  4247.400000\n",
              "2        1   3.0  4500.900000\n",
              "3        1   4.0  4571.350000\n",
              "4        1   5.0  4603.625000\n",
              "..     ...   ...          ...\n",
              "379     12  28.0  5044.200000\n",
              "380     12  29.0  5120.150000\n",
              "381     12  30.0  5172.350000\n",
              "382     12  31.0  4859.200000\n",
              "383     12  99.0    25.392857\n",
              "\n",
              "[384 rows x 3 columns]"
            ],
            "text/html": [
              "\n",
              "  <div id=\"df-1bf11d36-c138-4443-af8a-2b210bac56a3\">\n",
              "    <div class=\"colab-df-container\">\n",
              "      <div>\n",
              "<style scoped>\n",
              "    .dataframe tbody tr th:only-of-type {\n",
              "        vertical-align: middle;\n",
              "    }\n",
              "\n",
              "    .dataframe tbody tr th {\n",
              "        vertical-align: top;\n",
              "    }\n",
              "\n",
              "    .dataframe thead th {\n",
              "        text-align: right;\n",
              "    }\n",
              "</style>\n",
              "<table border=\"1\" class=\"dataframe\">\n",
              "  <thead>\n",
              "    <tr style=\"text-align: right;\">\n",
              "      <th></th>\n",
              "      <th>month</th>\n",
              "      <th>day</th>\n",
              "      <th>births</th>\n",
              "    </tr>\n",
              "  </thead>\n",
              "  <tbody>\n",
              "    <tr>\n",
              "      <th>0</th>\n",
              "      <td>1</td>\n",
              "      <td>1.0</td>\n",
              "      <td>4009.225000</td>\n",
              "    </tr>\n",
              "    <tr>\n",
              "      <th>1</th>\n",
              "      <td>1</td>\n",
              "      <td>2.0</td>\n",
              "      <td>4247.400000</td>\n",
              "    </tr>\n",
              "    <tr>\n",
              "      <th>2</th>\n",
              "      <td>1</td>\n",
              "      <td>3.0</td>\n",
              "      <td>4500.900000</td>\n",
              "    </tr>\n",
              "    <tr>\n",
              "      <th>3</th>\n",
              "      <td>1</td>\n",
              "      <td>4.0</td>\n",
              "      <td>4571.350000</td>\n",
              "    </tr>\n",
              "    <tr>\n",
              "      <th>4</th>\n",
              "      <td>1</td>\n",
              "      <td>5.0</td>\n",
              "      <td>4603.625000</td>\n",
              "    </tr>\n",
              "    <tr>\n",
              "      <th>...</th>\n",
              "      <td>...</td>\n",
              "      <td>...</td>\n",
              "      <td>...</td>\n",
              "    </tr>\n",
              "    <tr>\n",
              "      <th>379</th>\n",
              "      <td>12</td>\n",
              "      <td>28.0</td>\n",
              "      <td>5044.200000</td>\n",
              "    </tr>\n",
              "    <tr>\n",
              "      <th>380</th>\n",
              "      <td>12</td>\n",
              "      <td>29.0</td>\n",
              "      <td>5120.150000</td>\n",
              "    </tr>\n",
              "    <tr>\n",
              "      <th>381</th>\n",
              "      <td>12</td>\n",
              "      <td>30.0</td>\n",
              "      <td>5172.350000</td>\n",
              "    </tr>\n",
              "    <tr>\n",
              "      <th>382</th>\n",
              "      <td>12</td>\n",
              "      <td>31.0</td>\n",
              "      <td>4859.200000</td>\n",
              "    </tr>\n",
              "    <tr>\n",
              "      <th>383</th>\n",
              "      <td>12</td>\n",
              "      <td>99.0</td>\n",
              "      <td>25.392857</td>\n",
              "    </tr>\n",
              "  </tbody>\n",
              "</table>\n",
              "<p>384 rows × 3 columns</p>\n",
              "</div>\n",
              "      <button class=\"colab-df-convert\" onclick=\"convertToInteractive('df-1bf11d36-c138-4443-af8a-2b210bac56a3')\"\n",
              "              title=\"Convert this dataframe to an interactive table.\"\n",
              "              style=\"display:none;\">\n",
              "        \n",
              "  <svg xmlns=\"http://www.w3.org/2000/svg\" height=\"24px\"viewBox=\"0 0 24 24\"\n",
              "       width=\"24px\">\n",
              "    <path d=\"M0 0h24v24H0V0z\" fill=\"none\"/>\n",
              "    <path d=\"M18.56 5.44l.94 2.06.94-2.06 2.06-.94-2.06-.94-.94-2.06-.94 2.06-2.06.94zm-11 1L8.5 8.5l.94-2.06 2.06-.94-2.06-.94L8.5 2.5l-.94 2.06-2.06.94zm10 10l.94 2.06.94-2.06 2.06-.94-2.06-.94-.94-2.06-.94 2.06-2.06.94z\"/><path d=\"M17.41 7.96l-1.37-1.37c-.4-.4-.92-.59-1.43-.59-.52 0-1.04.2-1.43.59L10.3 9.45l-7.72 7.72c-.78.78-.78 2.05 0 2.83L4 21.41c.39.39.9.59 1.41.59.51 0 1.02-.2 1.41-.59l7.78-7.78 2.81-2.81c.8-.78.8-2.07 0-2.86zM5.41 20L4 18.59l7.72-7.72 1.47 1.35L5.41 20z\"/>\n",
              "  </svg>\n",
              "      </button>\n",
              "      \n",
              "  <style>\n",
              "    .colab-df-container {\n",
              "      display:flex;\n",
              "      flex-wrap:wrap;\n",
              "      gap: 12px;\n",
              "    }\n",
              "\n",
              "    .colab-df-convert {\n",
              "      background-color: #E8F0FE;\n",
              "      border: none;\n",
              "      border-radius: 50%;\n",
              "      cursor: pointer;\n",
              "      display: none;\n",
              "      fill: #1967D2;\n",
              "      height: 32px;\n",
              "      padding: 0 0 0 0;\n",
              "      width: 32px;\n",
              "    }\n",
              "\n",
              "    .colab-df-convert:hover {\n",
              "      background-color: #E2EBFA;\n",
              "      box-shadow: 0px 1px 2px rgba(60, 64, 67, 0.3), 0px 1px 3px 1px rgba(60, 64, 67, 0.15);\n",
              "      fill: #174EA6;\n",
              "    }\n",
              "\n",
              "    [theme=dark] .colab-df-convert {\n",
              "      background-color: #3B4455;\n",
              "      fill: #D2E3FC;\n",
              "    }\n",
              "\n",
              "    [theme=dark] .colab-df-convert:hover {\n",
              "      background-color: #434B5C;\n",
              "      box-shadow: 0px 1px 3px 1px rgba(0, 0, 0, 0.15);\n",
              "      filter: drop-shadow(0px 1px 2px rgba(0, 0, 0, 0.3));\n",
              "      fill: #FFFFFF;\n",
              "    }\n",
              "  </style>\n",
              "\n",
              "      <script>\n",
              "        const buttonEl =\n",
              "          document.querySelector('#df-1bf11d36-c138-4443-af8a-2b210bac56a3 button.colab-df-convert');\n",
              "        buttonEl.style.display =\n",
              "          google.colab.kernel.accessAllowed ? 'block' : 'none';\n",
              "\n",
              "        async function convertToInteractive(key) {\n",
              "          const element = document.querySelector('#df-1bf11d36-c138-4443-af8a-2b210bac56a3');\n",
              "          const dataTable =\n",
              "            await google.colab.kernel.invokeFunction('convertToInteractive',\n",
              "                                                     [key], {});\n",
              "          if (!dataTable) return;\n",
              "\n",
              "          const docLinkHtml = 'Like what you see? Visit the ' +\n",
              "            '<a target=\"_blank\" href=https://colab.research.google.com/notebooks/data_table.ipynb>data table notebook</a>'\n",
              "            + ' to learn more about interactive tables.';\n",
              "          element.innerHTML = '';\n",
              "          dataTable['output_type'] = 'display_data';\n",
              "          await google.colab.output.renderOutput(dataTable, element);\n",
              "          const docLink = document.createElement('div');\n",
              "          docLink.innerHTML = docLinkHtml;\n",
              "          element.appendChild(docLink);\n",
              "        }\n",
              "      </script>\n",
              "    </div>\n",
              "  </div>\n",
              "  "
            ]
          },
          "metadata": {},
          "execution_count": 52
        }
      ],
      "source": [
        "data"
      ]
    },
    {
      "cell_type": "code",
      "execution_count": 53,
      "metadata": {
        "id": "67nhY3VDyrPM"
      },
      "outputs": [],
      "source": [
        "data['births'] = data['births'].astype('int')"
      ]
    },
    {
      "cell_type": "code",
      "execution_count": 54,
      "metadata": {
        "colab": {
          "base_uri": "https://localhost:8080/",
          "height": 424
        },
        "id": "VhPmZglMyrPN",
        "outputId": "1c0fed19-c684-4de4-d94c-9f038b98e3f0"
      },
      "outputs": [
        {
          "output_type": "execute_result",
          "data": {
            "text/plain": [
              "     month   day  births\n",
              "0        1   1.0    4009\n",
              "1        1   2.0    4247\n",
              "2        1   3.0    4500\n",
              "3        1   4.0    4571\n",
              "4        1   5.0    4603\n",
              "..     ...   ...     ...\n",
              "379     12  28.0    5044\n",
              "380     12  29.0    5120\n",
              "381     12  30.0    5172\n",
              "382     12  31.0    4859\n",
              "383     12  99.0      25\n",
              "\n",
              "[384 rows x 3 columns]"
            ],
            "text/html": [
              "\n",
              "  <div id=\"df-5419b677-5636-4380-9b2b-5b22733644b8\">\n",
              "    <div class=\"colab-df-container\">\n",
              "      <div>\n",
              "<style scoped>\n",
              "    .dataframe tbody tr th:only-of-type {\n",
              "        vertical-align: middle;\n",
              "    }\n",
              "\n",
              "    .dataframe tbody tr th {\n",
              "        vertical-align: top;\n",
              "    }\n",
              "\n",
              "    .dataframe thead th {\n",
              "        text-align: right;\n",
              "    }\n",
              "</style>\n",
              "<table border=\"1\" class=\"dataframe\">\n",
              "  <thead>\n",
              "    <tr style=\"text-align: right;\">\n",
              "      <th></th>\n",
              "      <th>month</th>\n",
              "      <th>day</th>\n",
              "      <th>births</th>\n",
              "    </tr>\n",
              "  </thead>\n",
              "  <tbody>\n",
              "    <tr>\n",
              "      <th>0</th>\n",
              "      <td>1</td>\n",
              "      <td>1.0</td>\n",
              "      <td>4009</td>\n",
              "    </tr>\n",
              "    <tr>\n",
              "      <th>1</th>\n",
              "      <td>1</td>\n",
              "      <td>2.0</td>\n",
              "      <td>4247</td>\n",
              "    </tr>\n",
              "    <tr>\n",
              "      <th>2</th>\n",
              "      <td>1</td>\n",
              "      <td>3.0</td>\n",
              "      <td>4500</td>\n",
              "    </tr>\n",
              "    <tr>\n",
              "      <th>3</th>\n",
              "      <td>1</td>\n",
              "      <td>4.0</td>\n",
              "      <td>4571</td>\n",
              "    </tr>\n",
              "    <tr>\n",
              "      <th>4</th>\n",
              "      <td>1</td>\n",
              "      <td>5.0</td>\n",
              "      <td>4603</td>\n",
              "    </tr>\n",
              "    <tr>\n",
              "      <th>...</th>\n",
              "      <td>...</td>\n",
              "      <td>...</td>\n",
              "      <td>...</td>\n",
              "    </tr>\n",
              "    <tr>\n",
              "      <th>379</th>\n",
              "      <td>12</td>\n",
              "      <td>28.0</td>\n",
              "      <td>5044</td>\n",
              "    </tr>\n",
              "    <tr>\n",
              "      <th>380</th>\n",
              "      <td>12</td>\n",
              "      <td>29.0</td>\n",
              "      <td>5120</td>\n",
              "    </tr>\n",
              "    <tr>\n",
              "      <th>381</th>\n",
              "      <td>12</td>\n",
              "      <td>30.0</td>\n",
              "      <td>5172</td>\n",
              "    </tr>\n",
              "    <tr>\n",
              "      <th>382</th>\n",
              "      <td>12</td>\n",
              "      <td>31.0</td>\n",
              "      <td>4859</td>\n",
              "    </tr>\n",
              "    <tr>\n",
              "      <th>383</th>\n",
              "      <td>12</td>\n",
              "      <td>99.0</td>\n",
              "      <td>25</td>\n",
              "    </tr>\n",
              "  </tbody>\n",
              "</table>\n",
              "<p>384 rows × 3 columns</p>\n",
              "</div>\n",
              "      <button class=\"colab-df-convert\" onclick=\"convertToInteractive('df-5419b677-5636-4380-9b2b-5b22733644b8')\"\n",
              "              title=\"Convert this dataframe to an interactive table.\"\n",
              "              style=\"display:none;\">\n",
              "        \n",
              "  <svg xmlns=\"http://www.w3.org/2000/svg\" height=\"24px\"viewBox=\"0 0 24 24\"\n",
              "       width=\"24px\">\n",
              "    <path d=\"M0 0h24v24H0V0z\" fill=\"none\"/>\n",
              "    <path d=\"M18.56 5.44l.94 2.06.94-2.06 2.06-.94-2.06-.94-.94-2.06-.94 2.06-2.06.94zm-11 1L8.5 8.5l.94-2.06 2.06-.94-2.06-.94L8.5 2.5l-.94 2.06-2.06.94zm10 10l.94 2.06.94-2.06 2.06-.94-2.06-.94-.94-2.06-.94 2.06-2.06.94z\"/><path d=\"M17.41 7.96l-1.37-1.37c-.4-.4-.92-.59-1.43-.59-.52 0-1.04.2-1.43.59L10.3 9.45l-7.72 7.72c-.78.78-.78 2.05 0 2.83L4 21.41c.39.39.9.59 1.41.59.51 0 1.02-.2 1.41-.59l7.78-7.78 2.81-2.81c.8-.78.8-2.07 0-2.86zM5.41 20L4 18.59l7.72-7.72 1.47 1.35L5.41 20z\"/>\n",
              "  </svg>\n",
              "      </button>\n",
              "      \n",
              "  <style>\n",
              "    .colab-df-container {\n",
              "      display:flex;\n",
              "      flex-wrap:wrap;\n",
              "      gap: 12px;\n",
              "    }\n",
              "\n",
              "    .colab-df-convert {\n",
              "      background-color: #E8F0FE;\n",
              "      border: none;\n",
              "      border-radius: 50%;\n",
              "      cursor: pointer;\n",
              "      display: none;\n",
              "      fill: #1967D2;\n",
              "      height: 32px;\n",
              "      padding: 0 0 0 0;\n",
              "      width: 32px;\n",
              "    }\n",
              "\n",
              "    .colab-df-convert:hover {\n",
              "      background-color: #E2EBFA;\n",
              "      box-shadow: 0px 1px 2px rgba(60, 64, 67, 0.3), 0px 1px 3px 1px rgba(60, 64, 67, 0.15);\n",
              "      fill: #174EA6;\n",
              "    }\n",
              "\n",
              "    [theme=dark] .colab-df-convert {\n",
              "      background-color: #3B4455;\n",
              "      fill: #D2E3FC;\n",
              "    }\n",
              "\n",
              "    [theme=dark] .colab-df-convert:hover {\n",
              "      background-color: #434B5C;\n",
              "      box-shadow: 0px 1px 3px 1px rgba(0, 0, 0, 0.15);\n",
              "      filter: drop-shadow(0px 1px 2px rgba(0, 0, 0, 0.3));\n",
              "      fill: #FFFFFF;\n",
              "    }\n",
              "  </style>\n",
              "\n",
              "      <script>\n",
              "        const buttonEl =\n",
              "          document.querySelector('#df-5419b677-5636-4380-9b2b-5b22733644b8 button.colab-df-convert');\n",
              "        buttonEl.style.display =\n",
              "          google.colab.kernel.accessAllowed ? 'block' : 'none';\n",
              "\n",
              "        async function convertToInteractive(key) {\n",
              "          const element = document.querySelector('#df-5419b677-5636-4380-9b2b-5b22733644b8');\n",
              "          const dataTable =\n",
              "            await google.colab.kernel.invokeFunction('convertToInteractive',\n",
              "                                                     [key], {});\n",
              "          if (!dataTable) return;\n",
              "\n",
              "          const docLinkHtml = 'Like what you see? Visit the ' +\n",
              "            '<a target=\"_blank\" href=https://colab.research.google.com/notebooks/data_table.ipynb>data table notebook</a>'\n",
              "            + ' to learn more about interactive tables.';\n",
              "          element.innerHTML = '';\n",
              "          dataTable['output_type'] = 'display_data';\n",
              "          await google.colab.output.renderOutput(dataTable, element);\n",
              "          const docLink = document.createElement('div');\n",
              "          docLink.innerHTML = docLinkHtml;\n",
              "          element.appendChild(docLink);\n",
              "        }\n",
              "      </script>\n",
              "    </div>\n",
              "  </div>\n",
              "  "
            ]
          },
          "metadata": {},
          "execution_count": 54
        }
      ],
      "source": [
        "data"
      ]
    },
    {
      "cell_type": "code",
      "execution_count": 55,
      "metadata": {
        "id": "ifHsBYHayrPN"
      },
      "outputs": [],
      "source": [
        "data['month'] = data['month'].map({1:'Jan', 2:'Feb', 3:'Mar', 4:'Apr', 5:'May', 6:'June', 7:'Jul', 8:'Aug', 9:'Sep', 10:'Oct', 11:'Nov', 12:'Dec'})"
      ]
    },
    {
      "cell_type": "code",
      "execution_count": 56,
      "metadata": {
        "colab": {
          "base_uri": "https://localhost:8080/",
          "height": 350
        },
        "id": "HzYIranKyrPO",
        "outputId": "78210c25-b571-4f11-bd9f-80822ffdfe20"
      },
      "outputs": [
        {
          "output_type": "stream",
          "name": "stderr",
          "text": [
            "/usr/local/lib/python3.7/dist-packages/seaborn/_decorators.py:43: FutureWarning: Pass the following variable as a keyword arg: x. From version 0.12, the only valid positional argument will be `data`, and passing other arguments without an explicit keyword will result in an error or misinterpretation.\n",
            "  FutureWarning\n"
          ]
        },
        {
          "output_type": "display_data",
          "data": {
            "text/plain": [
              "<Figure size 864x288 with 1 Axes>"
            ],
            "image/png": "[encoded data removed]"
          },
          "metadata": {
            "needs_background": "light"
          }
        }
      ],
      "source": [
        "fig, ax = plt.subplots(figsize=(12,4))\n",
        "sns.lineplot(data['month'], y=data['births'])\n",
        "plt.grid(True)\n",
        "plt.title(\"USA Births from 1970 to 2007\")\n",
        "plt.show()"
      ]
    },
    {
      "cell_type": "markdown",
      "metadata": {
        "id": "Ysl4eAcsyrPO"
      },
      "source": [
        "<span style='background:yellow'>**Question 2 (100 pt).**</span> Write a python program to evaluate the text classification performance using accuracy, precision, recall, and f1 score. \n",
        "\n",
        "Accuracy = (TP + TN) / (TP+ TN+ FP+ FN)\n",
        "\n",
        "Recall = (TP) / (TP+FN)\n",
        "\n",
        "Precision = (TP) / (TP+FP)\n",
        "\n",
        "F1 Score = (2*Precision*Recall) / (Precision + Recall)\n",
        "\n",
        "Here is the confusion matrix of a text classfication task (six categories) on the testing data. \n"
      ]
    },
    {
      "cell_type": "code",
      "execution_count": 57,
      "metadata": {
        "id": "uyTodGgOyrPP"
      },
      "outputs": [],
      "source": [
        "#### You code here\n",
        "import numpy as np"
      ]
    },
    {
      "cell_type": "code",
      "execution_count": 58,
      "metadata": {
        "id": "MModwvpPyrPP"
      },
      "outputs": [],
      "source": [
        "conf_matrix = np.array([[157,46,25,22,15,3],\n",
        "              [28,151,45,18,1,6],\n",
        "              [11,38,135,14,3,7],\n",
        "              [11,15,18,70,6,4],\n",
        "              [14,12,14,7,56,2],\n",
        "              [12,7,6,5,5,16]])"
      ]
    },
    {
      "cell_type": "code",
      "execution_count": 59,
      "metadata": {
        "colab": {
          "base_uri": "https://localhost:8080/"
        },
        "id": "9YLMrZbnyrPQ",
        "outputId": "49d4089b-ff28-4b4f-be8d-c689bfd24409"
      },
      "outputs": [
        {
          "output_type": "stream",
          "name": "stdout",
          "text": [
            "Accuracy of class0 : 0.8139303482587065\n",
            "Precision of class0 : 0.585820895522388\n",
            "Recall of class0 : 0.6738197424892703\n",
            "F1-Score of class0 : 0.626746506986028\n",
            " \n",
            "#####################################\n",
            "Accuracy of class1 : 0.7850746268656716\n",
            "Precision of class1 : 0.606425702811245\n",
            "Recall of class1 : 0.5613382899628253\n",
            "F1-Score of class1 : 0.583011583011583\n",
            " \n",
            "#####################################\n",
            "Accuracy of class2 : 0.8199004975124378\n",
            "Precision of class2 : 0.6490384615384616\n",
            "Recall of class2 : 0.5555555555555556\n",
            "F1-Score of class2 : 0.598669623059867\n",
            " \n",
            "#####################################\n",
            "Accuracy of class3 : 0.8805970149253731\n",
            "Precision of class3 : 0.5645161290322581\n",
            "Recall of class3 : 0.5147058823529411\n",
            "F1-Score of class3 : 0.5384615384615384\n",
            " \n",
            "#####################################\n",
            "Accuracy of class4 : 0.9213930348258706\n",
            "Precision of class4 : 0.5333333333333333\n",
            "Recall of class4 : 0.6511627906976745\n",
            "F1-Score of class4 : 0.5863874345549738\n",
            " \n",
            "#####################################\n",
            "Accuracy of class5 : 0.9432835820895522\n",
            "Precision of class5 : 0.3137254901960784\n",
            "Recall of class5 : 0.42105263157894735\n",
            "F1-Score of class5 : 0.3595505617977528\n",
            " \n",
            "#####################################\n"
          ]
        }
      ],
      "source": [
        "for i in range(len(conf_matrix)):\n",
        "    \n",
        "    accuracy = 0\n",
        "    precision = 0\n",
        "    recall = 0\n",
        "    f1_score = 0\n",
        "    \n",
        "    TP = conf_matrix[i,i]\n",
        "    FP = conf_matrix[i,:].sum() - TP\n",
        "    FN = conf_matrix[:,i].sum() - TP\n",
        "    TN = conf_matrix.sum().sum() - (TP+FP+FN)\n",
        "    \n",
        "    accuracy = (TP+TN)/conf_matrix.sum().sum()\n",
        "    precision = TP/(TP+FP)\n",
        "    recall = TP/(TP+FN)\n",
        "    f1_score = 2*precision*recall/(precision+recall)\n",
        "    \n",
        "    print('Accuracy of class{} : {}'.format(i, accuracy))\n",
        "    print('Precision of class{} : {}'.format(i, precision))\n",
        "    print('Recall of class{} : {}'.format(i, recall))\n",
        "    print('F1-Score of class{} : {}'.format(i, f1_score))\n",
        "    print(\" \")\n",
        "    print(\"#####################################\")\n"
      ]
    },
    {
      "cell_type": "code",
      "execution_count": 60,
      "metadata": {
        "id": "stOr8KTvyrPR"
      },
      "outputs": [],
      "source": [
        "#### You code here\n",
        "def accuracy(arr):\n",
        "    return np.round(np.sum(np.diagonal(test_confusion_matrix)) / np.sum(test_confusion_matrix), 2)\n",
        "    \n",
        "def recall(arr):\n",
        "    return test_confusion_matrix.T[0][0] / np.sum(test_confusion_matrix.T[0][1:])\n",
        "\n",
        "def precision(arr):\n",
        "    return test_confusion_matrix[0][0] / np.sum(test_confusion_matrix[0][1:])\n",
        "\n",
        "def f1_score(arr):\n",
        "    precision_val = precision(arr)\n",
        "    recall_val = recall(arr)\n",
        "    return (2 * precision_val * recall_val) / (precision_val + recall_val)\n",
        "\n",
        "\n",
        "def text_classification_performance(conf_arr):\n",
        "    return {'Accuracy': accuracy(conf_arr), 'Recall':recall(conf_arr), 'Precision':precision(conf_arr), 'F1 Score':f1_score(conf_arr)}"
      ]
    },
    {
      "cell_type": "code",
      "execution_count": 61,
      "metadata": {
        "id": "8TLzI4VHyrPR"
      },
      "outputs": [],
      "source": [
        "test_confusion_matrix = np.array([[157, 46, 25, 22, 15, 3], [28, 151, 45, 18, 1, 6], [11, 38, 135, 14, 3, 7], [11, 15, 18, 70, 6, 4], [14, 12, 14, 7, 56, 2], [12, 7, 6, 5, 5, 16]])"
      ]
    },
    {
      "cell_type": "code",
      "execution_count": 62,
      "metadata": {
        "colab": {
          "base_uri": "https://localhost:8080/"
        },
        "id": "th1P_IOvyrPR",
        "outputId": "2e2e5efd-e073-4151-a824-4e911d77f609"
      },
      "outputs": [
        {
          "output_type": "execute_result",
          "data": {
            "text/plain": [
              "{'Accuracy': 0.58,\n",
              " 'F1 Score': 1.6791443850267378,\n",
              " 'Precision': 1.4144144144144144,\n",
              " 'Recall': 2.0657894736842106}"
            ]
          },
          "metadata": {},
          "execution_count": 62
        }
      ],
      "source": [
        "text_classification_performance(test_confusion_matrix)"
      ]
    },
    {
      "cell_type": "markdown",
      "metadata": {
        "id": "nKxsqzf4yrPS"
      },
      "source": [
        "<span style='background:yellow'>**Question 3 (200 pt).**</span> \n",
        "\n",
        "Part A: Given Inetd dataset, an intrusion detection dataset that contains 2 columns. The first column represents a process ID number (PID) and the second column represents a system call. The goal is to extract the entire system call sequence by its PID, then tokenize and parse each sequence into 25-grams. After this, we’ll split the data into training and testing sets. Next, we ensure data quality in the training dataset by removing duplicate sequences within each class and overlapped sequences between both classes. To ensure a fair evaluation, we also clean the testing set by repeating the previous step. You will implement a Decision Tree model to train and test on the training set and testing set that we just clean. \n",
        "\n",
        "\n",
        "Part B: As the data type is sequential, we want to know how similar the sequences from both classes are and visualize how the similarity scores vary in different sequence lengths. Compute a cosine similarity score of 100 random pairs from both classes and get a median cosine similarity. Repeat this step in different sequence lengths (5, 10, 15, and 20). Plot a line chart to visualize how the median cosine similarities vary through sequence lengths of 5 to 25. \n",
        "\n",
        "You can download the datasets from github: https://github.com/unt-iialab/info5502-spring2022/tree/main/finalexam/q4\n",
        "\n",
        "\n",
        "Step by step instructions and questions:\n",
        "\n",
        "(1)(30 points) Attached are the Normal and Intrusion data folders. Read in the data and store them in two separate dataframes. Combine the system calls (the second column) from the same PID (the first column) into a sequence or a string. \n",
        "\n",
        "(2)(30 points) Parse an entire sequence into smaller sequences of size 25. (Hint: Use word_tokenize and ngrams from nltk library to parse).\n",
        "\n",
        "(3)(30 points) Add labels to the data, and partition the labeled data into training data and testing data with a ratio of 70/30.\n",
        "\n",
        "(4)(30 points) As the dataset has a lot of duplicate sequences, make sure that the testing data only contain unique sequences and that these sequences do not exist in the training data. Condense training data and testing data into two sets. Take the difference between the testing set and training set to remove the overlapped sequences from the testing data. \n",
        "\n",
        "(5)(30 points) The sequences from each class can be repetitive, and some of these sequences may have different labels. Therefore, we need to remove the duplicate sequences within each class and the overlapped sequences from the Intrusion class. Start out by separating the Normal class and Intrusion class in both training and testing data. Use the same concept in Question 4 to remove duplicate sequences and overlapped sequences from the training data.\n",
        "\n",
        "\n",
        "(6)(50 points) Bootstrap the training data to get the same number of sequences from each class. Train and evaluate a Decision Tree model using the training data and testing data that we just clean. How is the performance?\n"
      ]
    },
    {
      "cell_type": "code",
      "execution_count": 63,
      "metadata": {
        "id": "D-BsvxKUyrPY"
      },
      "outputs": [],
      "source": [
        "#### You code here\n",
        "import numpy as np\n",
        "import pandas as pd\n",
        "import matplotlib.pyplot as plt\n",
        "import seaborn as sns"
      ]
    },
    {
      "cell_type": "code",
      "execution_count": 64,
      "metadata": {
        "id": "-U0ybT_ryrPY"
      },
      "outputs": [],
      "source": [
        "# load data from git\n",
        "df_intrude = pd.read_csv(\"https://raw.githubusercontent.com/unt-iialab/info5502-spring2022/main/finalexam/q4/inetd-intrusion.int\", sep = \" \", header = None)\n",
        "df_normal = pd.read_csv(\"https://raw.githubusercontent.com/unt-iialab/info5502-spring2022/main/finalexam/q4/inetd-normal.int\", sep = \" \", header = None)"
      ]
    },
    {
      "cell_type": "code",
      "execution_count": 65,
      "metadata": {
        "id": "Mlu0bt9LyrPZ"
      },
      "outputs": [],
      "source": [
        "# setting column names\n",
        "df_intrude.columns = ['PID', 'System_call']\n",
        "df_normal.columns = ['PID', 'System_call']"
      ]
    },
    {
      "cell_type": "code",
      "execution_count": 66,
      "metadata": {
        "colab": {
          "base_uri": "https://localhost:8080/"
        },
        "id": "5iUcErtKyrPZ",
        "outputId": "a7d0fc19-6a39-42b0-cf1a-ff5bfd9f3177"
      },
      "outputs": [
        {
          "output_type": "execute_result",
          "data": {
            "text/plain": [
              "2669    266\n",
              "168     241\n",
              "167      34\n",
              "Name: PID, dtype: int64"
            ]
          },
          "metadata": {},
          "execution_count": 66
        }
      ],
      "source": [
        "df_normal['PID'].value_counts()"
      ]
    },
    {
      "cell_type": "code",
      "execution_count": 67,
      "metadata": {
        "colab": {
          "base_uri": "https://localhost:8080/",
          "height": 424
        },
        "id": "UwbzEVtcyrPa",
        "outputId": "eeb27d1a-373a-493c-a23e-a98b704e5539"
      },
      "outputs": [
        {
          "output_type": "execute_result",
          "data": {
            "text/plain": [
              "      PID  System_call\n",
              "0     167           90\n",
              "1     167          125\n",
              "2     167          125\n",
              "3     167          106\n",
              "4     167            5\n",
              "..    ...          ...\n",
              "536  2669            6\n",
              "537  2669            6\n",
              "538  2669            6\n",
              "539  2669            6\n",
              "540  2669           11\n",
              "\n",
              "[541 rows x 2 columns]"
            ],
            "text/html": [
              "\n",
              "  <div id=\"df-216a85df-b50f-4582-b590-a5f6631520c0\">\n",
              "    <div class=\"colab-df-container\">\n",
              "      <div>\n",
              "<style scoped>\n",
              "    .dataframe tbody tr th:only-of-type {\n",
              "        vertical-align: middle;\n",
              "    }\n",
              "\n",
              "    .dataframe tbody tr th {\n",
              "        vertical-align: top;\n",
              "    }\n",
              "\n",
              "    .dataframe thead th {\n",
              "        text-align: right;\n",
              "    }\n",
              "</style>\n",
              "<table border=\"1\" class=\"dataframe\">\n",
              "  <thead>\n",
              "    <tr style=\"text-align: right;\">\n",
              "      <th></th>\n",
              "      <th>PID</th>\n",
              "      <th>System_call</th>\n",
              "    </tr>\n",
              "  </thead>\n",
              "  <tbody>\n",
              "    <tr>\n",
              "      <th>0</th>\n",
              "      <td>167</td>\n",
              "      <td>90</td>\n",
              "    </tr>\n",
              "    <tr>\n",
              "      <th>1</th>\n",
              "      <td>167</td>\n",
              "      <td>125</td>\n",
              "    </tr>\n",
              "    <tr>\n",
              "      <th>2</th>\n",
              "      <td>167</td>\n",
              "      <td>125</td>\n",
              "    </tr>\n",
              "    <tr>\n",
              "      <th>3</th>\n",
              "      <td>167</td>\n",
              "      <td>106</td>\n",
              "    </tr>\n",
              "    <tr>\n",
              "      <th>4</th>\n",
              "      <td>167</td>\n",
              "      <td>5</td>\n",
              "    </tr>\n",
              "    <tr>\n",
              "      <th>...</th>\n",
              "      <td>...</td>\n",
              "      <td>...</td>\n",
              "    </tr>\n",
              "    <tr>\n",
              "      <th>536</th>\n",
              "      <td>2669</td>\n",
              "      <td>6</td>\n",
              "    </tr>\n",
              "    <tr>\n",
              "      <th>537</th>\n",
              "      <td>2669</td>\n",
              "      <td>6</td>\n",
              "    </tr>\n",
              "    <tr>\n",
              "      <th>538</th>\n",
              "      <td>2669</td>\n",
              "      <td>6</td>\n",
              "    </tr>\n",
              "    <tr>\n",
              "      <th>539</th>\n",
              "      <td>2669</td>\n",
              "      <td>6</td>\n",
              "    </tr>\n",
              "    <tr>\n",
              "      <th>540</th>\n",
              "      <td>2669</td>\n",
              "      <td>11</td>\n",
              "    </tr>\n",
              "  </tbody>\n",
              "</table>\n",
              "<p>541 rows × 2 columns</p>\n",
              "</div>\n",
              "      <button class=\"colab-df-convert\" onclick=\"convertToInteractive('df-216a85df-b50f-4582-b590-a5f6631520c0')\"\n",
              "              title=\"Convert this dataframe to an interactive table.\"\n",
              "              style=\"display:none;\">\n",
              "        \n",
              "  <svg xmlns=\"http://www.w3.org/2000/svg\" height=\"24px\"viewBox=\"0 0 24 24\"\n",
              "       width=\"24px\">\n",
              "    <path d=\"M0 0h24v24H0V0z\" fill=\"none\"/>\n",
              "    <path d=\"M18.56 5.44l.94 2.06.94-2.06 2.06-.94-2.06-.94-.94-2.06-.94 2.06-2.06.94zm-11 1L8.5 8.5l.94-2.06 2.06-.94-2.06-.94L8.5 2.5l-.94 2.06-2.06.94zm10 10l.94 2.06.94-2.06 2.06-.94-2.06-.94-.94-2.06-.94 2.06-2.06.94z\"/><path d=\"M17.41 7.96l-1.37-1.37c-.4-.4-.92-.59-1.43-.59-.52 0-1.04.2-1.43.59L10.3 9.45l-7.72 7.72c-.78.78-.78 2.05 0 2.83L4 21.41c.39.39.9.59 1.41.59.51 0 1.02-.2 1.41-.59l7.78-7.78 2.81-2.81c.8-.78.8-2.07 0-2.86zM5.41 20L4 18.59l7.72-7.72 1.47 1.35L5.41 20z\"/>\n",
              "  </svg>\n",
              "      </button>\n",
              "      \n",
              "  <style>\n",
              "    .colab-df-container {\n",
              "      display:flex;\n",
              "      flex-wrap:wrap;\n",
              "      gap: 12px;\n",
              "    }\n",
              "\n",
              "    .colab-df-convert {\n",
              "      background-color: #E8F0FE;\n",
              "      border: none;\n",
              "      border-radius: 50%;\n",
              "      cursor: pointer;\n",
              "      display: none;\n",
              "      fill: #1967D2;\n",
              "      height: 32px;\n",
              "      padding: 0 0 0 0;\n",
              "      width: 32px;\n",
              "    }\n",
              "\n",
              "    .colab-df-convert:hover {\n",
              "      background-color: #E2EBFA;\n",
              "      box-shadow: 0px 1px 2px rgba(60, 64, 67, 0.3), 0px 1px 3px 1px rgba(60, 64, 67, 0.15);\n",
              "      fill: #174EA6;\n",
              "    }\n",
              "\n",
              "    [theme=dark] .colab-df-convert {\n",
              "      background-color: #3B4455;\n",
              "      fill: #D2E3FC;\n",
              "    }\n",
              "\n",
              "    [theme=dark] .colab-df-convert:hover {\n",
              "      background-color: #434B5C;\n",
              "      box-shadow: 0px 1px 3px 1px rgba(0, 0, 0, 0.15);\n",
              "      filter: drop-shadow(0px 1px 2px rgba(0, 0, 0, 0.3));\n",
              "      fill: #FFFFFF;\n",
              "    }\n",
              "  </style>\n",
              "\n",
              "      <script>\n",
              "        const buttonEl =\n",
              "          document.querySelector('#df-216a85df-b50f-4582-b590-a5f6631520c0 button.colab-df-convert');\n",
              "        buttonEl.style.display =\n",
              "          google.colab.kernel.accessAllowed ? 'block' : 'none';\n",
              "\n",
              "        async function convertToInteractive(key) {\n",
              "          const element = document.querySelector('#df-216a85df-b50f-4582-b590-a5f6631520c0');\n",
              "          const dataTable =\n",
              "            await google.colab.kernel.invokeFunction('convertToInteractive',\n",
              "                                                     [key], {});\n",
              "          if (!dataTable) return;\n",
              "\n",
              "          const docLinkHtml = 'Like what you see? Visit the ' +\n",
              "            '<a target=\"_blank\" href=https://colab.research.google.com/notebooks/data_table.ipynb>data table notebook</a>'\n",
              "            + ' to learn more about interactive tables.';\n",
              "          element.innerHTML = '';\n",
              "          dataTable['output_type'] = 'display_data';\n",
              "          await google.colab.output.renderOutput(dataTable, element);\n",
              "          const docLink = document.createElement('div');\n",
              "          docLink.innerHTML = docLinkHtml;\n",
              "          element.appendChild(docLink);\n",
              "        }\n",
              "      </script>\n",
              "    </div>\n",
              "  </div>\n",
              "  "
            ]
          },
          "metadata": {},
          "execution_count": 67
        }
      ],
      "source": [
        "df_normal"
      ]
    },
    {
      "cell_type": "code",
      "execution_count": 68,
      "metadata": {
        "colab": {
          "base_uri": "https://localhost:8080/",
          "height": 35
        },
        "id": "2d8J_46uyrPa",
        "outputId": "3aa65c7d-7dce-41f6-91d9-9ec861609455"
      },
      "outputs": [
        {
          "output_type": "execute_result",
          "data": {
            "text/plain": [
              "'90 125 125 106 5 90 6 5 3 90 90 90 90 6 125 91 125 125 125 136 49 24 47 50 45 45 5 106 106 106 106 106 2 1'"
            ],
            "application/vnd.google.colaboratory.intrinsic+json": {
              "type": "string"
            }
          },
          "metadata": {},
          "execution_count": 68
        }
      ],
      "source": [
        "intrusion_dict = {}\n",
        "normal_dict = {}\n",
        "\n",
        "# combining system calls\n",
        "for PID in list(set(df_intrude['PID'].values)):\n",
        "    intrusion_dict[PID] = \" \".join(str(value) for value in list(df_intrude[df_intrude['PID'] == PID]['System_call'].values))\n",
        "\n",
        "for PID in list(set(df_normal['PID'].values)):\n",
        "    normal_dict[PID] = \" \".join(str(value) for value in list(df_normal[df_normal['PID'] == PID]['System_call'].values))\n",
        "\n",
        "intrusion_dict[167]"
      ]
    },
    {
      "cell_type": "code",
      "execution_count": 69,
      "metadata": {
        "colab": {
          "base_uri": "https://localhost:8080/"
        },
        "id": "K4fFDo38yrPa",
        "outputId": "5afe0c1f-a6b4-4466-ffa1-58355c52fa56"
      },
      "outputs": [
        {
          "output_type": "stream",
          "name": "stdout",
          "text": [
            "7627\n",
            "469\n"
          ]
        }
      ],
      "source": [
        "import re\n",
        "from nltk.util import ngrams\n",
        "intrusion_list = []\n",
        "normal_list = []\n",
        "\n",
        "# generating ngrams with sequence length of 25\n",
        "\n",
        "for key in intrusion_dict.keys():\n",
        "    s = intrusion_dict[key]\n",
        "    tokens = [token for token in s.split(\" \") if token != \"\"]\n",
        "    \n",
        "    for ele in list(ngrams(tokens, 25)):\n",
        "        intrusion_list.append(ele)\n",
        "        \n",
        "for key in normal_dict.keys():\n",
        "    s = normal_dict[key]\n",
        "    tokens = [token for token in s.split(\" \") if token != \"\"]\n",
        "    \n",
        "    for ele in list(ngrams(tokens, 25)):\n",
        "        normal_list.append(ele) \n",
        "\n",
        "print(len(intrusion_list))\n",
        "print(len(normal_list))"
      ]
    },
    {
      "cell_type": "code",
      "execution_count": 70,
      "metadata": {
        "colab": {
          "base_uri": "https://localhost:8080/"
        },
        "id": "CvHoDf2byrPa",
        "outputId": "7654dde7-6c3a-4436-b0bf-6f78ade159c8"
      },
      "outputs": [
        {
          "output_type": "stream",
          "name": "stdout",
          "text": [
            "(7627, 26)\n",
            "(469, 26)\n"
          ]
        }
      ],
      "source": [
        "intrusion_df = pd.DataFrame(intrusion_list)\n",
        "normal_df = pd.DataFrame(normal_list)\n",
        "\n",
        "# adding labels to intrusion and normal data sequences\n",
        "intrusion_df['class'] = 1\n",
        "normal_df['class'] = 0\n",
        "\n",
        "print(intrusion_df.shape)\n",
        "print(normal_df.shape)"
      ]
    },
    {
      "cell_type": "code",
      "execution_count": 71,
      "metadata": {
        "colab": {
          "base_uri": "https://localhost:8080/"
        },
        "id": "KG2Y8gQiyrPb",
        "outputId": "9301f3e8-823b-4a40-ce2e-4144575bf619"
      },
      "outputs": [
        {
          "output_type": "stream",
          "name": "stdout",
          "text": [
            "(8096, 26)\n"
          ]
        }
      ],
      "source": [
        "# combining intrusion and normal data frames \n",
        "\n",
        "combined_df = pd.DataFrame()\n",
        "\n",
        "combined_df = combined_df.append(intrusion_df)\n",
        "combined_df = combined_df.append(normal_df)\n",
        "\n",
        "print(combined_df.shape)"
      ]
    },
    {
      "cell_type": "code",
      "execution_count": 72,
      "metadata": {
        "colab": {
          "base_uri": "https://localhost:8080/"
        },
        "id": "mIdDTZTeyrPb",
        "outputId": "3442c346-8bbc-42bc-ac9b-bfeb20016dd2"
      },
      "outputs": [
        {
          "output_type": "execute_result",
          "data": {
            "text/plain": [
              "(333, 26)"
            ]
          },
          "metadata": {},
          "execution_count": 72
        }
      ],
      "source": [
        "# dropping duplicates...\n",
        "combined_df = combined_df.drop_duplicates(subset = combined_df.columns[:-1], keep = 'last')\n",
        "combined_df.shape"
      ]
    },
    {
      "cell_type": "code",
      "execution_count": 73,
      "metadata": {
        "colab": {
          "base_uri": "https://localhost:8080/"
        },
        "id": "bh8oybGGyrPb",
        "outputId": "65d97505-a63e-41e3-9329-aaa62f59eca1"
      },
      "outputs": [
        {
          "output_type": "execute_result",
          "data": {
            "text/plain": [
              "1    177\n",
              "0    156\n",
              "Name: class, dtype: int64"
            ]
          },
          "metadata": {},
          "execution_count": 73
        }
      ],
      "source": [
        "combined_df['class'].value_counts()"
      ]
    },
    {
      "cell_type": "code",
      "execution_count": 74,
      "metadata": {
        "colab": {
          "base_uri": "https://localhost:8080/"
        },
        "id": "ZsPtNRYHyrPb",
        "outputId": "97ff48f4-8ad4-4a08-ee68-98d6d6fb03a9"
      },
      "outputs": [
        {
          "output_type": "execute_result",
          "data": {
            "text/plain": [
              "Index([ 0,  1,  2,  3,  4,  5,  6,  7,  8,  9, 10, 11, 12, 13, 14, 15, 16, 17,\n",
              "       18, 19, 20, 21, 22, 23, 24],\n",
              "      dtype='object')"
            ]
          },
          "metadata": {},
          "execution_count": 74
        }
      ],
      "source": [
        "combined_df.columns[:-1]"
      ]
    },
    {
      "cell_type": "code",
      "execution_count": 75,
      "metadata": {
        "colab": {
          "base_uri": "https://localhost:8080/"
        },
        "id": "x5wU9sjRyrPb",
        "outputId": "438dc6ab-f64d-4ed7-d9bb-dae42d521339"
      },
      "outputs": [
        {
          "output_type": "stream",
          "name": "stdout",
          "text": [
            "              precision    recall  f1-score   support\n",
            "\n",
            "           0       0.79      0.86      0.83        22\n",
            "           1       0.93      0.89      0.91        45\n",
            "\n",
            "    accuracy                           0.88        67\n",
            "   macro avg       0.86      0.88      0.87        67\n",
            "weighted avg       0.88      0.88      0.88        67\n",
            "\n"
          ]
        }
      ],
      "source": [
        "# building a decision tree classifier\n",
        "from sklearn.tree import DecisionTreeClassifier\n",
        "from sklearn import preprocessing\n",
        "from sklearn.metrics import classification_report\n",
        "from sklearn.model_selection import train_test_split\n",
        "\n",
        "# dropping target column\n",
        "X = combined_df.drop(\"class\", axis = 1)\n",
        "y = combined_df['class']\n",
        "\n",
        "# splitting dataset\n",
        "X_train, X_valid, y_train, y_valid = train_test_split(X, y, test_size = 0.2, random_state = 0)\n",
        "\n",
        "dtclassifier = DecisionTreeClassifier(max_depth = 10)\n",
        "dtclassifier.fit(X_train, y_train)\n",
        "y_pred = dtclassifier.predict(X_valid)\n",
        "\n",
        "print(classification_report(y_valid, y_pred))"
      ]
    },
    {
      "cell_type": "code",
      "execution_count": 76,
      "metadata": {
        "colab": {
          "base_uri": "https://localhost:8080/"
        },
        "id": "CYkxOi2-yrPc",
        "outputId": "62795ac5-226e-4bb0-b953-c9c924242442"
      },
      "outputs": [
        {
          "output_type": "stream",
          "name": "stdout",
          "text": [
            "\n",
            "5 0.7693988728726081\n",
            "\n",
            "\n",
            "10 0.7080960477480411\n",
            "\n",
            "\n",
            "15 0.714204369819949\n",
            "\n",
            "\n",
            "20 0.7201673935246631\n",
            "\n",
            "\n",
            "25 0.7227560649974982\n",
            "\n"
          ]
        }
      ],
      "source": [
        "import re\n",
        "from nltk.util import ngrams\n",
        "import pandas as pd\n",
        "\n",
        "cosine_similar_ngram = {}\n",
        "\n",
        "for ngram in range(5, 26, 5):\n",
        "\n",
        "    df_intrude = pd.read_csv(\"https://raw.githubusercontent.com/unt-iialab/info5502-spring2022/main/finalexam/q4/inetd-intrusion.int\", sep = \" \", header = None)\n",
        "    df_normal = pd.read_csv(\"https://raw.githubusercontent.com/unt-iialab/info5502-spring2022/main/finalexam/q4/inetd-normal.int\", sep = \" \", header = None)\n",
        "\n",
        "    df_intrude.columns = ['PID', 'System_call']\n",
        "    df_normal.columns = ['PID', 'System_call']\n",
        "\n",
        "    intrusion_dict = {}\n",
        "    normal_dict = {}\n",
        "    \n",
        "    for PID in list(set(df_intrude['PID'].values)):\n",
        "        intrusion_dict[PID] = \" \".join(str(value) for value in list(df_intrude[df_intrude['PID'] == PID]['System_call'].values))\n",
        "\n",
        "    for PID in list(set(df_normal['PID'].values)):\n",
        "        normal_dict[PID] = \" \".join(str(value) for value in list(df_normal[df_normal['PID'] == PID]['System_call'].values))\n",
        "\n",
        "    intrusion_list = []\n",
        "    normal_list = []\n",
        "    for key in intrusion_dict.keys():\n",
        "        s = intrusion_dict[key]\n",
        "        tokens = [token for token in s.split(\" \") if token != \"\"]\n",
        "\n",
        "        for ele in list(ngrams(tokens, ngram)):\n",
        "            intrusion_list.append(ele)\n",
        "\n",
        "    for key in normal_dict.keys():\n",
        "        s = normal_dict[key]\n",
        "        tokens = [token for token in s.split(\" \") if token != \"\"]\n",
        "\n",
        "        for ele in list(ngrams(tokens, ngram)):\n",
        "            normal_list.append(ele)\n",
        "\n",
        "    intrusion_df = pd.DataFrame(intrusion_list)\n",
        "    normal_df = pd.DataFrame(normal_list)\n",
        "\n",
        "    intrusion_df['class'] = 1\n",
        "    normal_df['class'] = 0\n",
        "\n",
        "    combined_df = pd.DataFrame()\n",
        "\n",
        "    combined_df = combined_df.append(intrusion_df)\n",
        "    combined_df = combined_df.append(normal_df)\n",
        "\n",
        "    #print(combined_df.shape)\n",
        "    #print()\n",
        "\n",
        "\n",
        "    combined_df = combined_df.drop_duplicates(subset = combined_df.columns[:-1], keep = 'last')\n",
        "    #print(combined_df.shape)\n",
        "    print()\n",
        "\n",
        "    from sklearn.metrics.pairwise import cosine_similarity\n",
        "    import statistics\n",
        "\n",
        "    similarities_list = []\n",
        "    for i in range(0, 100):\n",
        "        list1 = list(combined_df[combined_df['class'] == 0].sample(n = 1).iloc[0, :].values)\n",
        "        list2 = list(combined_df[combined_df['class'] == 1].sample(n = 1).iloc[0, :].values)\n",
        "        try:\n",
        "            similarities_list.append(cosine_similarity([list1], [list2]))\n",
        "        except Exception as e:\n",
        "            print(e)\n",
        "            print(list1, list2)\n",
        "\n",
        "    print(ngram, statistics.median(similarities_list)[0][0])\n",
        "    print()\n",
        "    cosine_similar_ngram[ngram] = statistics.median(similarities_list)[0][0]"
      ]
    },
    {
      "cell_type": "code",
      "execution_count": 77,
      "metadata": {
        "colab": {
          "base_uri": "https://localhost:8080/",
          "height": 471
        },
        "id": "AE-oS49syrPc",
        "outputId": "e21f5a35-b123-4f83-e2fb-706634b9c0c7"
      },
      "outputs": [
        {
          "output_type": "display_data",
          "data": {
            "text/plain": [
              "<Figure size 720x504 with 1 Axes>"
            ],
            "image/png": "[encoded data removed]"
          },
          "metadata": {
            "needs_background": "light"
          }
        }
      ],
      "source": [
        "import matplotlib.pyplot as plt\n",
        "import seaborn as sns\n",
        "\n",
        "# creating a dataframe of cosine similarity scores...\n",
        "cosine_similar_ngram_df = pd.DataFrame({\"Ngram\":list(cosine_similar_ngram.keys()), \"Similarity_scores\": list(cosine_similar_ngram.values())})\n",
        "\n",
        "# setting the figure parameters\n",
        "plt.rcParams['figure.figsize'] = [10, 7]\n",
        "\n",
        "# we iterate through each ngram range class and plot the cosine similarity value\n",
        "sns.lineplot(x = \"Ngram\", y = \"Similarity_scores\", data = cosine_similar_ngram_df)\n",
        "    \n",
        "plt.title(\"Line chart of cosine similarity scores\")\n",
        "plt.xlabel(\"Ngram\")\n",
        "plt.ylabel(\"Cosine similarity scores\")\n",
        "plt.xticks(rotation = 90)\n",
        "plt.show()"
      ]
    },
    {
      "cell_type": "markdown",
      "metadata": {
        "id": "mQr_Q4bUyrPc"
      },
      "source": [
        "<span style='background:yellow'>**Question 4 (100 pt).**</span> In the world of business, the importance of the customers’ reviews for any product is not ignorable. The impact of customers’ reviews on customer’s decision making is significant. Therefore, businesses try to increase this impact by increasing the ratio of the positive reviews to negative reviews. One effective way to increase the ratio is offering the incentives such as small gifts or free next services to customers to post the reviews for item they purchase or used. However, it is not always the case, and customer may post their reviews without receiving or accepting the incentives. So, the reviews could be in either incentivized or non-incentivized category.\n",
        "\n",
        "\n",
        "Considering the importance of reviews, in this question you need to compare these two categories of reviews. One method to compare the effectiveness of two categories is conducting the A/B testing.\n",
        "\n",
        "\n",
        "The Software_Reviews dataset is collected from software review products, and it is combination of several small datasets. Find the dataset as an attachment on the left side of the page.\n",
        "\n",
        "\n",
        "You can downlaod the dataset from github: https://github.com/unt-iialab/info5502-spring2022/blob/main/finalexam/Software_Reviews_csv_files_S.csv\n",
        "\n",
        "(1)(50 points) Clean the dataset before you use (You need to know this dataset is combinations of the several CSV files with title rows. So, there are extra title rows in the middle of the file, which they need to be removed.)\n",
        "\n",
        "\n",
        "(2)(50 points) Apply an A/B test\": consider the “incentivized” column as main column for A & B groups.\n",
        "\n",
        "a. The “incentivized” column includes ‘NominalGift’, ‘VendorReferredIncentivized’, ‘NoIncentive’, ‘NonNominalGift’, ‘VendorReferred’, ‘None’\n",
        "\n",
        "b. Group A (Incentive): ‘NominalGift’, and ‘VendorReferredIncentivized’\n",
        "\n",
        "c. Group B (NoIncentive): ‘NoIncentive’, ‘NonNominalGift’, ‘VendorReferred’\n",
        "\n",
        "d. Make the decision if ‘None’ includes in either Group A or B or remove that.\n",
        "\n",
        "e. The “OverAllRating” is another column that is used to compare groups A and B.\n",
        "\n",
        "Which one A or B group has higher “OverAllRating”?"
      ]
    },
    {
      "cell_type": "code",
      "execution_count": 78,
      "metadata": {
        "id": "BuMsw2GbyrPd"
      },
      "outputs": [],
      "source": [
        "#### You code and your answer here here\n",
        "import numpy as np\n",
        "import pandas as pd\n",
        "import matplotlib.pyplot as plt\n",
        "import seaborn as sns\n",
        "\n",
        "from scipy.stats import norm\n"
      ]
    },
    {
      "cell_type": "code",
      "execution_count": 79,
      "metadata": {
        "id": "QO_Y-C2jyrPd"
      },
      "outputs": [],
      "source": [
        "df = pd.read_csv(\"Software_Reviews_csv_files_S.csv\")"
      ]
    },
    {
      "cell_type": "code",
      "execution_count": 80,
      "metadata": {
        "colab": {
          "base_uri": "https://localhost:8080/",
          "height": 647
        },
        "id": "sZq0HmQryrPd",
        "outputId": "118e4bae-7b9f-498a-a0fc-8f1d65bfdec9"
      },
      "outputs": [
        {
          "output_type": "execute_result",
          "data": {
            "text/plain": [
              "   Unnamed: 0 Unnamed: 0.1       id     status         global_review_id  \\\n",
              "0         0.0            0    13879  Published           GetApp___14383   \n",
              "1         1.0            1  1283833  Published  SoftwareAdvice___434035   \n",
              "2         2.0            2   841881  Published        Capterra___330384   \n",
              "3         3.0            3  1060237  Published  SoftwareAdvice___390950   \n",
              "4         4.0            4    13939  Published           GetApp___14453   \n",
              "\n",
              "  hash_global_review_id listing_id  \\\n",
              "0            f7535d1342      90666   \n",
              "1            8b72a5b935      90666   \n",
              "2            0d580775b7      90666   \n",
              "3            a36d0ef509      90666   \n",
              "4            efc7312240      90666   \n",
              "\n",
              "                                               title is_rating     score  ...  \\\n",
              "0                  The best CRM solution we've found     FALSE  4.462893  ...   \n",
              "1       Reasonable CRM software for small businesses     FALSE  4.462893  ...   \n",
              "2  Security certificate warning, basic lists inac...     FALSE  4.462893  ...   \n",
              "3  1CRM is a great started CRM for a Service Company     FALSE  4.462893  ...   \n",
              "4  Excellent business management app for the SMB ...     FALSE  4.462893  ...   \n",
              "\n",
              "  is_verified   full_name                     company_industry  \\\n",
              "0        TRUE   Marcus B.  Information Technology and Services   \n",
              "1       FALSE  Rushang D.            Marketing and Advertising   \n",
              "2       FALSE   Julian G.                    Computer Hardware   \n",
              "3       FALSE    James C.                Management Consulting   \n",
              "4        TRUE  Jacques G.                   Telecommunications   \n",
              "\n",
              "  frequency_of_use    time_used          source incentivized  \\\n",
              "0              NaN    1-2 years          GetApp          NaN   \n",
              "1            daily     2+ years  SoftwareAdvice  NominalGift   \n",
              "2            daily  6-12 months        Capterra  NominalGift   \n",
              "3            daily    1-2 years  SoftwareAdvice  NominalGift   \n",
              "4              NaN    1-2 years          GetApp          NaN   \n",
              "\n",
              "  ReviewDescription_score   Pros_score   Unnamed: 27  \n",
              "0             0.993886769  0.994333982  1.850533e+04  \n",
              "1             0.998566568   0.99880743  1.711777e+06  \n",
              "2             0.999743998  0.996420145  1.122507e+06  \n",
              "3             0.938319802  0.986604214  1.413648e+06  \n",
              "4             0.985312879  0.996334434  1.858400e+04  \n",
              "\n",
              "[5 rows x 28 columns]"
            ],
            "text/html": [
              "\n",
              "  <div id=\"df-cc0b9be0-2380-4af8-8c8b-77e9eaba568e\">\n",
              "    <div class=\"colab-df-container\">\n",
              "      <div>\n",
              "<style scoped>\n",
              "    .dataframe tbody tr th:only-of-type {\n",
              "        vertical-align: middle;\n",
              "    }\n",
              "\n",
              "    .dataframe tbody tr th {\n",
              "        vertical-align: top;\n",
              "    }\n",
              "\n",
              "    .dataframe thead th {\n",
              "        text-align: right;\n",
              "    }\n",
              "</style>\n",
              "<table border=\"1\" class=\"dataframe\">\n",
              "  <thead>\n",
              "    <tr style=\"text-align: right;\">\n",
              "      <th></th>\n",
              "      <th>Unnamed: 0</th>\n",
              "      <th>Unnamed: 0.1</th>\n",
              "      <th>id</th>\n",
              "      <th>status</th>\n",
              "      <th>global_review_id</th>\n",
              "      <th>hash_global_review_id</th>\n",
              "      <th>listing_id</th>\n",
              "      <th>title</th>\n",
              "      <th>is_rating</th>\n",
              "      <th>score</th>\n",
              "      <th>...</th>\n",
              "      <th>is_verified</th>\n",
              "      <th>full_name</th>\n",
              "      <th>company_industry</th>\n",
              "      <th>frequency_of_use</th>\n",
              "      <th>time_used</th>\n",
              "      <th>source</th>\n",
              "      <th>incentivized</th>\n",
              "      <th>ReviewDescription_score</th>\n",
              "      <th>Pros_score</th>\n",
              "      <th>Unnamed: 27</th>\n",
              "    </tr>\n",
              "  </thead>\n",
              "  <tbody>\n",
              "    <tr>\n",
              "      <th>0</th>\n",
              "      <td>0.0</td>\n",
              "      <td>0</td>\n",
              "      <td>13879</td>\n",
              "      <td>Published</td>\n",
              "      <td>GetApp___14383</td>\n",
              "      <td>f7535d1342</td>\n",
              "      <td>90666</td>\n",
              "      <td>The best CRM solution we've found</td>\n",
              "      <td>FALSE</td>\n",
              "      <td>4.462893</td>\n",
              "      <td>...</td>\n",
              "      <td>TRUE</td>\n",
              "      <td>Marcus B.</td>\n",
              "      <td>Information Technology and Services</td>\n",
              "      <td>NaN</td>\n",
              "      <td>1-2 years</td>\n",
              "      <td>GetApp</td>\n",
              "      <td>NaN</td>\n",
              "      <td>0.993886769</td>\n",
              "      <td>0.994333982</td>\n",
              "      <td>1.850533e+04</td>\n",
              "    </tr>\n",
              "    <tr>\n",
              "      <th>1</th>\n",
              "      <td>1.0</td>\n",
              "      <td>1</td>\n",
              "      <td>1283833</td>\n",
              "      <td>Published</td>\n",
              "      <td>SoftwareAdvice___434035</td>\n",
              "      <td>8b72a5b935</td>\n",
              "      <td>90666</td>\n",
              "      <td>Reasonable CRM software for small businesses</td>\n",
              "      <td>FALSE</td>\n",
              "      <td>4.462893</td>\n",
              "      <td>...</td>\n",
              "      <td>FALSE</td>\n",
              "      <td>Rushang D.</td>\n",
              "      <td>Marketing and Advertising</td>\n",
              "      <td>daily</td>\n",
              "      <td>2+ years</td>\n",
              "      <td>SoftwareAdvice</td>\n",
              "      <td>NominalGift</td>\n",
              "      <td>0.998566568</td>\n",
              "      <td>0.99880743</td>\n",
              "      <td>1.711777e+06</td>\n",
              "    </tr>\n",
              "    <tr>\n",
              "      <th>2</th>\n",
              "      <td>2.0</td>\n",
              "      <td>2</td>\n",
              "      <td>841881</td>\n",
              "      <td>Published</td>\n",
              "      <td>Capterra___330384</td>\n",
              "      <td>0d580775b7</td>\n",
              "      <td>90666</td>\n",
              "      <td>Security certificate warning, basic lists inac...</td>\n",
              "      <td>FALSE</td>\n",
              "      <td>4.462893</td>\n",
              "      <td>...</td>\n",
              "      <td>FALSE</td>\n",
              "      <td>Julian G.</td>\n",
              "      <td>Computer Hardware</td>\n",
              "      <td>daily</td>\n",
              "      <td>6-12 months</td>\n",
              "      <td>Capterra</td>\n",
              "      <td>NominalGift</td>\n",
              "      <td>0.999743998</td>\n",
              "      <td>0.996420145</td>\n",
              "      <td>1.122507e+06</td>\n",
              "    </tr>\n",
              "    <tr>\n",
              "      <th>3</th>\n",
              "      <td>3.0</td>\n",
              "      <td>3</td>\n",
              "      <td>1060237</td>\n",
              "      <td>Published</td>\n",
              "      <td>SoftwareAdvice___390950</td>\n",
              "      <td>a36d0ef509</td>\n",
              "      <td>90666</td>\n",
              "      <td>1CRM is a great started CRM for a Service Company</td>\n",
              "      <td>FALSE</td>\n",
              "      <td>4.462893</td>\n",
              "      <td>...</td>\n",
              "      <td>FALSE</td>\n",
              "      <td>James C.</td>\n",
              "      <td>Management Consulting</td>\n",
              "      <td>daily</td>\n",
              "      <td>1-2 years</td>\n",
              "      <td>SoftwareAdvice</td>\n",
              "      <td>NominalGift</td>\n",
              "      <td>0.938319802</td>\n",
              "      <td>0.986604214</td>\n",
              "      <td>1.413648e+06</td>\n",
              "    </tr>\n",
              "    <tr>\n",
              "      <th>4</th>\n",
              "      <td>4.0</td>\n",
              "      <td>4</td>\n",
              "      <td>13939</td>\n",
              "      <td>Published</td>\n",
              "      <td>GetApp___14453</td>\n",
              "      <td>efc7312240</td>\n",
              "      <td>90666</td>\n",
              "      <td>Excellent business management app for the SMB ...</td>\n",
              "      <td>FALSE</td>\n",
              "      <td>4.462893</td>\n",
              "      <td>...</td>\n",
              "      <td>TRUE</td>\n",
              "      <td>Jacques G.</td>\n",
              "      <td>Telecommunications</td>\n",
              "      <td>NaN</td>\n",
              "      <td>1-2 years</td>\n",
              "      <td>GetApp</td>\n",
              "      <td>NaN</td>\n",
              "      <td>0.985312879</td>\n",
              "      <td>0.996334434</td>\n",
              "      <td>1.858400e+04</td>\n",
              "    </tr>\n",
              "  </tbody>\n",
              "</table>\n",
              "<p>5 rows × 28 columns</p>\n",
              "</div>\n",
              "      <button class=\"colab-df-convert\" onclick=\"convertToInteractive('df-cc0b9be0-2380-4af8-8c8b-77e9eaba568e')\"\n",
              "              title=\"Convert this dataframe to an interactive table.\"\n",
              "              style=\"display:none;\">\n",
              "        \n",
              "  <svg xmlns=\"http://www.w3.org/2000/svg\" height=\"24px\"viewBox=\"0 0 24 24\"\n",
              "       width=\"24px\">\n",
              "    <path d=\"M0 0h24v24H0V0z\" fill=\"none\"/>\n",
              "    <path d=\"M18.56 5.44l.94 2.06.94-2.06 2.06-.94-2.06-.94-.94-2.06-.94 2.06-2.06.94zm-11 1L8.5 8.5l.94-2.06 2.06-.94-2.06-.94L8.5 2.5l-.94 2.06-2.06.94zm10 10l.94 2.06.94-2.06 2.06-.94-2.06-.94-.94-2.06-.94 2.06-2.06.94z\"/><path d=\"M17.41 7.96l-1.37-1.37c-.4-.4-.92-.59-1.43-.59-.52 0-1.04.2-1.43.59L10.3 9.45l-7.72 7.72c-.78.78-.78 2.05 0 2.83L4 21.41c.39.39.9.59 1.41.59.51 0 1.02-.2 1.41-.59l7.78-7.78 2.81-2.81c.8-.78.8-2.07 0-2.86zM5.41 20L4 18.59l7.72-7.72 1.47 1.35L5.41 20z\"/>\n",
              "  </svg>\n",
              "      </button>\n",
              "      \n",
              "  <style>\n",
              "    .colab-df-container {\n",
              "      display:flex;\n",
              "      flex-wrap:wrap;\n",
              "      gap: 12px;\n",
              "    }\n",
              "\n",
              "    .colab-df-convert {\n",
              "      background-color: #E8F0FE;\n",
              "      border: none;\n",
              "      border-radius: 50%;\n",
              "      cursor: pointer;\n",
              "      display: none;\n",
              "      fill: #1967D2;\n",
              "      height: 32px;\n",
              "      padding: 0 0 0 0;\n",
              "      width: 32px;\n",
              "    }\n",
              "\n",
              "    .colab-df-convert:hover {\n",
              "      background-color: #E2EBFA;\n",
              "      box-shadow: 0px 1px 2px rgba(60, 64, 67, 0.3), 0px 1px 3px 1px rgba(60, 64, 67, 0.15);\n",
              "      fill: #174EA6;\n",
              "    }\n",
              "\n",
              "    [theme=dark] .colab-df-convert {\n",
              "      background-color: #3B4455;\n",
              "      fill: #D2E3FC;\n",
              "    }\n",
              "\n",
              "    [theme=dark] .colab-df-convert:hover {\n",
              "      background-color: #434B5C;\n",
              "      box-shadow: 0px 1px 3px 1px rgba(0, 0, 0, 0.15);\n",
              "      filter: drop-shadow(0px 1px 2px rgba(0, 0, 0, 0.3));\n",
              "      fill: #FFFFFF;\n",
              "    }\n",
              "  </style>\n",
              "\n",
              "      <script>\n",
              "        const buttonEl =\n",
              "          document.querySelector('#df-cc0b9be0-2380-4af8-8c8b-77e9eaba568e button.colab-df-convert');\n",
              "        buttonEl.style.display =\n",
              "          google.colab.kernel.accessAllowed ? 'block' : 'none';\n",
              "\n",
              "        async function convertToInteractive(key) {\n",
              "          const element = document.querySelector('#df-cc0b9be0-2380-4af8-8c8b-77e9eaba568e');\n",
              "          const dataTable =\n",
              "            await google.colab.kernel.invokeFunction('convertToInteractive',\n",
              "                                                     [key], {});\n",
              "          if (!dataTable) return;\n",
              "\n",
              "          const docLinkHtml = 'Like what you see? Visit the ' +\n",
              "            '<a target=\"_blank\" href=https://colab.research.google.com/notebooks/data_table.ipynb>data table notebook</a>'\n",
              "            + ' to learn more about interactive tables.';\n",
              "          element.innerHTML = '';\n",
              "          dataTable['output_type'] = 'display_data';\n",
              "          await google.colab.output.renderOutput(dataTable, element);\n",
              "          const docLink = document.createElement('div');\n",
              "          docLink.innerHTML = docLinkHtml;\n",
              "          element.appendChild(docLink);\n",
              "        }\n",
              "      </script>\n",
              "    </div>\n",
              "  </div>\n",
              "  "
            ]
          },
          "metadata": {},
          "execution_count": 80
        }
      ],
      "source": [
        "df.head()"
      ]
    },
    {
      "cell_type": "code",
      "execution_count": 81,
      "metadata": {
        "id": "xqFoNGStyrPd"
      },
      "outputs": [],
      "source": [
        "group_a = df[(df['incentivized'] == \"NominalGift\") | (df['incentivized'] == \"VendorReferredIncentivized\")]['OverAllRating']\n",
        "group_b = df[(df['incentivized'] == \"NoIncentive\") | (df['incentivized'] == \"NonNominalGift\") | (df['incentivized'] == \"VendorReferred\")]['OverAllRating']"
      ]
    },
    {
      "cell_type": "code",
      "execution_count": 82,
      "metadata": {
        "id": "ZpknEz0pyrPe"
      },
      "outputs": [],
      "source": [
        "N_con = group_a.shape[0]\n",
        "N_exp = group_b.shape[0]"
      ]
    },
    {
      "cell_type": "code",
      "execution_count": 83,
      "metadata": {
        "id": "TuFYEr3HyrPe"
      },
      "outputs": [],
      "source": [
        "# Significance Level\n",
        "alpha = 0.05"
      ]
    },
    {
      "cell_type": "code",
      "execution_count": 84,
      "metadata": {
        "id": "pl-pEKHyyrPe"
      },
      "outputs": [],
      "source": [
        "\n",
        "# Calculating means of control and experimental groups\n",
        "mu_con = np.mean(group_a)\n",
        "mu_exp = np.mean(group_b)"
      ]
    },
    {
      "cell_type": "code",
      "execution_count": 85,
      "metadata": {
        "id": "P2JlpRDWyrPe"
      },
      "outputs": [],
      "source": [
        "y1 = group_a.astype('float64')\n",
        "variance_con = np.var(y1)\n",
        "\n",
        "y2 = group_b.astype('float64')\n",
        "variance_exp = np.var(y2)"
      ]
    },
    {
      "cell_type": "code",
      "execution_count": 86,
      "metadata": {
        "id": "WTZbUCKCyrPe"
      },
      "outputs": [],
      "source": [
        "# Pooled Variance\n",
        "pooled_variance = np.sqrt(variance_con/N_con + variance_exp/N_exp)"
      ]
    },
    {
      "cell_type": "code",
      "execution_count": 87,
      "metadata": {
        "colab": {
          "base_uri": "https://localhost:8080/"
        },
        "id": "3-d5rrLYyrPe",
        "outputId": "34bbcbb3-ec31-490d-89e8-8f29460c572b"
      },
      "outputs": [
        {
          "output_type": "stream",
          "name": "stderr",
          "text": [
            "/usr/local/lib/python3.7/dist-packages/ipykernel_launcher.py:2: RuntimeWarning: invalid value encountered in double_scalars\n",
            "  \n"
          ]
        }
      ],
      "source": [
        "# Test statistics\n",
        "T = (mu_con-mu_exp)/np.sqrt(variance_con/N_con + variance_exp/N_exp)"
      ]
    },
    {
      "cell_type": "code",
      "execution_count": 88,
      "metadata": {
        "id": "Kh6RlL7byrPe"
      },
      "outputs": [],
      "source": [
        "# two sided test and using symmetry property of Normal distibution so we multiple with 2\n",
        "p_value = norm.sf(T)*2"
      ]
    },
    {
      "cell_type": "code",
      "execution_count": 89,
      "metadata": {
        "id": "7KE533_hyrPf"
      },
      "outputs": [],
      "source": [
        "# Z-critical value\n",
        "Z_crit  = norm.ppf(1-alpha/2)"
      ]
    },
    {
      "cell_type": "code",
      "execution_count": 90,
      "metadata": {
        "id": "cFmsGTHAyrPf"
      },
      "outputs": [],
      "source": [
        "# Margin of error\n",
        "m = Z_crit*pooled_variance"
      ]
    },
    {
      "cell_type": "code",
      "execution_count": 91,
      "metadata": {
        "colab": {
          "base_uri": "https://localhost:8080/"
        },
        "id": "0fNymICbyrPf",
        "outputId": "52540d40-61af-414f-801a-1baa2f6d6ce9"
      },
      "outputs": [
        {
          "output_type": "stream",
          "name": "stderr",
          "text": [
            "/usr/local/lib/python3.7/dist-packages/ipykernel_launcher.py:2: RuntimeWarning: invalid value encountered in double_scalars\n",
            "  \n"
          ]
        }
      ],
      "source": [
        "# Confidence Interval\n",
        "CI = [(mu_con - mu_exp) - m, (mu_con - mu_exp) + m]"
      ]
    },
    {
      "cell_type": "code",
      "execution_count": 92,
      "metadata": {
        "colab": {
          "base_uri": "https://localhost:8080/"
        },
        "id": "3o2e4g3HyrPf",
        "outputId": "8e45805f-1868-4ded-9eab-bbe941c1bfc6"
      },
      "outputs": [
        {
          "output_type": "stream",
          "name": "stdout",
          "text": [
            "Test Statistics stat:  nan\n",
            "Z-critical:  1.959963984540054\n",
            "P_value:  nan\n",
            "Confidence Interval of 2 sample Z-test for proportions:  [nan nan]\n"
          ]
        }
      ],
      "source": [
        "print(\"Test Statistics stat: \", T)\n",
        "print(\"Z-critical: \", Z_crit)\n",
        "print(\"P_value: \", p_value)\n",
        "print(\"Confidence Interval of 2 sample Z-test for proportions: \", np.round(CI,2))"
      ]
    },
    {
      "cell_type": "code",
      "execution_count": 93,
      "metadata": {
        "colab": {
          "base_uri": "https://localhost:8080/",
          "height": 444
        },
        "id": "loybDyesyrPf",
        "outputId": "da154bd2-ec09-421c-9027-59c0332dfa5a"
      },
      "outputs": [
        {
          "output_type": "display_data",
          "data": {
            "text/plain": [
              "<Figure size 720x504 with 1 Axes>"
            ],
            "image/png": "[encoded data removed]"
          },
          "metadata": {
            "needs_background": "light"
          }
        }
      ],
      "source": [
        "z = np.arange(-3,3,  0.1)\n",
        "plt.plot(z, norm.pdf(z), label = 'Standard Normal Distribution',color = 'blue',linewidth = 2.5)\n",
        "plt.fill_between(z[z>Z_crit], norm.pdf(z[z>Z_crit]), label = 'Right Rejection Region',color ='r' )\n",
        "plt.fill_between(z[z<(-1)*Z_crit], norm.pdf(z[z<(-1)*Z_crit]), label = 'Left Rejection Region',color ='g' )\n",
        "plt.title(\"Two Sample Z-test rejection region\")\n",
        "plt.legend()\n",
        "plt.show()"
      ]
    },
    {
      "cell_type": "code",
      "execution_count": 93,
      "metadata": {
        "id": "Fpfm5hNTyrPf"
      },
      "outputs": [],
      "source": [
        ""
      ]
    }
  ],
  "metadata": {
    "kernelspec": {
      "display_name": "Python 3",
      "language": "python",
      "name": "python3"
    },
    "language_info": {
      "codemirror_mode": {
        "name": "ipython",
        "version": 3
      },
      "file_extension": ".py",
      "mimetype": "text/x-python",
      "name": "python",
      "nbconvert_exporter": "python",
      "pygments_lexer": "ipython3",
      "version": "3.8.8"
    },
    "colab": {
      "name": "INFO 5502-Final Exam-Summer 2022 (1).ipynb",
      "provenance": [],
      "collapsed_sections": [],
      "include_colab_link": true
    }
  },
  "nbformat": 4,
  "nbformat_minor": 0
}