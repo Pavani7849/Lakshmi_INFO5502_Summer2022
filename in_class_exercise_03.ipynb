{
  "cells": [
    {
      "cell_type": "markdown",
      "metadata": {
        "id": "view-in-github",
        "colab_type": "text"
      },
      "source": [
        "<a href=\"https://colab.research.google.com/github/Pavani7849/Lakshmi_INFO5731_-Fall2021/blob/main/in_class_exercise_03.ipynb\" target=\"_parent\"><img src=\"https://colab.research.google.com/assets/colab-badge.svg\" alt=\"Open In Colab\"/></a>"
      ]
    },
    {
      "cell_type": "markdown",
      "metadata": {
        "id": "9UrkrYz32qwS"
      },
      "source": [
        "## The third Lab-assignment (07/22/2022 11:59'AM' - 07/26/2022 11:59PM, 50 points in total)"
      ]
    },
    {
      "cell_type": "markdown",
      "metadata": {
        "id": "qmg7tjNj2qwW"
      },
      "source": [
        "The purpose of this exercise is to understand users' information needs, then collect data from different sources for analysis."
      ]
    },
    {
      "cell_type": "markdown",
      "metadata": {
        "id": "77po6ah32qwW"
      },
      "source": [
        "Question 1 (10 points). Fomulate your domain problem: Describe an interesting research question (or practical question) you have in mind, what kind of data should be collected to answer the question(s)? How many data needed for the analysis? The detail steps for collecting and save the data. "
      ]
    },
    {
      "cell_type": "code",
      "execution_count": null,
      "metadata": {
        "id": "h6WLBYkF2qwX"
      },
      "outputs": [],
      "source": [
        "# Your answer here (no code for this question, write down your answer as detail as possible for the above questions):\n",
        "\n",
        "'''\n",
        "Domain problem is to collect the gene expression data from NCBI database (https://www.ncbi.nlm.nih.gov/guide/genes-expression/)\n",
        "Research problem is to count the monoNucleotides and Dinucleotides for each chromosome\n",
        "\n",
        "Downloaded a chromosome fasta file from the following link - https://hgdownload.soe.ucsc.edu/goldenPath/hg38/chromosomes/\n",
        "Steps -\n",
        "considering one chromosome, we read the fasta file \n",
        "Ignore the lines with metadata\n",
        "count the mononucleotides\n",
        "count the dinucleotides\n",
        "\n",
        "We can repeat the same process for all the 25 Chromosomes available in the NCBI database\n",
        "\n",
        "\n",
        "\n",
        "\n",
        "\n",
        "\n",
        "'''"
      ]
    },
    {
      "cell_type": "markdown",
      "metadata": {
        "id": "RenVae3Z2qwZ"
      },
      "source": [
        "Question 2 (30 points). Collect your data to answer the research problem: Write python code to collect 1000 data samples you discussed above."
      ]
    },
    {
      "cell_type": "code",
      "source": [
        "#upload the chromosome fasta file downloaded from NCBI database here So that they can be used in the analysis \n",
        "from google.colab import files\n",
        "uploaded = files.upload()"
      ],
      "metadata": {
        "id": "uS7LGs6n53gN"
      },
      "execution_count": null,
      "outputs": []
    },
    {
      "cell_type": "code",
      "execution_count": null,
      "metadata": {
        "id": "tqFzYX2c2qwZ",
        "colab": {
          "base_uri": "https://localhost:8080/"
        },
        "outputId": "4b822fe8-d1bd-4067-8c5a-c1178d40e6d3"
      },
      "outputs": [
        {
          "output_type": "stream",
          "name": "stdout",
          "text": [
            "No of Lines of Chromosome info = 1000\n",
            "****MONO NUCLEOTIDES******\n",
            "t: 4259, (10.7%)\n",
            "a: 5188, (13.0%)\n",
            "c: 3717, (9.3%)\n",
            "g: 3571, (8.9%)\n",
            "C: 6130, (15.3%)\n",
            "A: 5713, (14.3%)\n",
            "G: 5934, (14.9%)\n",
            "T: 5438, (13.6%)\n",
            "****DI NUCLEOTIDES******\n",
            "AA: 3387, (8.5%)\n",
            "AC: 2136, (5.3%)\n",
            "AG: 3069, (7.7%)\n",
            "AT: 2308, (5.8%)\n",
            "CA: 3148, (7.9%)\n",
            "CC: 3010, (7.5%)\n",
            "CG: 722, (1.8%)\n",
            "CT: 2967, (7.4%)\n",
            "GA: 2437, (6.1%)\n",
            "GC: 2358, (5.9%)\n",
            "GG: 2817, (7.1%)\n",
            "GT: 1893, (4.7%)\n",
            "TA: 1929, (4.8%)\n",
            "TC: 2343, (5.9%)\n",
            "TG: 2897, (7.3%)\n",
            "TT: 2528, (6.3%)\n"
          ]
        }
      ],
      "source": [
        "# You code here (Please add comments in the code):\n",
        "\n",
        "\n",
        "# To calculate the Mononucleotide count\n",
        "import os\n",
        "#os.chdir(\"path\")\n",
        "#file_name = \"chr.fa\"\n",
        "#update the filename below as per the file uploaded in the above block\n",
        "human = list(uploaded['chr.fa'].decode(\"utf-8\").split(\"\\n\")) \n",
        "print(\"No of Lines of Chromosome info =\", len(human))\n",
        "#with open(uploaded['chr.fa']) as human: # will close your file automatically\n",
        "from collections import defaultdict\n",
        "counts = defaultdict(int) \n",
        "for line in human: # iterate over file object, no need to read all contents into memory\n",
        "        if line.startswith(\">\"): # skip lines that start with >\n",
        "            continue\n",
        "        for char in line: # just iterate over the characters in the line\n",
        "            if char in {\"A\", \"C\", \"G\",\"T\",\"a\",\"c\",\"g\",\"t\"}:\n",
        "                    counts[char] += 1\n",
        "total = sum(counts.values())\n",
        "print(\"****MONO NUCLEOTIDES******\")       \n",
        "for key,val in counts.items():\n",
        "        print(\"{}: {}, ({:.1%})\".format(key,val, val / total))\n",
        "        \n",
        "        \n",
        "        \n",
        "        \n",
        "\n",
        "# To calculate the Dinucleotide count\n",
        "# import the dictionary from collections\n",
        "from collections import defaultdict \n",
        "#file_name = \"chr.fa\" # defining the file name\n",
        "dinucleotide_counts = defaultdict(int) # initialize the dictionary of type integer\n",
        "sequence = \"\" # intialize the empty string variable\n",
        "chromosome_id=\">chr1\" # variable to hold the chromosome name (have to change according to first line of the file)\n",
        "#with open(uploaded['chr.fa']) as file: # read the file \n",
        "file = list(uploaded['chr.fa'].decode(\"utf-8\").split(\"\\n\"))\n",
        "for line in file: # reading the whole chromosome data into variable and eliminating the information.\n",
        "      if line.startswith(\">\"): # skip lines that start with >\n",
        "        continue\n",
        "      else :\n",
        "        sequence += line.strip().upper().replace(\"N\",\"\").replace(chromosome_id,\"\")\n",
        "for i in range(len(sequence) - 1): # counting the frequency\n",
        "        dinucleotide_counts[sequence[i:i + 2]] += 1\n",
        "print(\"****DI NUCLEOTIDES******\")  \n",
        "for key, value in sorted(dinucleotide_counts.items()): # printing the output\n",
        "        print(\"{}: {}, ({:.1%})\".format(key,value, value / total))\n",
        "\n",
        "\n",
        "\n",
        "\n",
        "\n"
      ]
    },
    {
      "cell_type": "markdown",
      "metadata": {
        "id": "wIMXcOJA2qwa"
      },
      "source": [
        "Question 3 (10 points). Understand the data quality: Search a second hand dataset (any dataset) from kaggle or other websites. Describe the data quality problem of the dataset and explain your strtegy to clean the data."
      ]
    },
    {
      "cell_type": "code",
      "execution_count": null,
      "metadata": {
        "id": "KYxHAqk22qwa"
      },
      "outputs": [],
      "source": [
        "# Your answer here (no code for this question, write down your answer as detail as possible for the above questions):\n",
        "'''\n",
        "\n",
        "Please write you answer here:\n",
        "For this i have considered the second part of my research question from the above question \n",
        "In the above considered research question to count the dinucleotides in the second part, I had to ignore the metadata and also junk data in runtime\n",
        "Instead , i can choose to clean up the fasta files by removing the metadata and anything other than the genetic information \"A\",\"a\",\"t\",\"T\",\"G\",\"g\",\"c\",\"C\" \n",
        "This way, i can improve both space and time complexity of the analysis\n",
        "\n",
        "\n",
        "\n",
        "\n",
        "'''"
      ]
    }
  ],
  "metadata": {
    "kernelspec": {
      "display_name": "Python 3 (ipykernel)",
      "language": "python",
      "name": "python3"
    },
    "language_info": {
      "codemirror_mode": {
        "name": "ipython",
        "version": 3
      },
      "file_extension": ".py",
      "mimetype": "text/x-python",
      "name": "python",
      "nbconvert_exporter": "python",
      "pygments_lexer": "ipython3",
      "version": "3.9.12"
    },
    "vscode": {
      "interpreter": {
        "hash": "5c6a7f839effdddf35473dacbb9a8184e57ebbba5133cab03b12e4f28d4f0d0f"
      }
    },
    "colab": {
      "name": "in_class_exercise_03.ipynb",
      "provenance": [],
      "collapsed_sections": [],
      "include_colab_link": true
    }
  },
  "nbformat": 4,
  "nbformat_minor": 0
}