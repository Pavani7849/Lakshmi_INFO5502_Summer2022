{
  "cells": [
    {
      "cell_type": "markdown",
      "metadata": {
        "id": "view-in-github",
        "colab_type": "text"
      },
      "source": [
        "<a href=\"https://colab.research.google.com/github/Pavani7849/Lakshmi_INFO5502_Summer2022/blob/main/lab_assignment_08_1.ipynb\" target=\"_parent\"><img src=\"https://colab.research.google.com/assets/colab-badge.svg\" alt=\"Open In Colab\"/></a>"
      ]
    },
    {
      "cell_type": "markdown",
      "metadata": {
        "id": "ouSHDdGxjOem"
      },
      "source": [
        "## The Eighth Lab-assignment (08/09/2022 11:59'AM' - 08/12/2022 11:59PM, 50 points in total)"
      ]
    },
    {
      "cell_type": "markdown",
      "metadata": {
        "id": "Wz7xvz28jOep"
      },
      "source": [
        "The purpose of this assignment is to practice different Hypothesis Testing and annotation quality evaluation."
      ]
    },
    {
      "cell_type": "code",
      "execution_count": 1,
      "metadata": {
        "id": "fiS7yKrqjOep"
      },
      "outputs": [],
      "source": [
        "import numpy as np\n",
        "import pandas as pd\n",
        "import matplotlib.pyplot as plt\n",
        "import seaborn as sns\n",
        "\n",
        "from scipy import stats\n",
        "from sklearn.preprocessing import LabelEncoder\n",
        "from sklearn.metrics import confusion_matrix"
      ]
    },
    {
      "cell_type": "markdown",
      "metadata": {
        "id": "zlMZFro8jOeq"
      },
      "source": [
        "### Question 1 (10 points) \n",
        "\n",
        "During the 1980s, the general consensus is that about 5% of the nation’s children had autism. Some claimed that increases certain chemicals in the environment has led to an increase in autism. \n",
        "\n",
        "(1) Write an appropriate hypothesis test for this situation (5 points).  \n",
        "\n",
        "(2) Give an appropriate test for this hypothesis, stating what are the necessary conditions for performing the test (5 points). \n",
        "\n",
        "(3) A recent study examined 384 children and found that 46 showed signs of autism. Perform a test of the hypothesis and state the p-value (5 points). "
      ]
    },
    {
      "cell_type": "code",
      "execution_count": 2,
      "metadata": {
        "colab": {
          "base_uri": "https://localhost:8080/",
          "height": 122
        },
        "id": "fYKLZ6CjjOer",
        "outputId": "1095707c-f951-49d1-b22a-d8020a1dad4c"
      },
      "outputs": [
        {
          "output_type": "execute_result",
          "data": {
            "text/plain": [
              "\"\\n1.  Write an appropriate hypothesis test for this situation \\n\\n5% of the children = 5 / 100 = 0.05 (p = 0.05)\\n\\nNULL HYPOTHESIS (H0):      5% of the National children got affected by Autism (p = 0.05)\\n\\nALTERNATE HYPOTHESIS (HA): 5% of the National children not affected by Autism  (p < 0.05)\\n\\n\\np' = 46 / 384 = 0.1197\\n\\n################################################################################################################################\\n\\n2. Give an appropriate test for this hypothesis, stating what are the necessary conditions for performing the test\\n\\n    A. Simple Random Sample (SRS) \\n\\n    B. Number of samples that are affected by Autism = 46\\n    \\n    C. Number of samples that are not affected by Autism = 384 - 46 = 338\\n\\n    D. I am choosing Z-Test Statistic for Hypothesis Testing\\n\""
            ],
            "application/vnd.google.colaboratory.intrinsic+json": {
              "type": "string"
            }
          },
          "metadata": {},
          "execution_count": 2
        }
      ],
      "source": [
        "# You answer here\n",
        "\n",
        "'''\n",
        "1.  Write an appropriate hypothesis test for this situation \n",
        "\n",
        "5% of the children = 5 / 100 = 0.05 (p = 0.05)\n",
        "\n",
        "NULL HYPOTHESIS (H0):      5% of the National children got affected by Autism (p = 0.05)\n",
        "\n",
        "ALTERNATE HYPOTHESIS (HA): 5% of the National children not affected by Autism  (p < 0.05)\n",
        "\n",
        "\n",
        "p' = 46 / 384 = 0.1197\n",
        "\n",
        "################################################################################################################################\n",
        "\n",
        "2. Give an appropriate test for this hypothesis, stating what are the necessary conditions for performing the test\n",
        "\n",
        "    A. Simple Random Sample (SRS) \n",
        "\n",
        "    B. Number of samples that are affected by Autism = 46\n",
        "    \n",
        "    C. Number of samples that are not affected by Autism = 384 - 46 = 338\n",
        "\n",
        "    D. I am choosing Z-Test Statistic for Hypothesis Testing\n",
        "'''"
      ]
    },
    {
      "cell_type": "code",
      "execution_count": 3,
      "metadata": {
        "colab": {
          "base_uri": "https://localhost:8080/",
          "height": 122
        },
        "id": "bpK-edEmjOes",
        "outputId": "cdbcf0d2-3460-4d3e-c72d-0c6265536f93"
      },
      "outputs": [
        {
          "output_type": "execute_result",
          "data": {
            "text/plain": [
              "'\\n3. A recent study examined 384 children and found that 46 showed signs of autism. Perform a test of the hypothesis and state the p-value (5 points).\\n\\n\\nNumber of total samples (n) = 384 \\n\\np\\' = 46 / 384 = 0.1198\\n\\nZ-Test Statistic = (0.1198 - 0.05) / square_root(0.1198 * (1 - 0.1198) / 384) \\n\\n                = 0.0698 / sqrt(0.1198 * 0.8802 / 384) \\n                \\n                = 0.0698 / sqrt(0.10545 / 384)\\n                \\n                = 0.0698 / sqrt(0.0002746)\\n                \\n                = 0.0698 / 0.016571\\n                \\n                = 4.2121\\n                \\n    As per Z-Score table for the value \"4.2121\", the \"p\" value is 0.000013 (One Tail Test)\\n\\n\\n    ***** So, p value i.e., 0.000013 < 0.05. Hence, Reject NULL Hypothesis ******\\n\\n'"
            ],
            "application/vnd.google.colaboratory.intrinsic+json": {
              "type": "string"
            }
          },
          "metadata": {},
          "execution_count": 3
        }
      ],
      "source": [
        "# your code here\n",
        "'''\n",
        "3. A recent study examined 384 children and found that 46 showed signs of autism. Perform a test of the hypothesis and state the p-value (5 points).\n",
        "\n",
        "\n",
        "Number of total samples (n) = 384 \n",
        "\n",
        "p' = 46 / 384 = 0.1198\n",
        "\n",
        "Z-Test Statistic = (0.1198 - 0.05) / square_root(0.1198 * (1 - 0.1198) / 384) \n",
        "\n",
        "                = 0.0698 / sqrt(0.1198 * 0.8802 / 384) \n",
        "                \n",
        "                = 0.0698 / sqrt(0.10545 / 384)\n",
        "                \n",
        "                = 0.0698 / sqrt(0.0002746)\n",
        "                \n",
        "                = 0.0698 / 0.016571\n",
        "                \n",
        "                = 4.2121\n",
        "                \n",
        "    As per Z-Score table for the value \"4.2121\", the \"p\" value is 0.000013 (One Tail Test)\n",
        "\n",
        "\n",
        "    ***** So, p value i.e., 0.000013 < 0.05. Hence, Reject NULL Hypothesis ******\n",
        "\n",
        "'''\n"
      ]
    },
    {
      "cell_type": "markdown",
      "metadata": {
        "id": "ayiu1unzjOet"
      },
      "source": [
        "### Question 2 (10 points) \n",
        "In this problem,we will examine the sugar content of several national brands of cereals, here measured as a percentage of weight.\n",
        "\n",
        "![assignmen_9.png](attachment:assignmen_9.png)\n",
        "\n",
        "(1) Give a summary of these two datasets (5 points). \n",
        "\n",
        "(2) Create side-by-side boxplots and interpret what you see (5 points). \n",
        "\n",
        "(3) Use python to create a 95% confidence interval for the difference in mean sugar content and explain your result (5 points). "
      ]
    },
    {
      "cell_type": "code",
      "execution_count": 4,
      "metadata": {
        "id": "2agEIkAWjOet"
      },
      "outputs": [],
      "source": [
        "# You answer here\n",
        "df_children = pd.DataFrame({'children':np.array([40.3, 55.0, 45.7, 43.3, 50.3, 45.9, 53.5, 43.0, 44.2, 44.0, 33.6, 55.1, 48.8, \n",
        "                     50.4, 37.8, 60.3, 46.6, 47.4, 44.0])})\n",
        "\n",
        "df_adult = pd.DataFrame({'adult':np.array([20.0, 30.2, 2.2, 7.5, 4.4, 22.2, 16.6, 14.5, 21.4, 3.3, 10.0, 1.0, 4.4, 1.3, 8.1, \n",
        "                  6.6, 7.8, 10.6, 10.6, 16.2, 14.5, 4.1, 15.8, 4.1, 2.4, 3.5, 8.5, 4.7, 18.4])})"
      ]
    },
    {
      "cell_type": "markdown",
      "metadata": {
        "id": "88HiJW3GjOet"
      },
      "source": [
        "#### Statistical Summary of the Datasets"
      ]
    },
    {
      "cell_type": "code",
      "execution_count": 5,
      "metadata": {
        "colab": {
          "base_uri": "https://localhost:8080/",
          "height": 300
        },
        "id": "kUF8gyi3jOeu",
        "outputId": "b757114a-f159-4ad6-9df0-0235901e3577"
      },
      "outputs": [
        {
          "output_type": "execute_result",
          "data": {
            "text/plain": [
              "        children\n",
              "count  19.000000\n",
              "mean   46.800000\n",
              "std     6.418376\n",
              "min    33.600000\n",
              "25%    43.650000\n",
              "50%    45.900000\n",
              "75%    50.350000\n",
              "max    60.300000"
            ],
            "text/html": [
              "\n",
              "  <div id=\"df-a592e922-e731-4074-86d5-9bfcfe94adc2\">\n",
              "    <div class=\"colab-df-container\">\n",
              "      <div>\n",
              "<style scoped>\n",
              "    .dataframe tbody tr th:only-of-type {\n",
              "        vertical-align: middle;\n",
              "    }\n",
              "\n",
              "    .dataframe tbody tr th {\n",
              "        vertical-align: top;\n",
              "    }\n",
              "\n",
              "    .dataframe thead th {\n",
              "        text-align: right;\n",
              "    }\n",
              "</style>\n",
              "<table border=\"1\" class=\"dataframe\">\n",
              "  <thead>\n",
              "    <tr style=\"text-align: right;\">\n",
              "      <th></th>\n",
              "      <th>children</th>\n",
              "    </tr>\n",
              "  </thead>\n",
              "  <tbody>\n",
              "    <tr>\n",
              "      <th>count</th>\n",
              "      <td>19.000000</td>\n",
              "    </tr>\n",
              "    <tr>\n",
              "      <th>mean</th>\n",
              "      <td>46.800000</td>\n",
              "    </tr>\n",
              "    <tr>\n",
              "      <th>std</th>\n",
              "      <td>6.418376</td>\n",
              "    </tr>\n",
              "    <tr>\n",
              "      <th>min</th>\n",
              "      <td>33.600000</td>\n",
              "    </tr>\n",
              "    <tr>\n",
              "      <th>25%</th>\n",
              "      <td>43.650000</td>\n",
              "    </tr>\n",
              "    <tr>\n",
              "      <th>50%</th>\n",
              "      <td>45.900000</td>\n",
              "    </tr>\n",
              "    <tr>\n",
              "      <th>75%</th>\n",
              "      <td>50.350000</td>\n",
              "    </tr>\n",
              "    <tr>\n",
              "      <th>max</th>\n",
              "      <td>60.300000</td>\n",
              "    </tr>\n",
              "  </tbody>\n",
              "</table>\n",
              "</div>\n",
              "      <button class=\"colab-df-convert\" onclick=\"convertToInteractive('df-a592e922-e731-4074-86d5-9bfcfe94adc2')\"\n",
              "              title=\"Convert this dataframe to an interactive table.\"\n",
              "              style=\"display:none;\">\n",
              "        \n",
              "  <svg xmlns=\"http://www.w3.org/2000/svg\" height=\"24px\"viewBox=\"0 0 24 24\"\n",
              "       width=\"24px\">\n",
              "    <path d=\"M0 0h24v24H0V0z\" fill=\"none\"/>\n",
              "    <path d=\"M18.56 5.44l.94 2.06.94-2.06 2.06-.94-2.06-.94-.94-2.06-.94 2.06-2.06.94zm-11 1L8.5 8.5l.94-2.06 2.06-.94-2.06-.94L8.5 2.5l-.94 2.06-2.06.94zm10 10l.94 2.06.94-2.06 2.06-.94-2.06-.94-.94-2.06-.94 2.06-2.06.94z\"/><path d=\"M17.41 7.96l-1.37-1.37c-.4-.4-.92-.59-1.43-.59-.52 0-1.04.2-1.43.59L10.3 9.45l-7.72 7.72c-.78.78-.78 2.05 0 2.83L4 21.41c.39.39.9.59 1.41.59.51 0 1.02-.2 1.41-.59l7.78-7.78 2.81-2.81c.8-.78.8-2.07 0-2.86zM5.41 20L4 18.59l7.72-7.72 1.47 1.35L5.41 20z\"/>\n",
              "  </svg>\n",
              "      </button>\n",
              "      \n",
              "  <style>\n",
              "    .colab-df-container {\n",
              "      display:flex;\n",
              "      flex-wrap:wrap;\n",
              "      gap: 12px;\n",
              "    }\n",
              "\n",
              "    .colab-df-convert {\n",
              "      background-color: #E8F0FE;\n",
              "      border: none;\n",
              "      border-radius: 50%;\n",
              "      cursor: pointer;\n",
              "      display: none;\n",
              "      fill: #1967D2;\n",
              "      height: 32px;\n",
              "      padding: 0 0 0 0;\n",
              "      width: 32px;\n",
              "    }\n",
              "\n",
              "    .colab-df-convert:hover {\n",
              "      background-color: #E2EBFA;\n",
              "      box-shadow: 0px 1px 2px rgba(60, 64, 67, 0.3), 0px 1px 3px 1px rgba(60, 64, 67, 0.15);\n",
              "      fill: #174EA6;\n",
              "    }\n",
              "\n",
              "    [theme=dark] .colab-df-convert {\n",
              "      background-color: #3B4455;\n",
              "      fill: #D2E3FC;\n",
              "    }\n",
              "\n",
              "    [theme=dark] .colab-df-convert:hover {\n",
              "      background-color: #434B5C;\n",
              "      box-shadow: 0px 1px 3px 1px rgba(0, 0, 0, 0.15);\n",
              "      filter: drop-shadow(0px 1px 2px rgba(0, 0, 0, 0.3));\n",
              "      fill: #FFFFFF;\n",
              "    }\n",
              "  </style>\n",
              "\n",
              "      <script>\n",
              "        const buttonEl =\n",
              "          document.querySelector('#df-a592e922-e731-4074-86d5-9bfcfe94adc2 button.colab-df-convert');\n",
              "        buttonEl.style.display =\n",
              "          google.colab.kernel.accessAllowed ? 'block' : 'none';\n",
              "\n",
              "        async function convertToInteractive(key) {\n",
              "          const element = document.querySelector('#df-a592e922-e731-4074-86d5-9bfcfe94adc2');\n",
              "          const dataTable =\n",
              "            await google.colab.kernel.invokeFunction('convertToInteractive',\n",
              "                                                     [key], {});\n",
              "          if (!dataTable) return;\n",
              "\n",
              "          const docLinkHtml = 'Like what you see? Visit the ' +\n",
              "            '<a target=\"_blank\" href=https://colab.research.google.com/notebooks/data_table.ipynb>data table notebook</a>'\n",
              "            + ' to learn more about interactive tables.';\n",
              "          element.innerHTML = '';\n",
              "          dataTable['output_type'] = 'display_data';\n",
              "          await google.colab.output.renderOutput(dataTable, element);\n",
              "          const docLink = document.createElement('div');\n",
              "          docLink.innerHTML = docLinkHtml;\n",
              "          element.appendChild(docLink);\n",
              "        }\n",
              "      </script>\n",
              "    </div>\n",
              "  </div>\n",
              "  "
            ]
          },
          "metadata": {},
          "execution_count": 5
        }
      ],
      "source": [
        "df_children.describe()"
      ]
    },
    {
      "cell_type": "code",
      "execution_count": 6,
      "metadata": {
        "colab": {
          "base_uri": "https://localhost:8080/",
          "height": 300
        },
        "id": "z-gynoLdjOeu",
        "outputId": "cbd01b7d-397d-40b5-94ff-382a8d36075f"
      },
      "outputs": [
        {
          "output_type": "execute_result",
          "data": {
            "text/plain": [
              "           adult\n",
              "count  29.000000\n",
              "mean   10.168966\n",
              "std     7.475680\n",
              "min     1.000000\n",
              "25%     4.100000\n",
              "50%     8.100000\n",
              "75%    15.800000\n",
              "max    30.200000"
            ],
            "text/html": [
              "\n",
              "  <div id=\"df-a38908dd-9048-45af-aedd-4caf242a3473\">\n",
              "    <div class=\"colab-df-container\">\n",
              "      <div>\n",
              "<style scoped>\n",
              "    .dataframe tbody tr th:only-of-type {\n",
              "        vertical-align: middle;\n",
              "    }\n",
              "\n",
              "    .dataframe tbody tr th {\n",
              "        vertical-align: top;\n",
              "    }\n",
              "\n",
              "    .dataframe thead th {\n",
              "        text-align: right;\n",
              "    }\n",
              "</style>\n",
              "<table border=\"1\" class=\"dataframe\">\n",
              "  <thead>\n",
              "    <tr style=\"text-align: right;\">\n",
              "      <th></th>\n",
              "      <th>adult</th>\n",
              "    </tr>\n",
              "  </thead>\n",
              "  <tbody>\n",
              "    <tr>\n",
              "      <th>count</th>\n",
              "      <td>29.000000</td>\n",
              "    </tr>\n",
              "    <tr>\n",
              "      <th>mean</th>\n",
              "      <td>10.168966</td>\n",
              "    </tr>\n",
              "    <tr>\n",
              "      <th>std</th>\n",
              "      <td>7.475680</td>\n",
              "    </tr>\n",
              "    <tr>\n",
              "      <th>min</th>\n",
              "      <td>1.000000</td>\n",
              "    </tr>\n",
              "    <tr>\n",
              "      <th>25%</th>\n",
              "      <td>4.100000</td>\n",
              "    </tr>\n",
              "    <tr>\n",
              "      <th>50%</th>\n",
              "      <td>8.100000</td>\n",
              "    </tr>\n",
              "    <tr>\n",
              "      <th>75%</th>\n",
              "      <td>15.800000</td>\n",
              "    </tr>\n",
              "    <tr>\n",
              "      <th>max</th>\n",
              "      <td>30.200000</td>\n",
              "    </tr>\n",
              "  </tbody>\n",
              "</table>\n",
              "</div>\n",
              "      <button class=\"colab-df-convert\" onclick=\"convertToInteractive('df-a38908dd-9048-45af-aedd-4caf242a3473')\"\n",
              "              title=\"Convert this dataframe to an interactive table.\"\n",
              "              style=\"display:none;\">\n",
              "        \n",
              "  <svg xmlns=\"http://www.w3.org/2000/svg\" height=\"24px\"viewBox=\"0 0 24 24\"\n",
              "       width=\"24px\">\n",
              "    <path d=\"M0 0h24v24H0V0z\" fill=\"none\"/>\n",
              "    <path d=\"M18.56 5.44l.94 2.06.94-2.06 2.06-.94-2.06-.94-.94-2.06-.94 2.06-2.06.94zm-11 1L8.5 8.5l.94-2.06 2.06-.94-2.06-.94L8.5 2.5l-.94 2.06-2.06.94zm10 10l.94 2.06.94-2.06 2.06-.94-2.06-.94-.94-2.06-.94 2.06-2.06.94z\"/><path d=\"M17.41 7.96l-1.37-1.37c-.4-.4-.92-.59-1.43-.59-.52 0-1.04.2-1.43.59L10.3 9.45l-7.72 7.72c-.78.78-.78 2.05 0 2.83L4 21.41c.39.39.9.59 1.41.59.51 0 1.02-.2 1.41-.59l7.78-7.78 2.81-2.81c.8-.78.8-2.07 0-2.86zM5.41 20L4 18.59l7.72-7.72 1.47 1.35L5.41 20z\"/>\n",
              "  </svg>\n",
              "      </button>\n",
              "      \n",
              "  <style>\n",
              "    .colab-df-container {\n",
              "      display:flex;\n",
              "      flex-wrap:wrap;\n",
              "      gap: 12px;\n",
              "    }\n",
              "\n",
              "    .colab-df-convert {\n",
              "      background-color: #E8F0FE;\n",
              "      border: none;\n",
              "      border-radius: 50%;\n",
              "      cursor: pointer;\n",
              "      display: none;\n",
              "      fill: #1967D2;\n",
              "      height: 32px;\n",
              "      padding: 0 0 0 0;\n",
              "      width: 32px;\n",
              "    }\n",
              "\n",
              "    .colab-df-convert:hover {\n",
              "      background-color: #E2EBFA;\n",
              "      box-shadow: 0px 1px 2px rgba(60, 64, 67, 0.3), 0px 1px 3px 1px rgba(60, 64, 67, 0.15);\n",
              "      fill: #174EA6;\n",
              "    }\n",
              "\n",
              "    [theme=dark] .colab-df-convert {\n",
              "      background-color: #3B4455;\n",
              "      fill: #D2E3FC;\n",
              "    }\n",
              "\n",
              "    [theme=dark] .colab-df-convert:hover {\n",
              "      background-color: #434B5C;\n",
              "      box-shadow: 0px 1px 3px 1px rgba(0, 0, 0, 0.15);\n",
              "      filter: drop-shadow(0px 1px 2px rgba(0, 0, 0, 0.3));\n",
              "      fill: #FFFFFF;\n",
              "    }\n",
              "  </style>\n",
              "\n",
              "      <script>\n",
              "        const buttonEl =\n",
              "          document.querySelector('#df-a38908dd-9048-45af-aedd-4caf242a3473 button.colab-df-convert');\n",
              "        buttonEl.style.display =\n",
              "          google.colab.kernel.accessAllowed ? 'block' : 'none';\n",
              "\n",
              "        async function convertToInteractive(key) {\n",
              "          const element = document.querySelector('#df-a38908dd-9048-45af-aedd-4caf242a3473');\n",
              "          const dataTable =\n",
              "            await google.colab.kernel.invokeFunction('convertToInteractive',\n",
              "                                                     [key], {});\n",
              "          if (!dataTable) return;\n",
              "\n",
              "          const docLinkHtml = 'Like what you see? Visit the ' +\n",
              "            '<a target=\"_blank\" href=https://colab.research.google.com/notebooks/data_table.ipynb>data table notebook</a>'\n",
              "            + ' to learn more about interactive tables.';\n",
              "          element.innerHTML = '';\n",
              "          dataTable['output_type'] = 'display_data';\n",
              "          await google.colab.output.renderOutput(dataTable, element);\n",
              "          const docLink = document.createElement('div');\n",
              "          docLink.innerHTML = docLinkHtml;\n",
              "          element.appendChild(docLink);\n",
              "        }\n",
              "      </script>\n",
              "    </div>\n",
              "  </div>\n",
              "  "
            ]
          },
          "metadata": {},
          "execution_count": 6
        }
      ],
      "source": [
        "df_adult.describe()"
      ]
    },
    {
      "cell_type": "markdown",
      "metadata": {
        "id": "KKed3KmBjOeu"
      },
      "source": [
        "#### Boxplots of both Categories of Brands with Analysis"
      ]
    },
    {
      "cell_type": "code",
      "execution_count": 7,
      "metadata": {
        "colab": {
          "base_uri": "https://localhost:8080/",
          "height": 306
        },
        "id": "pHVv5adYjOev",
        "outputId": "2661e4c8-596f-4189-fc45-b80a9abda92f"
      },
      "outputs": [
        {
          "output_type": "display_data",
          "data": {
            "text/plain": [
              "<Figure size 864x360 with 2 Axes>"
            ],
            "image/png": "[encoded data removed]"
          },
          "metadata": {
            "needs_background": "light"
          }
        }
      ],
      "source": [
        "fig, ax = plt.subplots(1, 2, sharey=True, figsize=(12,5))\n",
        "sns.boxplot(y=df_children['children'], ax=ax[0])\n",
        "sns.boxplot(y=df_adult['adult'], ax=ax[1])\n",
        "\n",
        "plt.show()"
      ]
    },
    {
      "cell_type": "code",
      "execution_count": 8,
      "metadata": {
        "colab": {
          "base_uri": "https://localhost:8080/",
          "height": 122
        },
        "id": "FTc3VTW-jOev",
        "outputId": "8ae9d037-6cb5-4797-9e2d-b5456b99a0c4"
      },
      "outputs": [
        {
          "output_type": "execute_result",
          "data": {
            "text/plain": [
              "\"\\n***************** Question: (2) Create side-by-side boxplots and interpret what you see (5 points)**************\\n\\nAnswer:\\n-------\\n\\n1. Average Sugar content of several brands of Children (46.8) is way higher than Adults (10.168)\\n\\n2. Outlier in Children Boxplot indicates that there is one specific brand that has Sugar content is much less (i.e., 33.6)\\n\\n3. Standard Deviation of Adults is higher than Children, indicates that there are more variation between brands than Childrens brands\\n\\n4. Children brands Minimum sugar content is more than the Maximum Sugar content of Adult Brand, indicates that Adults don't prefer Sugar content products and Children do prefer \\n\\n5. There are lot more products (brands) for Adults than Children\\n\\n\""
            ],
            "application/vnd.google.colaboratory.intrinsic+json": {
              "type": "string"
            }
          },
          "metadata": {},
          "execution_count": 8
        }
      ],
      "source": [
        "'''\n",
        "***************** Question: (2) Create side-by-side boxplots and interpret what you see (5 points)**************\n",
        "\n",
        "Answer:\n",
        "-------\n",
        "\n",
        "1. Average Sugar content of several brands of Children (46.8) is way higher than Adults (10.168)\n",
        "\n",
        "2. Outlier in Children Boxplot indicates that there is one specific brand that has Sugar content is much less (i.e., 33.6)\n",
        "\n",
        "3. Standard Deviation of Adults is higher than Children, indicates that there are more variation between brands than Childrens brands\n",
        "\n",
        "4. Children brands Minimum sugar content is more than the Maximum Sugar content of Adult Brand, indicates that Adults don't prefer Sugar content products and Children do prefer \n",
        "\n",
        "5. There are lot more products (brands) for Adults than Children\n",
        "\n",
        "'''"
      ]
    },
    {
      "cell_type": "markdown",
      "metadata": {
        "id": "Qy5xswYOjOew"
      },
      "source": [
        "#### 95% Confident Interval for the difference in Mean Sugar Content"
      ]
    },
    {
      "cell_type": "code",
      "execution_count": 9,
      "metadata": {
        "colab": {
          "base_uri": "https://localhost:8080/",
          "height": 104
        },
        "id": "MKpS2vv0jOew",
        "outputId": "8bb49821-0c68-47ac-b72c-9aeb40e11906"
      },
      "outputs": [
        {
          "output_type": "stream",
          "name": "stdout",
          "text": [
            "95% confidence interval for the Difference in Mean Sugar Content in Children are : (34.220213425408055, 59.379786574591954)\n",
            "95% confidence interval for the Difference in Mean Sugar Content in Adults are : (-4.4830976120686294, 24.821028646551387)\n"
          ]
        },
        {
          "output_type": "execute_result",
          "data": {
            "text/plain": [
              "'# Explanation of the Result\\n\\nConfidence Interval helps in finding the range of values within which Population Estimate falls in with the help of Sample Data\\n\\nHere, Difference in Children Mean Sugar Content CI is between 34.22 and 59.38\\n\\nWhereas, Difference in Adult Mean Sugar Content CI is between -4.48 and 24.82\\n\\n'"
            ],
            "application/vnd.google.colaboratory.intrinsic+json": {
              "type": "string"
            }
          },
          "metadata": {},
          "execution_count": 9
        }
      ],
      "source": [
        "# Use python to create a 95% confidence interval for the difference in mean sugar content and explain your result\n",
        "\n",
        "print(\"95% confidence interval for the Difference in Mean Sugar Content in Children are : {}\".format(stats.norm.interval(0.95,  df_children['children'].mean(),  df_children['children'].std())))\n",
        "print(\"95% confidence interval for the Difference in Mean Sugar Content in Adults are : {}\".format(stats.norm.interval(0.95,  df_adult['adult'].mean(),  df_adult['adult'].std())))\n",
        "\n",
        "'''# Explanation of the Result\n",
        "\n",
        "Confidence Interval helps in finding the range of values within which Population Estimate falls in with the help of Sample Data\n",
        "\n",
        "Here, Difference in Children Mean Sugar Content CI is between 34.22 and 59.38\n",
        "\n",
        "Whereas, Difference in Adult Mean Sugar Content CI is between -4.48 and 24.82\n",
        "\n",
        "'''\n",
        "\n"
      ]
    },
    {
      "cell_type": "markdown",
      "metadata": {
        "id": "W05ukxtPjOew"
      },
      "source": [
        "### Question 3 (30 points) \n",
        "\n",
        "Cohen's kappa coefficient (κ) is a statistic that is used to measure inter-rater reliability (and also intra-rater reliability) for qualitative (categorical) items. It is generally thought to be a more robust measure than simple percent agreement calculation, as κ takes into account the possibility of the agreement occurring by chance. There is controversy surrounding Cohen's kappa due to the difficulty in interpreting indices of agreement. Some researchers have suggested that it is conceptually simpler to evaluate disagreement between items.\n",
        "\n",
        "A more detailed description of Kappa agreement can be found on wikipedia: https://en.wikipedia.org/wiki/Cohen%27s_kappa\n",
        "\n",
        "Here is the dataset we created for a text classification task: https://github.com/suthapalliuday/INFO5502-Summer2022/blob/main/datasets/lab08-dataset.csv\n",
        "\n",
        "The last three columns indicate the annotation on the same sentence by three students respectively. Based on this dataset, please calculate the Cohen's kappa and the Fleiss' kappa using their formulars (Python). Please don't use any existing packages for the implementation. "
      ]
    },
    {
      "cell_type": "markdown",
      "metadata": {
        "id": "CnaxqM4qjOex"
      },
      "source": [
        "#### Read the Data from GitHub Location"
      ]
    },
    {
      "cell_type": "code",
      "execution_count": 10,
      "metadata": {
        "id": "Ek6fGAIhjOex"
      },
      "outputs": [],
      "source": [
        "# your code here\n",
        "df = pd.read_csv(\"https://raw.githubusercontent.com/unt-iialab/info5502-spring2022/main/datasets/lab10-dataset.csv\")"
      ]
    },
    {
      "cell_type": "code",
      "execution_count": 11,
      "metadata": {
        "colab": {
          "base_uri": "https://localhost:8080/",
          "height": 337
        },
        "id": "ZeDlYin0jOex",
        "outputId": "daae0bb4-a584-4884-d17e-8b661c147a09"
      },
      "outputs": [
        {
          "output_type": "execute_result",
          "data": {
            "text/plain": [
              "                                    Title of Article  \\\n",
              "0  The measurement of ÒinterdisciplinarityÓ and Ò...   \n",
              "1  Innovation adoption: Broadcasting versus virality   \n",
              "2  Discovering underlying sensations of human emo...   \n",
              "3  Discovering underlying sensations of human emo...   \n",
              "4  Discovering underlying sensations of human emo...   \n",
              "\n",
              "                                       Contributions  Source  \\\n",
              "0  In this study, we discuss recent advances in t...  JASIST   \n",
              "1  broadcasting and virality have similar diffusi...  JASIST   \n",
              "2  we report the results of our study on sensatio...  JASIST   \n",
              "3  in the second part of the paper, we define nov...  JASIST   \n",
              "4  we design a method to classify texts into ones...  JASIST   \n",
              "\n",
              "                                        Annotation1  \\\n",
              "0  Algorithms/ Methods Construction or Optimization   \n",
              "1                                 Theory proposal\\n   \n",
              "2                                 Theory proposal\\n   \n",
              "3                                 Theory proposal\\n   \n",
              "4  Algorithms/ Methods Construction or Optimization   \n",
              "\n",
              "                                        Annotation2  \\\n",
              "0  Algorithms/ Methods Construction or Optimization   \n",
              "1                                 Theory proposal\\n   \n",
              "2  Algorithms/ Methods Construction or Optimization   \n",
              "3                                 Theory proposal\\n   \n",
              "4                Model Construction or Optimization   \n",
              "\n",
              "                                        Annotation3  Year  \n",
              "0  Algorithms/ Methods Construction or Optimization   NaN  \n",
              "1                                 Theory proposal\\n   NaN  \n",
              "2                                 Theory proposal\\n   NaN  \n",
              "3                                 Theory proposal\\n   NaN  \n",
              "4  Algorithms/ Methods Construction or Optimization   NaN  "
            ],
            "text/html": [
              "\n",
              "  <div id=\"df-feecbaa1-64a7-46f2-b420-dce27e1d0eed\">\n",
              "    <div class=\"colab-df-container\">\n",
              "      <div>\n",
              "<style scoped>\n",
              "    .dataframe tbody tr th:only-of-type {\n",
              "        vertical-align: middle;\n",
              "    }\n",
              "\n",
              "    .dataframe tbody tr th {\n",
              "        vertical-align: top;\n",
              "    }\n",
              "\n",
              "    .dataframe thead th {\n",
              "        text-align: right;\n",
              "    }\n",
              "</style>\n",
              "<table border=\"1\" class=\"dataframe\">\n",
              "  <thead>\n",
              "    <tr style=\"text-align: right;\">\n",
              "      <th></th>\n",
              "      <th>Title of Article</th>\n",
              "      <th>Contributions</th>\n",
              "      <th>Source</th>\n",
              "      <th>Annotation1</th>\n",
              "      <th>Annotation2</th>\n",
              "      <th>Annotation3</th>\n",
              "      <th>Year</th>\n",
              "    </tr>\n",
              "  </thead>\n",
              "  <tbody>\n",
              "    <tr>\n",
              "      <th>0</th>\n",
              "      <td>The measurement of ÒinterdisciplinarityÓ and Ò...</td>\n",
              "      <td>In this study, we discuss recent advances in t...</td>\n",
              "      <td>JASIST</td>\n",
              "      <td>Algorithms/ Methods Construction or Optimization</td>\n",
              "      <td>Algorithms/ Methods Construction or Optimization</td>\n",
              "      <td>Algorithms/ Methods Construction or Optimization</td>\n",
              "      <td>NaN</td>\n",
              "    </tr>\n",
              "    <tr>\n",
              "      <th>1</th>\n",
              "      <td>Innovation adoption: Broadcasting versus virality</td>\n",
              "      <td>broadcasting and virality have similar diffusi...</td>\n",
              "      <td>JASIST</td>\n",
              "      <td>Theory proposal\\n</td>\n",
              "      <td>Theory proposal\\n</td>\n",
              "      <td>Theory proposal\\n</td>\n",
              "      <td>NaN</td>\n",
              "    </tr>\n",
              "    <tr>\n",
              "      <th>2</th>\n",
              "      <td>Discovering underlying sensations of human emo...</td>\n",
              "      <td>we report the results of our study on sensatio...</td>\n",
              "      <td>JASIST</td>\n",
              "      <td>Theory proposal\\n</td>\n",
              "      <td>Algorithms/ Methods Construction or Optimization</td>\n",
              "      <td>Theory proposal\\n</td>\n",
              "      <td>NaN</td>\n",
              "    </tr>\n",
              "    <tr>\n",
              "      <th>3</th>\n",
              "      <td>Discovering underlying sensations of human emo...</td>\n",
              "      <td>in the second part of the paper, we define nov...</td>\n",
              "      <td>JASIST</td>\n",
              "      <td>Theory proposal\\n</td>\n",
              "      <td>Theory proposal\\n</td>\n",
              "      <td>Theory proposal\\n</td>\n",
              "      <td>NaN</td>\n",
              "    </tr>\n",
              "    <tr>\n",
              "      <th>4</th>\n",
              "      <td>Discovering underlying sensations of human emo...</td>\n",
              "      <td>we design a method to classify texts into ones...</td>\n",
              "      <td>JASIST</td>\n",
              "      <td>Algorithms/ Methods Construction or Optimization</td>\n",
              "      <td>Model Construction or Optimization</td>\n",
              "      <td>Algorithms/ Methods Construction or Optimization</td>\n",
              "      <td>NaN</td>\n",
              "    </tr>\n",
              "  </tbody>\n",
              "</table>\n",
              "</div>\n",
              "      <button class=\"colab-df-convert\" onclick=\"convertToInteractive('df-feecbaa1-64a7-46f2-b420-dce27e1d0eed')\"\n",
              "              title=\"Convert this dataframe to an interactive table.\"\n",
              "              style=\"display:none;\">\n",
              "        \n",
              "  <svg xmlns=\"http://www.w3.org/2000/svg\" height=\"24px\"viewBox=\"0 0 24 24\"\n",
              "       width=\"24px\">\n",
              "    <path d=\"M0 0h24v24H0V0z\" fill=\"none\"/>\n",
              "    <path d=\"M18.56 5.44l.94 2.06.94-2.06 2.06-.94-2.06-.94-.94-2.06-.94 2.06-2.06.94zm-11 1L8.5 8.5l.94-2.06 2.06-.94-2.06-.94L8.5 2.5l-.94 2.06-2.06.94zm10 10l.94 2.06.94-2.06 2.06-.94-2.06-.94-.94-2.06-.94 2.06-2.06.94z\"/><path d=\"M17.41 7.96l-1.37-1.37c-.4-.4-.92-.59-1.43-.59-.52 0-1.04.2-1.43.59L10.3 9.45l-7.72 7.72c-.78.78-.78 2.05 0 2.83L4 21.41c.39.39.9.59 1.41.59.51 0 1.02-.2 1.41-.59l7.78-7.78 2.81-2.81c.8-.78.8-2.07 0-2.86zM5.41 20L4 18.59l7.72-7.72 1.47 1.35L5.41 20z\"/>\n",
              "  </svg>\n",
              "      </button>\n",
              "      \n",
              "  <style>\n",
              "    .colab-df-container {\n",
              "      display:flex;\n",
              "      flex-wrap:wrap;\n",
              "      gap: 12px;\n",
              "    }\n",
              "\n",
              "    .colab-df-convert {\n",
              "      background-color: #E8F0FE;\n",
              "      border: none;\n",
              "      border-radius: 50%;\n",
              "      cursor: pointer;\n",
              "      display: none;\n",
              "      fill: #1967D2;\n",
              "      height: 32px;\n",
              "      padding: 0 0 0 0;\n",
              "      width: 32px;\n",
              "    }\n",
              "\n",
              "    .colab-df-convert:hover {\n",
              "      background-color: #E2EBFA;\n",
              "      box-shadow: 0px 1px 2px rgba(60, 64, 67, 0.3), 0px 1px 3px 1px rgba(60, 64, 67, 0.15);\n",
              "      fill: #174EA6;\n",
              "    }\n",
              "\n",
              "    [theme=dark] .colab-df-convert {\n",
              "      background-color: #3B4455;\n",
              "      fill: #D2E3FC;\n",
              "    }\n",
              "\n",
              "    [theme=dark] .colab-df-convert:hover {\n",
              "      background-color: #434B5C;\n",
              "      box-shadow: 0px 1px 3px 1px rgba(0, 0, 0, 0.15);\n",
              "      filter: drop-shadow(0px 1px 2px rgba(0, 0, 0, 0.3));\n",
              "      fill: #FFFFFF;\n",
              "    }\n",
              "  </style>\n",
              "\n",
              "      <script>\n",
              "        const buttonEl =\n",
              "          document.querySelector('#df-feecbaa1-64a7-46f2-b420-dce27e1d0eed button.colab-df-convert');\n",
              "        buttonEl.style.display =\n",
              "          google.colab.kernel.accessAllowed ? 'block' : 'none';\n",
              "\n",
              "        async function convertToInteractive(key) {\n",
              "          const element = document.querySelector('#df-feecbaa1-64a7-46f2-b420-dce27e1d0eed');\n",
              "          const dataTable =\n",
              "            await google.colab.kernel.invokeFunction('convertToInteractive',\n",
              "                                                     [key], {});\n",
              "          if (!dataTable) return;\n",
              "\n",
              "          const docLinkHtml = 'Like what you see? Visit the ' +\n",
              "            '<a target=\"_blank\" href=https://colab.research.google.com/notebooks/data_table.ipynb>data table notebook</a>'\n",
              "            + ' to learn more about interactive tables.';\n",
              "          element.innerHTML = '';\n",
              "          dataTable['output_type'] = 'display_data';\n",
              "          await google.colab.output.renderOutput(dataTable, element);\n",
              "          const docLink = document.createElement('div');\n",
              "          docLink.innerHTML = docLinkHtml;\n",
              "          element.appendChild(docLink);\n",
              "        }\n",
              "      </script>\n",
              "    </div>\n",
              "  </div>\n",
              "  "
            ]
          },
          "metadata": {},
          "execution_count": 11
        }
      ],
      "source": [
        "df.head()"
      ]
    },
    {
      "cell_type": "markdown",
      "metadata": {
        "id": "5CYQhSkxjOex"
      },
      "source": [
        "#### Label Encoding"
      ]
    },
    {
      "cell_type": "code",
      "execution_count": 12,
      "metadata": {
        "id": "vvcDw9JFjOey"
      },
      "outputs": [],
      "source": [
        "lbl_encoder = LabelEncoder()"
      ]
    },
    {
      "cell_type": "code",
      "execution_count": 13,
      "metadata": {
        "colab": {
          "base_uri": "https://localhost:8080/"
        },
        "id": "iScTg4D6jOey",
        "outputId": "be966b61-bcb9-43fc-a8ee-0ba22580a12a"
      },
      "outputs": [
        {
          "output_type": "execute_result",
          "data": {
            "text/plain": [
              "LabelEncoder()"
            ]
          },
          "metadata": {},
          "execution_count": 13
        }
      ],
      "source": [
        "# labeling encode\n",
        "lbl_encoder.fit(df['Annotation1']) # Fit against Annotation1 and apply Transformation against all Annotations"
      ]
    },
    {
      "cell_type": "markdown",
      "metadata": {
        "id": "6A7Vo8_xjOey"
      },
      "source": [
        "#### Applied Label Encoding on all Annotations"
      ]
    },
    {
      "cell_type": "code",
      "execution_count": 14,
      "metadata": {
        "id": "W1tcN4IujOez"
      },
      "outputs": [],
      "source": [
        "df_transform = df[['Annotation1', 'Annotation2', 'Annotation3']].apply(lbl_encoder.transform)"
      ]
    },
    {
      "cell_type": "code",
      "execution_count": 15,
      "metadata": {
        "colab": {
          "base_uri": "https://localhost:8080/",
          "height": 206
        },
        "id": "RSGvWJ8qjOez",
        "outputId": "f041781d-0fa1-4f04-cf55-2f6f985bee92"
      },
      "outputs": [
        {
          "output_type": "execute_result",
          "data": {
            "text/plain": [
              "   Annotation1  Annotation2  Annotation3\n",
              "0            1            1            1\n",
              "1            7            7            7\n",
              "2            7            1            7\n",
              "3            7            7            7\n",
              "4            1            4            1"
            ],
            "text/html": [
              "\n",
              "  <div id=\"df-efa07129-a828-4a44-97d9-8560ff3301d4\">\n",
              "    <div class=\"colab-df-container\">\n",
              "      <div>\n",
              "<style scoped>\n",
              "    .dataframe tbody tr th:only-of-type {\n",
              "        vertical-align: middle;\n",
              "    }\n",
              "\n",
              "    .dataframe tbody tr th {\n",
              "        vertical-align: top;\n",
              "    }\n",
              "\n",
              "    .dataframe thead th {\n",
              "        text-align: right;\n",
              "    }\n",
              "</style>\n",
              "<table border=\"1\" class=\"dataframe\">\n",
              "  <thead>\n",
              "    <tr style=\"text-align: right;\">\n",
              "      <th></th>\n",
              "      <th>Annotation1</th>\n",
              "      <th>Annotation2</th>\n",
              "      <th>Annotation3</th>\n",
              "    </tr>\n",
              "  </thead>\n",
              "  <tbody>\n",
              "    <tr>\n",
              "      <th>0</th>\n",
              "      <td>1</td>\n",
              "      <td>1</td>\n",
              "      <td>1</td>\n",
              "    </tr>\n",
              "    <tr>\n",
              "      <th>1</th>\n",
              "      <td>7</td>\n",
              "      <td>7</td>\n",
              "      <td>7</td>\n",
              "    </tr>\n",
              "    <tr>\n",
              "      <th>2</th>\n",
              "      <td>7</td>\n",
              "      <td>1</td>\n",
              "      <td>7</td>\n",
              "    </tr>\n",
              "    <tr>\n",
              "      <th>3</th>\n",
              "      <td>7</td>\n",
              "      <td>7</td>\n",
              "      <td>7</td>\n",
              "    </tr>\n",
              "    <tr>\n",
              "      <th>4</th>\n",
              "      <td>1</td>\n",
              "      <td>4</td>\n",
              "      <td>1</td>\n",
              "    </tr>\n",
              "  </tbody>\n",
              "</table>\n",
              "</div>\n",
              "      <button class=\"colab-df-convert\" onclick=\"convertToInteractive('df-efa07129-a828-4a44-97d9-8560ff3301d4')\"\n",
              "              title=\"Convert this dataframe to an interactive table.\"\n",
              "              style=\"display:none;\">\n",
              "        \n",
              "  <svg xmlns=\"http://www.w3.org/2000/svg\" height=\"24px\"viewBox=\"0 0 24 24\"\n",
              "       width=\"24px\">\n",
              "    <path d=\"M0 0h24v24H0V0z\" fill=\"none\"/>\n",
              "    <path d=\"M18.56 5.44l.94 2.06.94-2.06 2.06-.94-2.06-.94-.94-2.06-.94 2.06-2.06.94zm-11 1L8.5 8.5l.94-2.06 2.06-.94-2.06-.94L8.5 2.5l-.94 2.06-2.06.94zm10 10l.94 2.06.94-2.06 2.06-.94-2.06-.94-.94-2.06-.94 2.06-2.06.94z\"/><path d=\"M17.41 7.96l-1.37-1.37c-.4-.4-.92-.59-1.43-.59-.52 0-1.04.2-1.43.59L10.3 9.45l-7.72 7.72c-.78.78-.78 2.05 0 2.83L4 21.41c.39.39.9.59 1.41.59.51 0 1.02-.2 1.41-.59l7.78-7.78 2.81-2.81c.8-.78.8-2.07 0-2.86zM5.41 20L4 18.59l7.72-7.72 1.47 1.35L5.41 20z\"/>\n",
              "  </svg>\n",
              "      </button>\n",
              "      \n",
              "  <style>\n",
              "    .colab-df-container {\n",
              "      display:flex;\n",
              "      flex-wrap:wrap;\n",
              "      gap: 12px;\n",
              "    }\n",
              "\n",
              "    .colab-df-convert {\n",
              "      background-color: #E8F0FE;\n",
              "      border: none;\n",
              "      border-radius: 50%;\n",
              "      cursor: pointer;\n",
              "      display: none;\n",
              "      fill: #1967D2;\n",
              "      height: 32px;\n",
              "      padding: 0 0 0 0;\n",
              "      width: 32px;\n",
              "    }\n",
              "\n",
              "    .colab-df-convert:hover {\n",
              "      background-color: #E2EBFA;\n",
              "      box-shadow: 0px 1px 2px rgba(60, 64, 67, 0.3), 0px 1px 3px 1px rgba(60, 64, 67, 0.15);\n",
              "      fill: #174EA6;\n",
              "    }\n",
              "\n",
              "    [theme=dark] .colab-df-convert {\n",
              "      background-color: #3B4455;\n",
              "      fill: #D2E3FC;\n",
              "    }\n",
              "\n",
              "    [theme=dark] .colab-df-convert:hover {\n",
              "      background-color: #434B5C;\n",
              "      box-shadow: 0px 1px 3px 1px rgba(0, 0, 0, 0.15);\n",
              "      filter: drop-shadow(0px 1px 2px rgba(0, 0, 0, 0.3));\n",
              "      fill: #FFFFFF;\n",
              "    }\n",
              "  </style>\n",
              "\n",
              "      <script>\n",
              "        const buttonEl =\n",
              "          document.querySelector('#df-efa07129-a828-4a44-97d9-8560ff3301d4 button.colab-df-convert');\n",
              "        buttonEl.style.display =\n",
              "          google.colab.kernel.accessAllowed ? 'block' : 'none';\n",
              "\n",
              "        async function convertToInteractive(key) {\n",
              "          const element = document.querySelector('#df-efa07129-a828-4a44-97d9-8560ff3301d4');\n",
              "          const dataTable =\n",
              "            await google.colab.kernel.invokeFunction('convertToInteractive',\n",
              "                                                     [key], {});\n",
              "          if (!dataTable) return;\n",
              "\n",
              "          const docLinkHtml = 'Like what you see? Visit the ' +\n",
              "            '<a target=\"_blank\" href=https://colab.research.google.com/notebooks/data_table.ipynb>data table notebook</a>'\n",
              "            + ' to learn more about interactive tables.';\n",
              "          element.innerHTML = '';\n",
              "          dataTable['output_type'] = 'display_data';\n",
              "          await google.colab.output.renderOutput(dataTable, element);\n",
              "          const docLink = document.createElement('div');\n",
              "          docLink.innerHTML = docLinkHtml;\n",
              "          element.appendChild(docLink);\n",
              "        }\n",
              "      </script>\n",
              "    </div>\n",
              "  </div>\n",
              "  "
            ]
          },
          "metadata": {},
          "execution_count": 15
        }
      ],
      "source": [
        "df_transform.head()"
      ]
    },
    {
      "cell_type": "markdown",
      "metadata": {
        "id": "W-AksYUtjOez"
      },
      "source": [
        "## Kappa Score"
      ]
    },
    {
      "cell_type": "code",
      "execution_count": 16,
      "metadata": {
        "id": "EpgKNroijOez"
      },
      "outputs": [],
      "source": [
        "def kappa_score(y1, y2):\n",
        "    confusion = confusion_matrix(y1, y2)                     # Confusion Matrix\n",
        "    \n",
        "    n_classes = len(confusion)                               # No. of Classes derived from Confusion Matrix\n",
        "    \n",
        "    sum_row = np.sum(confusion, axis=0)                      # Sum of all the values across Rows\n",
        "    sum_col = np.sum(confusion, axis=1)                      # Sum of all the values across Columns\n",
        "    \n",
        "    expected = np.outer(sum_row, sum_col) / np.sum(sum_row)  # Finding Expected Value\n",
        "    \n",
        "    weight = np.ones([n_classes, n_classes], dtype=int)      # Finding Weights from Number of Classes\n",
        "    weight.flat[:: n_classes + 1] = 0\n",
        "\n",
        "    k = np.sum(weight * confusion) / np.sum(weight * expected) # Kappa Formula (1 - this formula)\n",
        "    \n",
        "    return 1 - k                                             # Return Actual Kappa Score"
      ]
    },
    {
      "cell_type": "code",
      "execution_count": 17,
      "metadata": {
        "colab": {
          "base_uri": "https://localhost:8080/"
        },
        "id": "hgI1Uf7NjOez",
        "outputId": "9261106d-6f19-4e2b-c7e3-88805bb08c5e"
      },
      "outputs": [
        {
          "output_type": "stream",
          "name": "stdout",
          "text": [
            "Kappa Scores between Annotation1, Annotation2 and Annotation3 are : [0.42830184648552283, 0.6699506558982792, 0.5201725501326195]\n"
          ]
        }
      ],
      "source": [
        "kappa_scores = []\n",
        "for col in df_transform.columns:\n",
        "    for col1 in df_transform.columns:\n",
        "        if col != col1 and list(df_transform.columns).index(col1) > list(df_transform.columns).index(col):\n",
        "            kappa_scores.append(kappa_score(df_transform[col], df_transform[col1]))\n",
        "\n",
        "print(\"Kappa Scores between Annotation1, Annotation2 and Annotation3 are : {}\".format(kappa_scores))"
      ]
    },
    {
      "cell_type": "code",
      "execution_count": 18,
      "metadata": {
        "colab": {
          "base_uri": "https://localhost:8080/"
        },
        "id": "EyPyFOyejOe0",
        "outputId": "d281dc08-8161-4cf9-a6d5-d8669b8e2120"
      },
      "outputs": [
        {
          "output_type": "stream",
          "name": "stdout",
          "text": [
            "Average Kappa Score of all pairs of Annotations : 0.5394750175054739\n"
          ]
        }
      ],
      "source": [
        "print(\"Average Kappa Score of all pairs of Annotations : {}\".format(np.mean(kappa_scores)))"
      ]
    },
    {
      "cell_type": "markdown",
      "metadata": {
        "id": "WtUZpS4MjOe0"
      },
      "source": [
        "## Fleiss Score"
      ]
    },
    {
      "cell_type": "code",
      "execution_count": 19,
      "metadata": {
        "id": "8bDSvAOxjOe0"
      },
      "outputs": [],
      "source": [
        "def fleiss_score(data):\n",
        "    \n",
        "    non_nan_duplicate_data = np.unique(data[~np.isnan(data)]) # Filter NANs and duplicte values\n",
        "\n",
        "    value_counts = (data.T[..., np.newaxis] == non_nan_duplicate_data[np.newaxis, np.newaxis, :]).sum(axis=1) # Value Counts\n",
        "    \n",
        "    N, V = value_counts.shape\n",
        "    pairable = np.maximum(value_counts.sum(axis=1), 2)\n",
        "    diagonals = value_counts[:, np.newaxis, :] * np.eye(V)[np.newaxis, ...]\n",
        "    unnormalized_coincidences = value_counts[..., np.newaxis] * value_counts[:, np.newaxis, :] - diagonals\n",
        "    \n",
        "    o = np.divide(unnormalized_coincidences, (pairable - 1).reshape((-1, 1, 1))).sum(axis=0)\n",
        "    \n",
        "    n_v = o.sum(axis=0)\n",
        "    \n",
        "    e = np.divide(np.outer(n_v, n_v) - np.diagflat(n_v), n_v.sum() - 1)\n",
        "    \n",
        "    indices = np.arange(len(non_nan_duplicate_data))\n",
        "    \n",
        "    d = (non_nan_duplicate_data[:, np.newaxis] - non_nan_duplicate_data[np.newaxis, :]) ** 2\n",
        "    \n",
        "    return 1 - (o * d).sum() / (e * d).sum()"
      ]
    },
    {
      "cell_type": "code",
      "execution_count": 20,
      "metadata": {
        "id": "JNM9mpr1jOe0"
      },
      "outputs": [],
      "source": [
        "data = np.array((df_transform['Annotation1'].values, df_transform['Annotation2'].values, df_transform['Annotation3'].values))"
      ]
    },
    {
      "cell_type": "code",
      "execution_count": 21,
      "metadata": {
        "colab": {
          "base_uri": "https://localhost:8080/"
        },
        "id": "fjFnAvqHjOe0",
        "outputId": "ac3a53f4-0859-4a5f-ccb5-30123b2ca008"
      },
      "outputs": [
        {
          "output_type": "stream",
          "name": "stdout",
          "text": [
            "Fleiss kappa score  0.57\n"
          ]
        }
      ],
      "source": [
        "print(\"Fleiss kappa score \", round(fleiss_score(data), 2))"
      ]
    },
    {
      "cell_type": "code",
      "execution_count": 21,
      "metadata": {
        "id": "hJwsGZ6UjOe1"
      },
      "outputs": [],
      "source": [
        ""
      ]
    }
  ],
  "metadata": {
    "kernelspec": {
      "display_name": "Python 3",
      "language": "python",
      "name": "python3"
    },
    "language_info": {
      "codemirror_mode": {
        "name": "ipython",
        "version": 3
      },
      "file_extension": ".py",
      "mimetype": "text/x-python",
      "name": "python",
      "nbconvert_exporter": "python",
      "pygments_lexer": "ipython3",
      "version": "3.8.8"
    },
    "colab": {
      "name": "lab_assignment_08-1.ipynb",
      "provenance": [],
      "include_colab_link": true
    }
  },
  "nbformat": 4,
  "nbformat_minor": 0
}