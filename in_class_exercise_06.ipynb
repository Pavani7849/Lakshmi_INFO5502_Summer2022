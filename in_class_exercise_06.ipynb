{
  "cells": [
    {
      "cell_type": "markdown",
      "metadata": {
        "id": "view-in-github",
        "colab_type": "text"
      },
      "source": [
        "<a href=\"https://colab.research.google.com/github/Pavani7849/Lakshmi_INFO5502_Summer2022/blob/main/in_class_exercise_06.ipynb\" target=\"_parent\"><img src=\"https://colab.research.google.com/assets/colab-badge.svg\" alt=\"Open In Colab\"/></a>"
      ]
    },
    {
      "cell_type": "markdown",
      "metadata": {
        "id": "cXx2eQuxtb2L"
      },
      "source": [
        "# SETTINGS"
      ]
    },
    {
      "cell_type": "code",
      "execution_count": null,
      "metadata": {
        "id": "SMArX8rZtb2O"
      },
      "outputs": [],
      "source": [
        "# DataSet\n",
        "dataset = \"train_luc.csv\"\n",
        "\n",
        "# Outliers Switch & Proportion\n",
        "remove_outliers = True\n",
        "outlier_proportion = 1.5\n",
        "\n",
        "# Columns to Drop\n",
        "columns_to_drop = ['casual','registered'] # \n",
        "\n",
        "\n",
        "# Target Variable Assignment\n",
        "target_name = 'count'\n",
        "\n",
        "# Data Types & Conversion\n",
        "data_types = {0:'int32', 1:'int64', 2:'float32', 3:'float64', 4:'str', 5:'object'}\n",
        "features_to_convert = {}\n",
        "\n",
        "# Output File\n",
        "pickle_file = \"pavani_assignment_model\""
      ]
    },
    {
      "cell_type": "markdown",
      "metadata": {
        "id": "5MuDf-6Vtb2Q"
      },
      "source": [
        "<br id='basiclibs'>\n",
        "\n",
        "## BASIC LIBRARIES"
      ]
    },
    {
      "cell_type": "code",
      "execution_count": null,
      "metadata": {
        "id": "PZX3_Q_ytb2Q"
      },
      "outputs": [],
      "source": [
        "import numpy as np   # Numerical Analysis \n",
        "\n",
        "import pandas as pd  # Loading Dataset, STatistical information, Join DataFrames like in SQL, etc.,\n",
        "\n",
        "import matplotlib.pyplot as plt # Plots/Charts\n",
        "\n",
        "import seaborn as sns  # Plots/Charts\n",
        "\n",
        "from scipy.stats import skew\n",
        "\n",
        "import statistics as st\n",
        "\n",
        "import os"
      ]
    },
    {
      "cell_type": "code",
      "execution_count": null,
      "metadata": {
        "id": "-sqbYvMHtb2R"
      },
      "outputs": [],
      "source": [
        "pd.set_option(\"display.max_columns\", None)\n",
        "pd.set_option(\"display.max_rows\", None)"
      ]
    },
    {
      "cell_type": "markdown",
      "metadata": {
        "id": "m0iJB7Xqtb2R"
      },
      "source": [
        "<hr style='height:10px'>"
      ]
    },
    {
      "cell_type": "markdown",
      "metadata": {
        "id": "YyPdRryUtb2T"
      },
      "source": [
        "<br id='createdf'>\n",
        "\n",
        "## CREATE DATAFRAME"
      ]
    },
    {
      "cell_type": "code",
      "execution_count": null,
      "metadata": {
        "id": "61pxO9LRtb2T"
      },
      "outputs": [],
      "source": [
        "dateparse = lambda dates: pd.datetime.strptime(dates, '%Y-%m')"
      ]
    },
    {
      "cell_type": "code",
      "execution_count": null,
      "metadata": {
        "id": "0nYZuQuktb2U"
      },
      "outputs": [],
      "source": [
        "dataset_path =\"./data/\" + dataset\n",
        "df = pd.read_csv(dataset_path,parse_dates=['datetime'], index_col='datetime')"
      ]
    },
    {
      "cell_type": "markdown",
      "metadata": {
        "id": "h_vQFqT4tb2U"
      },
      "source": [
        "## Strip Trail Spacesin Column Names"
      ]
    },
    {
      "cell_type": "code",
      "execution_count": null,
      "metadata": {
        "id": "UYx96aX5tb2U"
      },
      "outputs": [],
      "source": [
        "df.columns = [col.strip() for col in df.columns]"
      ]
    },
    {
      "cell_type": "markdown",
      "metadata": {
        "id": "r5AXsZsStb2V"
      },
      "source": [
        "## Convert Data Types of Features"
      ]
    },
    {
      "cell_type": "code",
      "execution_count": null,
      "metadata": {
        "id": "nUw7zV2ztb2V"
      },
      "outputs": [],
      "source": [
        "if len(features_to_convert) != 0:\n",
        "    for col, data_type in features_to_convert.items():\n",
        "        df[col] = df[col].astype(data_type)"
      ]
    },
    {
      "cell_type": "markdown",
      "metadata": {
        "id": "zzblLNJTtb2V"
      },
      "source": [
        "## Features to Drop"
      ]
    },
    {
      "cell_type": "code",
      "execution_count": null,
      "metadata": {
        "id": "hKD1UccZtb2W"
      },
      "outputs": [],
      "source": [
        "if len(columns_to_drop) != 0:\n",
        "    df = df.drop(columns_to_drop, axis=1)"
      ]
    },
    {
      "cell_type": "markdown",
      "metadata": {
        "id": "Cud7BlDAtb2W"
      },
      "source": [
        "<hr style='height:10px'>"
      ]
    },
    {
      "cell_type": "markdown",
      "metadata": {
        "id": "TadDlrg6tb2W"
      },
      "source": [
        "<br id='basicinfo'>\n",
        "\n",
        "## BASIC INFO"
      ]
    },
    {
      "cell_type": "markdown",
      "metadata": {
        "id": "1fb4wPmttb2W"
      },
      "source": [
        "### Check the Shape (Rows * Columns) of DataFrame"
      ]
    },
    {
      "cell_type": "code",
      "execution_count": null,
      "metadata": {
        "colab": {
          "base_uri": "https://localhost:8080/"
        },
        "id": "20Rwt4l4tb2X",
        "outputId": "601855b2-b278-4575-d84a-74127144cc8d"
      },
      "outputs": [
        {
          "output_type": "execute_result",
          "data": {
            "text/plain": [
              "(9174, 9)"
            ]
          },
          "metadata": {},
          "execution_count": 128
        }
      ],
      "source": [
        "df.shape"
      ]
    },
    {
      "cell_type": "markdown",
      "metadata": {
        "id": "zggR32E6tb2X"
      },
      "source": [
        "### Check the Datatypes of Features"
      ]
    },
    {
      "cell_type": "code",
      "execution_count": null,
      "metadata": {
        "colab": {
          "base_uri": "https://localhost:8080/"
        },
        "id": "iJJ9mHeGtb2Y",
        "outputId": "384eee8f-6a5c-412d-bc63-3ce19c35839a"
      },
      "outputs": [
        {
          "output_type": "execute_result",
          "data": {
            "text/plain": [
              "(season          int64\n",
              " holiday         int64\n",
              " workingday      int64\n",
              " weather         int64\n",
              " temp          float64\n",
              " atemp         float64\n",
              " humidity        int64\n",
              " windspeed     float64\n",
              " count           int64\n",
              " dtype: object,\n",
              " Index(['season', 'holiday', 'workingday', 'weather', 'temp', 'atemp',\n",
              "        'humidity', 'windspeed', 'count'],\n",
              "       dtype='object'))"
            ]
          },
          "metadata": {},
          "execution_count": 129
        }
      ],
      "source": [
        "df.dtypes, df.columns"
      ]
    },
    {
      "cell_type": "markdown",
      "metadata": {
        "id": "sKZ5ghnXtb2Y"
      },
      "source": [
        "### Get the First 5 Rows of DataFrame"
      ]
    },
    {
      "cell_type": "code",
      "execution_count": null,
      "metadata": {
        "colab": {
          "base_uri": "https://localhost:8080/",
          "height": 237
        },
        "id": "_w7AjPr7tb2Y",
        "outputId": "6fd0d4b9-4972-420c-e3e3-972e5118a1d5"
      },
      "outputs": [
        {
          "output_type": "execute_result",
          "data": {
            "text/plain": [
              "                     season  holiday  workingday  weather  temp   atemp  \\\n",
              "datetime                                                                  \n",
              "2011-01-01 00:00:00       1        0           0        1  9.84  14.395   \n",
              "2011-01-01 01:00:00       1        0           0        1  9.02  13.635   \n",
              "2011-01-01 02:00:00       1        0           0        1  9.02  13.635   \n",
              "2011-01-01 03:00:00       1        0           0        1  9.84  14.395   \n",
              "2011-01-01 04:00:00       1        0           0        1  9.84  14.395   \n",
              "\n",
              "                     humidity  windspeed  count  \n",
              "datetime                                         \n",
              "2011-01-01 00:00:00        81        0.0     16  \n",
              "2011-01-01 01:00:00        80        0.0     40  \n",
              "2011-01-01 02:00:00        80        0.0     32  \n",
              "2011-01-01 03:00:00        75        0.0     13  \n",
              "2011-01-01 04:00:00        75        0.0      1  "
            ],
            "text/html": [
              "\n",
              "  <div id=\"df-a820225f-ec74-4c80-ad20-5b64dfe87328\">\n",
              "    <div class=\"colab-df-container\">\n",
              "      <div>\n",
              "<style scoped>\n",
              "    .dataframe tbody tr th:only-of-type {\n",
              "        vertical-align: middle;\n",
              "    }\n",
              "\n",
              "    .dataframe tbody tr th {\n",
              "        vertical-align: top;\n",
              "    }\n",
              "\n",
              "    .dataframe thead th {\n",
              "        text-align: right;\n",
              "    }\n",
              "</style>\n",
              "<table border=\"1\" class=\"dataframe\">\n",
              "  <thead>\n",
              "    <tr style=\"text-align: right;\">\n",
              "      <th></th>\n",
              "      <th>season</th>\n",
              "      <th>holiday</th>\n",
              "      <th>workingday</th>\n",
              "      <th>weather</th>\n",
              "      <th>temp</th>\n",
              "      <th>atemp</th>\n",
              "      <th>humidity</th>\n",
              "      <th>windspeed</th>\n",
              "      <th>count</th>\n",
              "    </tr>\n",
              "    <tr>\n",
              "      <th>datetime</th>\n",
              "      <th></th>\n",
              "      <th></th>\n",
              "      <th></th>\n",
              "      <th></th>\n",
              "      <th></th>\n",
              "      <th></th>\n",
              "      <th></th>\n",
              "      <th></th>\n",
              "      <th></th>\n",
              "    </tr>\n",
              "  </thead>\n",
              "  <tbody>\n",
              "    <tr>\n",
              "      <th>2011-01-01 00:00:00</th>\n",
              "      <td>1</td>\n",
              "      <td>0</td>\n",
              "      <td>0</td>\n",
              "      <td>1</td>\n",
              "      <td>9.84</td>\n",
              "      <td>14.395</td>\n",
              "      <td>81</td>\n",
              "      <td>0.0</td>\n",
              "      <td>16</td>\n",
              "    </tr>\n",
              "    <tr>\n",
              "      <th>2011-01-01 01:00:00</th>\n",
              "      <td>1</td>\n",
              "      <td>0</td>\n",
              "      <td>0</td>\n",
              "      <td>1</td>\n",
              "      <td>9.02</td>\n",
              "      <td>13.635</td>\n",
              "      <td>80</td>\n",
              "      <td>0.0</td>\n",
              "      <td>40</td>\n",
              "    </tr>\n",
              "    <tr>\n",
              "      <th>2011-01-01 02:00:00</th>\n",
              "      <td>1</td>\n",
              "      <td>0</td>\n",
              "      <td>0</td>\n",
              "      <td>1</td>\n",
              "      <td>9.02</td>\n",
              "      <td>13.635</td>\n",
              "      <td>80</td>\n",
              "      <td>0.0</td>\n",
              "      <td>32</td>\n",
              "    </tr>\n",
              "    <tr>\n",
              "      <th>2011-01-01 03:00:00</th>\n",
              "      <td>1</td>\n",
              "      <td>0</td>\n",
              "      <td>0</td>\n",
              "      <td>1</td>\n",
              "      <td>9.84</td>\n",
              "      <td>14.395</td>\n",
              "      <td>75</td>\n",
              "      <td>0.0</td>\n",
              "      <td>13</td>\n",
              "    </tr>\n",
              "    <tr>\n",
              "      <th>2011-01-01 04:00:00</th>\n",
              "      <td>1</td>\n",
              "      <td>0</td>\n",
              "      <td>0</td>\n",
              "      <td>1</td>\n",
              "      <td>9.84</td>\n",
              "      <td>14.395</td>\n",
              "      <td>75</td>\n",
              "      <td>0.0</td>\n",
              "      <td>1</td>\n",
              "    </tr>\n",
              "  </tbody>\n",
              "</table>\n",
              "</div>\n",
              "      <button class=\"colab-df-convert\" onclick=\"convertToInteractive('df-a820225f-ec74-4c80-ad20-5b64dfe87328')\"\n",
              "              title=\"Convert this dataframe to an interactive table.\"\n",
              "              style=\"display:none;\">\n",
              "        \n",
              "  <svg xmlns=\"http://www.w3.org/2000/svg\" height=\"24px\"viewBox=\"0 0 24 24\"\n",
              "       width=\"24px\">\n",
              "    <path d=\"M0 0h24v24H0V0z\" fill=\"none\"/>\n",
              "    <path d=\"M18.56 5.44l.94 2.06.94-2.06 2.06-.94-2.06-.94-.94-2.06-.94 2.06-2.06.94zm-11 1L8.5 8.5l.94-2.06 2.06-.94-2.06-.94L8.5 2.5l-.94 2.06-2.06.94zm10 10l.94 2.06.94-2.06 2.06-.94-2.06-.94-.94-2.06-.94 2.06-2.06.94z\"/><path d=\"M17.41 7.96l-1.37-1.37c-.4-.4-.92-.59-1.43-.59-.52 0-1.04.2-1.43.59L10.3 9.45l-7.72 7.72c-.78.78-.78 2.05 0 2.83L4 21.41c.39.39.9.59 1.41.59.51 0 1.02-.2 1.41-.59l7.78-7.78 2.81-2.81c.8-.78.8-2.07 0-2.86zM5.41 20L4 18.59l7.72-7.72 1.47 1.35L5.41 20z\"/>\n",
              "  </svg>\n",
              "      </button>\n",
              "      \n",
              "  <style>\n",
              "    .colab-df-container {\n",
              "      display:flex;\n",
              "      flex-wrap:wrap;\n",
              "      gap: 12px;\n",
              "    }\n",
              "\n",
              "    .colab-df-convert {\n",
              "      background-color: #E8F0FE;\n",
              "      border: none;\n",
              "      border-radius: 50%;\n",
              "      cursor: pointer;\n",
              "      display: none;\n",
              "      fill: #1967D2;\n",
              "      height: 32px;\n",
              "      padding: 0 0 0 0;\n",
              "      width: 32px;\n",
              "    }\n",
              "\n",
              "    .colab-df-convert:hover {\n",
              "      background-color: #E2EBFA;\n",
              "      box-shadow: 0px 1px 2px rgba(60, 64, 67, 0.3), 0px 1px 3px 1px rgba(60, 64, 67, 0.15);\n",
              "      fill: #174EA6;\n",
              "    }\n",
              "\n",
              "    [theme=dark] .colab-df-convert {\n",
              "      background-color: #3B4455;\n",
              "      fill: #D2E3FC;\n",
              "    }\n",
              "\n",
              "    [theme=dark] .colab-df-convert:hover {\n",
              "      background-color: #434B5C;\n",
              "      box-shadow: 0px 1px 3px 1px rgba(0, 0, 0, 0.15);\n",
              "      filter: drop-shadow(0px 1px 2px rgba(0, 0, 0, 0.3));\n",
              "      fill: #FFFFFF;\n",
              "    }\n",
              "  </style>\n",
              "\n",
              "      <script>\n",
              "        const buttonEl =\n",
              "          document.querySelector('#df-a820225f-ec74-4c80-ad20-5b64dfe87328 button.colab-df-convert');\n",
              "        buttonEl.style.display =\n",
              "          google.colab.kernel.accessAllowed ? 'block' : 'none';\n",
              "\n",
              "        async function convertToInteractive(key) {\n",
              "          const element = document.querySelector('#df-a820225f-ec74-4c80-ad20-5b64dfe87328');\n",
              "          const dataTable =\n",
              "            await google.colab.kernel.invokeFunction('convertToInteractive',\n",
              "                                                     [key], {});\n",
              "          if (!dataTable) return;\n",
              "\n",
              "          const docLinkHtml = 'Like what you see? Visit the ' +\n",
              "            '<a target=\"_blank\" href=https://colab.research.google.com/notebooks/data_table.ipynb>data table notebook</a>'\n",
              "            + ' to learn more about interactive tables.';\n",
              "          element.innerHTML = '';\n",
              "          dataTable['output_type'] = 'display_data';\n",
              "          await google.colab.output.renderOutput(dataTable, element);\n",
              "          const docLink = document.createElement('div');\n",
              "          docLink.innerHTML = docLinkHtml;\n",
              "          element.appendChild(docLink);\n",
              "        }\n",
              "      </script>\n",
              "    </div>\n",
              "  </div>\n",
              "  "
            ]
          },
          "metadata": {},
          "execution_count": 130
        }
      ],
      "source": [
        "df.head()"
      ]
    },
    {
      "cell_type": "markdown",
      "metadata": {
        "id": "IeuUQkQdtb2Y"
      },
      "source": [
        "### Get the Last 5 Rows of DataFrame"
      ]
    },
    {
      "cell_type": "code",
      "execution_count": null,
      "metadata": {
        "colab": {
          "base_uri": "https://localhost:8080/",
          "height": 237
        },
        "id": "msvYpyNhtb2Z",
        "outputId": "a1c0aae4-8b12-46bf-f2b8-0c19709dff73"
      },
      "outputs": [
        {
          "output_type": "execute_result",
          "data": {
            "text/plain": [
              "                     season  holiday  workingday  weather   temp   atemp  \\\n",
              "datetime                                                                   \n",
              "2012-12-16 19:00:00       4        0           0        1  14.76  17.425   \n",
              "2012-12-16 20:00:00       4        0           0        2  15.58  19.695   \n",
              "2012-12-16 21:00:00       4        0           0        2  14.76  18.940   \n",
              "2012-12-16 22:00:00       4        0           0        2  16.40  20.455   \n",
              "2012-12-16 23:00:00       4        0           0        2  14.76  17.425   \n",
              "\n",
              "                     humidity  windspeed  count  \n",
              "datetime                                         \n",
              "2012-12-16 19:00:00        93     8.9981    109  \n",
              "2012-12-16 20:00:00        82     0.0000    122  \n",
              "2012-12-16 21:00:00        93     0.0000    106  \n",
              "2012-12-16 22:00:00        82    12.9980     89  \n",
              "2012-12-16 23:00:00        93     8.9981     33  "
            ],
            "text/html": [
              "\n",
              "  <div id=\"df-0420ede0-ea88-45df-82fc-3f160fa4e14e\">\n",
              "    <div class=\"colab-df-container\">\n",
              "      <div>\n",
              "<style scoped>\n",
              "    .dataframe tbody tr th:only-of-type {\n",
              "        vertical-align: middle;\n",
              "    }\n",
              "\n",
              "    .dataframe tbody tr th {\n",
              "        vertical-align: top;\n",
              "    }\n",
              "\n",
              "    .dataframe thead th {\n",
              "        text-align: right;\n",
              "    }\n",
              "</style>\n",
              "<table border=\"1\" class=\"dataframe\">\n",
              "  <thead>\n",
              "    <tr style=\"text-align: right;\">\n",
              "      <th></th>\n",
              "      <th>season</th>\n",
              "      <th>holiday</th>\n",
              "      <th>workingday</th>\n",
              "      <th>weather</th>\n",
              "      <th>temp</th>\n",
              "      <th>atemp</th>\n",
              "      <th>humidity</th>\n",
              "      <th>windspeed</th>\n",
              "      <th>count</th>\n",
              "    </tr>\n",
              "    <tr>\n",
              "      <th>datetime</th>\n",
              "      <th></th>\n",
              "      <th></th>\n",
              "      <th></th>\n",
              "      <th></th>\n",
              "      <th></th>\n",
              "      <th></th>\n",
              "      <th></th>\n",
              "      <th></th>\n",
              "      <th></th>\n",
              "    </tr>\n",
              "  </thead>\n",
              "  <tbody>\n",
              "    <tr>\n",
              "      <th>2012-12-16 19:00:00</th>\n",
              "      <td>4</td>\n",
              "      <td>0</td>\n",
              "      <td>0</td>\n",
              "      <td>1</td>\n",
              "      <td>14.76</td>\n",
              "      <td>17.425</td>\n",
              "      <td>93</td>\n",
              "      <td>8.9981</td>\n",
              "      <td>109</td>\n",
              "    </tr>\n",
              "    <tr>\n",
              "      <th>2012-12-16 20:00:00</th>\n",
              "      <td>4</td>\n",
              "      <td>0</td>\n",
              "      <td>0</td>\n",
              "      <td>2</td>\n",
              "      <td>15.58</td>\n",
              "      <td>19.695</td>\n",
              "      <td>82</td>\n",
              "      <td>0.0000</td>\n",
              "      <td>122</td>\n",
              "    </tr>\n",
              "    <tr>\n",
              "      <th>2012-12-16 21:00:00</th>\n",
              "      <td>4</td>\n",
              "      <td>0</td>\n",
              "      <td>0</td>\n",
              "      <td>2</td>\n",
              "      <td>14.76</td>\n",
              "      <td>18.940</td>\n",
              "      <td>93</td>\n",
              "      <td>0.0000</td>\n",
              "      <td>106</td>\n",
              "    </tr>\n",
              "    <tr>\n",
              "      <th>2012-12-16 22:00:00</th>\n",
              "      <td>4</td>\n",
              "      <td>0</td>\n",
              "      <td>0</td>\n",
              "      <td>2</td>\n",
              "      <td>16.40</td>\n",
              "      <td>20.455</td>\n",
              "      <td>82</td>\n",
              "      <td>12.9980</td>\n",
              "      <td>89</td>\n",
              "    </tr>\n",
              "    <tr>\n",
              "      <th>2012-12-16 23:00:00</th>\n",
              "      <td>4</td>\n",
              "      <td>0</td>\n",
              "      <td>0</td>\n",
              "      <td>2</td>\n",
              "      <td>14.76</td>\n",
              "      <td>17.425</td>\n",
              "      <td>93</td>\n",
              "      <td>8.9981</td>\n",
              "      <td>33</td>\n",
              "    </tr>\n",
              "  </tbody>\n",
              "</table>\n",
              "</div>\n",
              "      <button class=\"colab-df-convert\" onclick=\"convertToInteractive('df-0420ede0-ea88-45df-82fc-3f160fa4e14e')\"\n",
              "              title=\"Convert this dataframe to an interactive table.\"\n",
              "              style=\"display:none;\">\n",
              "        \n",
              "  <svg xmlns=\"http://www.w3.org/2000/svg\" height=\"24px\"viewBox=\"0 0 24 24\"\n",
              "       width=\"24px\">\n",
              "    <path d=\"M0 0h24v24H0V0z\" fill=\"none\"/>\n",
              "    <path d=\"M18.56 5.44l.94 2.06.94-2.06 2.06-.94-2.06-.94-.94-2.06-.94 2.06-2.06.94zm-11 1L8.5 8.5l.94-2.06 2.06-.94-2.06-.94L8.5 2.5l-.94 2.06-2.06.94zm10 10l.94 2.06.94-2.06 2.06-.94-2.06-.94-.94-2.06-.94 2.06-2.06.94z\"/><path d=\"M17.41 7.96l-1.37-1.37c-.4-.4-.92-.59-1.43-.59-.52 0-1.04.2-1.43.59L10.3 9.45l-7.72 7.72c-.78.78-.78 2.05 0 2.83L4 21.41c.39.39.9.59 1.41.59.51 0 1.02-.2 1.41-.59l7.78-7.78 2.81-2.81c.8-.78.8-2.07 0-2.86zM5.41 20L4 18.59l7.72-7.72 1.47 1.35L5.41 20z\"/>\n",
              "  </svg>\n",
              "      </button>\n",
              "      \n",
              "  <style>\n",
              "    .colab-df-container {\n",
              "      display:flex;\n",
              "      flex-wrap:wrap;\n",
              "      gap: 12px;\n",
              "    }\n",
              "\n",
              "    .colab-df-convert {\n",
              "      background-color: #E8F0FE;\n",
              "      border: none;\n",
              "      border-radius: 50%;\n",
              "      cursor: pointer;\n",
              "      display: none;\n",
              "      fill: #1967D2;\n",
              "      height: 32px;\n",
              "      padding: 0 0 0 0;\n",
              "      width: 32px;\n",
              "    }\n",
              "\n",
              "    .colab-df-convert:hover {\n",
              "      background-color: #E2EBFA;\n",
              "      box-shadow: 0px 1px 2px rgba(60, 64, 67, 0.3), 0px 1px 3px 1px rgba(60, 64, 67, 0.15);\n",
              "      fill: #174EA6;\n",
              "    }\n",
              "\n",
              "    [theme=dark] .colab-df-convert {\n",
              "      background-color: #3B4455;\n",
              "      fill: #D2E3FC;\n",
              "    }\n",
              "\n",
              "    [theme=dark] .colab-df-convert:hover {\n",
              "      background-color: #434B5C;\n",
              "      box-shadow: 0px 1px 3px 1px rgba(0, 0, 0, 0.15);\n",
              "      filter: drop-shadow(0px 1px 2px rgba(0, 0, 0, 0.3));\n",
              "      fill: #FFFFFF;\n",
              "    }\n",
              "  </style>\n",
              "\n",
              "      <script>\n",
              "        const buttonEl =\n",
              "          document.querySelector('#df-0420ede0-ea88-45df-82fc-3f160fa4e14e button.colab-df-convert');\n",
              "        buttonEl.style.display =\n",
              "          google.colab.kernel.accessAllowed ? 'block' : 'none';\n",
              "\n",
              "        async function convertToInteractive(key) {\n",
              "          const element = document.querySelector('#df-0420ede0-ea88-45df-82fc-3f160fa4e14e');\n",
              "          const dataTable =\n",
              "            await google.colab.kernel.invokeFunction('convertToInteractive',\n",
              "                                                     [key], {});\n",
              "          if (!dataTable) return;\n",
              "\n",
              "          const docLinkHtml = 'Like what you see? Visit the ' +\n",
              "            '<a target=\"_blank\" href=https://colab.research.google.com/notebooks/data_table.ipynb>data table notebook</a>'\n",
              "            + ' to learn more about interactive tables.';\n",
              "          element.innerHTML = '';\n",
              "          dataTable['output_type'] = 'display_data';\n",
              "          await google.colab.output.renderOutput(dataTable, element);\n",
              "          const docLink = document.createElement('div');\n",
              "          docLink.innerHTML = docLinkHtml;\n",
              "          element.appendChild(docLink);\n",
              "        }\n",
              "      </script>\n",
              "    </div>\n",
              "  </div>\n",
              "  "
            ]
          },
          "metadata": {},
          "execution_count": 131
        }
      ],
      "source": [
        "df.tail()"
      ]
    },
    {
      "cell_type": "markdown",
      "metadata": {
        "id": "bZN3CyR7tb2Z"
      },
      "source": [
        "### Categorical Features"
      ]
    },
    {
      "cell_type": "code",
      "execution_count": null,
      "metadata": {
        "colab": {
          "base_uri": "https://localhost:8080/"
        },
        "id": "grocvNYBtb2Z",
        "outputId": "d8d474ee-01f9-42ad-a7d1-ba3445eef97b"
      },
      "outputs": [
        {
          "output_type": "execute_result",
          "data": {
            "text/plain": [
              "Series([], dtype: object)"
            ]
          },
          "metadata": {},
          "execution_count": 132
        }
      ],
      "source": [
        "df.dtypes[df.dtypes=='object']"
      ]
    },
    {
      "cell_type": "markdown",
      "metadata": {
        "id": "kn6-lKsotb2Z"
      },
      "source": [
        "### Get All Numerical Features from DataFrame"
      ]
    },
    {
      "cell_type": "code",
      "execution_count": null,
      "metadata": {
        "colab": {
          "base_uri": "https://localhost:8080/"
        },
        "id": "1SJPt7Tftb2Z",
        "outputId": "afdf48c8-2aa3-4cf2-9906-837d56239ade"
      },
      "outputs": [
        {
          "output_type": "execute_result",
          "data": {
            "text/plain": [
              "season          int64\n",
              "holiday         int64\n",
              "workingday      int64\n",
              "weather         int64\n",
              "temp          float64\n",
              "atemp         float64\n",
              "humidity        int64\n",
              "windspeed     float64\n",
              "count           int64\n",
              "dtype: object"
            ]
          },
          "metadata": {},
          "execution_count": 133
        }
      ],
      "source": [
        "df.dtypes[df.dtypes != 'object']"
      ]
    },
    {
      "cell_type": "code",
      "execution_count": null,
      "metadata": {
        "colab": {
          "base_uri": "https://localhost:8080/"
        },
        "id": "Prue3R2Etb2Z",
        "outputId": "de16c1c8-8cd4-45d4-dcfd-957297a17891"
      },
      "outputs": [
        {
          "output_type": "execute_result",
          "data": {
            "text/plain": [
              "array([ 16,  40,  32, ..., 106,  89,  33])"
            ]
          },
          "metadata": {},
          "execution_count": 134
        }
      ],
      "source": [
        "np.array(df['count'])"
      ]
    },
    {
      "cell_type": "code",
      "execution_count": null,
      "metadata": {
        "colab": {
          "base_uri": "https://localhost:8080/",
          "height": 237
        },
        "id": "mriYGct6tb2a",
        "outputId": "3c7f3b64-a3d3-4697-9854-ecc4db0928f2"
      },
      "outputs": [
        {
          "output_type": "execute_result",
          "data": {
            "text/plain": [
              "                     season  holiday  workingday  weather  temp   atemp  \\\n",
              "datetime                                                                  \n",
              "2011-01-01 00:00:00       1        0           0        1  9.84  14.395   \n",
              "2011-01-01 01:00:00       1        0           0        1  9.02  13.635   \n",
              "2011-01-01 02:00:00       1        0           0        1  9.02  13.635   \n",
              "2011-01-01 03:00:00       1        0           0        1  9.84  14.395   \n",
              "2011-01-01 04:00:00       1        0           0        1  9.84  14.395   \n",
              "\n",
              "                     humidity  windspeed  count  \n",
              "datetime                                         \n",
              "2011-01-01 00:00:00        81        0.0     16  \n",
              "2011-01-01 01:00:00        80        0.0     40  \n",
              "2011-01-01 02:00:00        80        0.0     32  \n",
              "2011-01-01 03:00:00        75        0.0     13  \n",
              "2011-01-01 04:00:00        75        0.0      1  "
            ],
            "text/html": [
              "\n",
              "  <div id=\"df-77de9f4b-19b0-43f2-8af3-c81ed73d02f4\">\n",
              "    <div class=\"colab-df-container\">\n",
              "      <div>\n",
              "<style scoped>\n",
              "    .dataframe tbody tr th:only-of-type {\n",
              "        vertical-align: middle;\n",
              "    }\n",
              "\n",
              "    .dataframe tbody tr th {\n",
              "        vertical-align: top;\n",
              "    }\n",
              "\n",
              "    .dataframe thead th {\n",
              "        text-align: right;\n",
              "    }\n",
              "</style>\n",
              "<table border=\"1\" class=\"dataframe\">\n",
              "  <thead>\n",
              "    <tr style=\"text-align: right;\">\n",
              "      <th></th>\n",
              "      <th>season</th>\n",
              "      <th>holiday</th>\n",
              "      <th>workingday</th>\n",
              "      <th>weather</th>\n",
              "      <th>temp</th>\n",
              "      <th>atemp</th>\n",
              "      <th>humidity</th>\n",
              "      <th>windspeed</th>\n",
              "      <th>count</th>\n",
              "    </tr>\n",
              "    <tr>\n",
              "      <th>datetime</th>\n",
              "      <th></th>\n",
              "      <th></th>\n",
              "      <th></th>\n",
              "      <th></th>\n",
              "      <th></th>\n",
              "      <th></th>\n",
              "      <th></th>\n",
              "      <th></th>\n",
              "      <th></th>\n",
              "    </tr>\n",
              "  </thead>\n",
              "  <tbody>\n",
              "    <tr>\n",
              "      <th>2011-01-01 00:00:00</th>\n",
              "      <td>1</td>\n",
              "      <td>0</td>\n",
              "      <td>0</td>\n",
              "      <td>1</td>\n",
              "      <td>9.84</td>\n",
              "      <td>14.395</td>\n",
              "      <td>81</td>\n",
              "      <td>0.0</td>\n",
              "      <td>16</td>\n",
              "    </tr>\n",
              "    <tr>\n",
              "      <th>2011-01-01 01:00:00</th>\n",
              "      <td>1</td>\n",
              "      <td>0</td>\n",
              "      <td>0</td>\n",
              "      <td>1</td>\n",
              "      <td>9.02</td>\n",
              "      <td>13.635</td>\n",
              "      <td>80</td>\n",
              "      <td>0.0</td>\n",
              "      <td>40</td>\n",
              "    </tr>\n",
              "    <tr>\n",
              "      <th>2011-01-01 02:00:00</th>\n",
              "      <td>1</td>\n",
              "      <td>0</td>\n",
              "      <td>0</td>\n",
              "      <td>1</td>\n",
              "      <td>9.02</td>\n",
              "      <td>13.635</td>\n",
              "      <td>80</td>\n",
              "      <td>0.0</td>\n",
              "      <td>32</td>\n",
              "    </tr>\n",
              "    <tr>\n",
              "      <th>2011-01-01 03:00:00</th>\n",
              "      <td>1</td>\n",
              "      <td>0</td>\n",
              "      <td>0</td>\n",
              "      <td>1</td>\n",
              "      <td>9.84</td>\n",
              "      <td>14.395</td>\n",
              "      <td>75</td>\n",
              "      <td>0.0</td>\n",
              "      <td>13</td>\n",
              "    </tr>\n",
              "    <tr>\n",
              "      <th>2011-01-01 04:00:00</th>\n",
              "      <td>1</td>\n",
              "      <td>0</td>\n",
              "      <td>0</td>\n",
              "      <td>1</td>\n",
              "      <td>9.84</td>\n",
              "      <td>14.395</td>\n",
              "      <td>75</td>\n",
              "      <td>0.0</td>\n",
              "      <td>1</td>\n",
              "    </tr>\n",
              "  </tbody>\n",
              "</table>\n",
              "</div>\n",
              "      <button class=\"colab-df-convert\" onclick=\"convertToInteractive('df-77de9f4b-19b0-43f2-8af3-c81ed73d02f4')\"\n",
              "              title=\"Convert this dataframe to an interactive table.\"\n",
              "              style=\"display:none;\">\n",
              "        \n",
              "  <svg xmlns=\"http://www.w3.org/2000/svg\" height=\"24px\"viewBox=\"0 0 24 24\"\n",
              "       width=\"24px\">\n",
              "    <path d=\"M0 0h24v24H0V0z\" fill=\"none\"/>\n",
              "    <path d=\"M18.56 5.44l.94 2.06.94-2.06 2.06-.94-2.06-.94-.94-2.06-.94 2.06-2.06.94zm-11 1L8.5 8.5l.94-2.06 2.06-.94-2.06-.94L8.5 2.5l-.94 2.06-2.06.94zm10 10l.94 2.06.94-2.06 2.06-.94-2.06-.94-.94-2.06-.94 2.06-2.06.94z\"/><path d=\"M17.41 7.96l-1.37-1.37c-.4-.4-.92-.59-1.43-.59-.52 0-1.04.2-1.43.59L10.3 9.45l-7.72 7.72c-.78.78-.78 2.05 0 2.83L4 21.41c.39.39.9.59 1.41.59.51 0 1.02-.2 1.41-.59l7.78-7.78 2.81-2.81c.8-.78.8-2.07 0-2.86zM5.41 20L4 18.59l7.72-7.72 1.47 1.35L5.41 20z\"/>\n",
              "  </svg>\n",
              "      </button>\n",
              "      \n",
              "  <style>\n",
              "    .colab-df-container {\n",
              "      display:flex;\n",
              "      flex-wrap:wrap;\n",
              "      gap: 12px;\n",
              "    }\n",
              "\n",
              "    .colab-df-convert {\n",
              "      background-color: #E8F0FE;\n",
              "      border: none;\n",
              "      border-radius: 50%;\n",
              "      cursor: pointer;\n",
              "      display: none;\n",
              "      fill: #1967D2;\n",
              "      height: 32px;\n",
              "      padding: 0 0 0 0;\n",
              "      width: 32px;\n",
              "    }\n",
              "\n",
              "    .colab-df-convert:hover {\n",
              "      background-color: #E2EBFA;\n",
              "      box-shadow: 0px 1px 2px rgba(60, 64, 67, 0.3), 0px 1px 3px 1px rgba(60, 64, 67, 0.15);\n",
              "      fill: #174EA6;\n",
              "    }\n",
              "\n",
              "    [theme=dark] .colab-df-convert {\n",
              "      background-color: #3B4455;\n",
              "      fill: #D2E3FC;\n",
              "    }\n",
              "\n",
              "    [theme=dark] .colab-df-convert:hover {\n",
              "      background-color: #434B5C;\n",
              "      box-shadow: 0px 1px 3px 1px rgba(0, 0, 0, 0.15);\n",
              "      filter: drop-shadow(0px 1px 2px rgba(0, 0, 0, 0.3));\n",
              "      fill: #FFFFFF;\n",
              "    }\n",
              "  </style>\n",
              "\n",
              "      <script>\n",
              "        const buttonEl =\n",
              "          document.querySelector('#df-77de9f4b-19b0-43f2-8af3-c81ed73d02f4 button.colab-df-convert');\n",
              "        buttonEl.style.display =\n",
              "          google.colab.kernel.accessAllowed ? 'block' : 'none';\n",
              "\n",
              "        async function convertToInteractive(key) {\n",
              "          const element = document.querySelector('#df-77de9f4b-19b0-43f2-8af3-c81ed73d02f4');\n",
              "          const dataTable =\n",
              "            await google.colab.kernel.invokeFunction('convertToInteractive',\n",
              "                                                     [key], {});\n",
              "          if (!dataTable) return;\n",
              "\n",
              "          const docLinkHtml = 'Like what you see? Visit the ' +\n",
              "            '<a target=\"_blank\" href=https://colab.research.google.com/notebooks/data_table.ipynb>data table notebook</a>'\n",
              "            + ' to learn more about interactive tables.';\n",
              "          element.innerHTML = '';\n",
              "          dataTable['output_type'] = 'display_data';\n",
              "          await google.colab.output.renderOutput(dataTable, element);\n",
              "          const docLink = document.createElement('div');\n",
              "          docLink.innerHTML = docLinkHtml;\n",
              "          element.appendChild(docLink);\n",
              "        }\n",
              "      </script>\n",
              "    </div>\n",
              "  </div>\n",
              "  "
            ]
          },
          "metadata": {},
          "execution_count": 135
        }
      ],
      "source": [
        "df.head()"
      ]
    },
    {
      "cell_type": "code",
      "execution_count": null,
      "metadata": {
        "id": "mkAw-Dcotb2b"
      },
      "outputs": [],
      "source": [
        "df[['Year', 'Month', 'Day','Day of Week', 'Hour', 'Minutes', 'Seconds']] = np.column_stack((df.index.year, df.index.month, df.index.day, df.index.dayofweek, df.index.hour, df.index.minute, df.index.second))"
      ]
    },
    {
      "cell_type": "code",
      "execution_count": null,
      "metadata": {
        "colab": {
          "base_uri": "https://localhost:8080/",
          "height": 386
        },
        "id": "vfxh9QROtb2b",
        "outputId": "e5894a6f-02cf-46de-a6db-798c7add9c2b"
      },
      "outputs": [
        {
          "output_type": "execute_result",
          "data": {
            "text/plain": [
              "                     season  holiday  workingday  weather  temp   atemp  \\\n",
              "datetime                                                                  \n",
              "2011-01-01 00:00:00       1        0           0        1  9.84  14.395   \n",
              "2011-01-01 01:00:00       1        0           0        1  9.02  13.635   \n",
              "2011-01-01 02:00:00       1        0           0        1  9.02  13.635   \n",
              "2011-01-01 03:00:00       1        0           0        1  9.84  14.395   \n",
              "2011-01-01 04:00:00       1        0           0        1  9.84  14.395   \n",
              "\n",
              "                     humidity  windspeed  count  Year  Month  Day  \\\n",
              "datetime                                                            \n",
              "2011-01-01 00:00:00        81        0.0     16  2011      1    1   \n",
              "2011-01-01 01:00:00        80        0.0     40  2011      1    1   \n",
              "2011-01-01 02:00:00        80        0.0     32  2011      1    1   \n",
              "2011-01-01 03:00:00        75        0.0     13  2011      1    1   \n",
              "2011-01-01 04:00:00        75        0.0      1  2011      1    1   \n",
              "\n",
              "                     Day of Week  Hour  Minutes  Seconds  \n",
              "datetime                                                  \n",
              "2011-01-01 00:00:00            5     0        0        0  \n",
              "2011-01-01 01:00:00            5     1        0        0  \n",
              "2011-01-01 02:00:00            5     2        0        0  \n",
              "2011-01-01 03:00:00            5     3        0        0  \n",
              "2011-01-01 04:00:00            5     4        0        0  "
            ],
            "text/html": [
              "\n",
              "  <div id=\"df-c1dab7d9-946c-4147-8e5f-8d1072c29fe0\">\n",
              "    <div class=\"colab-df-container\">\n",
              "      <div>\n",
              "<style scoped>\n",
              "    .dataframe tbody tr th:only-of-type {\n",
              "        vertical-align: middle;\n",
              "    }\n",
              "\n",
              "    .dataframe tbody tr th {\n",
              "        vertical-align: top;\n",
              "    }\n",
              "\n",
              "    .dataframe thead th {\n",
              "        text-align: right;\n",
              "    }\n",
              "</style>\n",
              "<table border=\"1\" class=\"dataframe\">\n",
              "  <thead>\n",
              "    <tr style=\"text-align: right;\">\n",
              "      <th></th>\n",
              "      <th>season</th>\n",
              "      <th>holiday</th>\n",
              "      <th>workingday</th>\n",
              "      <th>weather</th>\n",
              "      <th>temp</th>\n",
              "      <th>atemp</th>\n",
              "      <th>humidity</th>\n",
              "      <th>windspeed</th>\n",
              "      <th>count</th>\n",
              "      <th>Year</th>\n",
              "      <th>Month</th>\n",
              "      <th>Day</th>\n",
              "      <th>Day of Week</th>\n",
              "      <th>Hour</th>\n",
              "      <th>Minutes</th>\n",
              "      <th>Seconds</th>\n",
              "    </tr>\n",
              "    <tr>\n",
              "      <th>datetime</th>\n",
              "      <th></th>\n",
              "      <th></th>\n",
              "      <th></th>\n",
              "      <th></th>\n",
              "      <th></th>\n",
              "      <th></th>\n",
              "      <th></th>\n",
              "      <th></th>\n",
              "      <th></th>\n",
              "      <th></th>\n",
              "      <th></th>\n",
              "      <th></th>\n",
              "      <th></th>\n",
              "      <th></th>\n",
              "      <th></th>\n",
              "      <th></th>\n",
              "    </tr>\n",
              "  </thead>\n",
              "  <tbody>\n",
              "    <tr>\n",
              "      <th>2011-01-01 00:00:00</th>\n",
              "      <td>1</td>\n",
              "      <td>0</td>\n",
              "      <td>0</td>\n",
              "      <td>1</td>\n",
              "      <td>9.84</td>\n",
              "      <td>14.395</td>\n",
              "      <td>81</td>\n",
              "      <td>0.0</td>\n",
              "      <td>16</td>\n",
              "      <td>2011</td>\n",
              "      <td>1</td>\n",
              "      <td>1</td>\n",
              "      <td>5</td>\n",
              "      <td>0</td>\n",
              "      <td>0</td>\n",
              "      <td>0</td>\n",
              "    </tr>\n",
              "    <tr>\n",
              "      <th>2011-01-01 01:00:00</th>\n",
              "      <td>1</td>\n",
              "      <td>0</td>\n",
              "      <td>0</td>\n",
              "      <td>1</td>\n",
              "      <td>9.02</td>\n",
              "      <td>13.635</td>\n",
              "      <td>80</td>\n",
              "      <td>0.0</td>\n",
              "      <td>40</td>\n",
              "      <td>2011</td>\n",
              "      <td>1</td>\n",
              "      <td>1</td>\n",
              "      <td>5</td>\n",
              "      <td>1</td>\n",
              "      <td>0</td>\n",
              "      <td>0</td>\n",
              "    </tr>\n",
              "    <tr>\n",
              "      <th>2011-01-01 02:00:00</th>\n",
              "      <td>1</td>\n",
              "      <td>0</td>\n",
              "      <td>0</td>\n",
              "      <td>1</td>\n",
              "      <td>9.02</td>\n",
              "      <td>13.635</td>\n",
              "      <td>80</td>\n",
              "      <td>0.0</td>\n",
              "      <td>32</td>\n",
              "      <td>2011</td>\n",
              "      <td>1</td>\n",
              "      <td>1</td>\n",
              "      <td>5</td>\n",
              "      <td>2</td>\n",
              "      <td>0</td>\n",
              "      <td>0</td>\n",
              "    </tr>\n",
              "    <tr>\n",
              "      <th>2011-01-01 03:00:00</th>\n",
              "      <td>1</td>\n",
              "      <td>0</td>\n",
              "      <td>0</td>\n",
              "      <td>1</td>\n",
              "      <td>9.84</td>\n",
              "      <td>14.395</td>\n",
              "      <td>75</td>\n",
              "      <td>0.0</td>\n",
              "      <td>13</td>\n",
              "      <td>2011</td>\n",
              "      <td>1</td>\n",
              "      <td>1</td>\n",
              "      <td>5</td>\n",
              "      <td>3</td>\n",
              "      <td>0</td>\n",
              "      <td>0</td>\n",
              "    </tr>\n",
              "    <tr>\n",
              "      <th>2011-01-01 04:00:00</th>\n",
              "      <td>1</td>\n",
              "      <td>0</td>\n",
              "      <td>0</td>\n",
              "      <td>1</td>\n",
              "      <td>9.84</td>\n",
              "      <td>14.395</td>\n",
              "      <td>75</td>\n",
              "      <td>0.0</td>\n",
              "      <td>1</td>\n",
              "      <td>2011</td>\n",
              "      <td>1</td>\n",
              "      <td>1</td>\n",
              "      <td>5</td>\n",
              "      <td>4</td>\n",
              "      <td>0</td>\n",
              "      <td>0</td>\n",
              "    </tr>\n",
              "  </tbody>\n",
              "</table>\n",
              "</div>\n",
              "      <button class=\"colab-df-convert\" onclick=\"convertToInteractive('df-c1dab7d9-946c-4147-8e5f-8d1072c29fe0')\"\n",
              "              title=\"Convert this dataframe to an interactive table.\"\n",
              "              style=\"display:none;\">\n",
              "        \n",
              "  <svg xmlns=\"http://www.w3.org/2000/svg\" height=\"24px\"viewBox=\"0 0 24 24\"\n",
              "       width=\"24px\">\n",
              "    <path d=\"M0 0h24v24H0V0z\" fill=\"none\"/>\n",
              "    <path d=\"M18.56 5.44l.94 2.06.94-2.06 2.06-.94-2.06-.94-.94-2.06-.94 2.06-2.06.94zm-11 1L8.5 8.5l.94-2.06 2.06-.94-2.06-.94L8.5 2.5l-.94 2.06-2.06.94zm10 10l.94 2.06.94-2.06 2.06-.94-2.06-.94-.94-2.06-.94 2.06-2.06.94z\"/><path d=\"M17.41 7.96l-1.37-1.37c-.4-.4-.92-.59-1.43-.59-.52 0-1.04.2-1.43.59L10.3 9.45l-7.72 7.72c-.78.78-.78 2.05 0 2.83L4 21.41c.39.39.9.59 1.41.59.51 0 1.02-.2 1.41-.59l7.78-7.78 2.81-2.81c.8-.78.8-2.07 0-2.86zM5.41 20L4 18.59l7.72-7.72 1.47 1.35L5.41 20z\"/>\n",
              "  </svg>\n",
              "      </button>\n",
              "      \n",
              "  <style>\n",
              "    .colab-df-container {\n",
              "      display:flex;\n",
              "      flex-wrap:wrap;\n",
              "      gap: 12px;\n",
              "    }\n",
              "\n",
              "    .colab-df-convert {\n",
              "      background-color: #E8F0FE;\n",
              "      border: none;\n",
              "      border-radius: 50%;\n",
              "      cursor: pointer;\n",
              "      display: none;\n",
              "      fill: #1967D2;\n",
              "      height: 32px;\n",
              "      padding: 0 0 0 0;\n",
              "      width: 32px;\n",
              "    }\n",
              "\n",
              "    .colab-df-convert:hover {\n",
              "      background-color: #E2EBFA;\n",
              "      box-shadow: 0px 1px 2px rgba(60, 64, 67, 0.3), 0px 1px 3px 1px rgba(60, 64, 67, 0.15);\n",
              "      fill: #174EA6;\n",
              "    }\n",
              "\n",
              "    [theme=dark] .colab-df-convert {\n",
              "      background-color: #3B4455;\n",
              "      fill: #D2E3FC;\n",
              "    }\n",
              "\n",
              "    [theme=dark] .colab-df-convert:hover {\n",
              "      background-color: #434B5C;\n",
              "      box-shadow: 0px 1px 3px 1px rgba(0, 0, 0, 0.15);\n",
              "      filter: drop-shadow(0px 1px 2px rgba(0, 0, 0, 0.3));\n",
              "      fill: #FFFFFF;\n",
              "    }\n",
              "  </style>\n",
              "\n",
              "      <script>\n",
              "        const buttonEl =\n",
              "          document.querySelector('#df-c1dab7d9-946c-4147-8e5f-8d1072c29fe0 button.colab-df-convert');\n",
              "        buttonEl.style.display =\n",
              "          google.colab.kernel.accessAllowed ? 'block' : 'none';\n",
              "\n",
              "        async function convertToInteractive(key) {\n",
              "          const element = document.querySelector('#df-c1dab7d9-946c-4147-8e5f-8d1072c29fe0');\n",
              "          const dataTable =\n",
              "            await google.colab.kernel.invokeFunction('convertToInteractive',\n",
              "                                                     [key], {});\n",
              "          if (!dataTable) return;\n",
              "\n",
              "          const docLinkHtml = 'Like what you see? Visit the ' +\n",
              "            '<a target=\"_blank\" href=https://colab.research.google.com/notebooks/data_table.ipynb>data table notebook</a>'\n",
              "            + ' to learn more about interactive tables.';\n",
              "          element.innerHTML = '';\n",
              "          dataTable['output_type'] = 'display_data';\n",
              "          await google.colab.output.renderOutput(dataTable, element);\n",
              "          const docLink = document.createElement('div');\n",
              "          docLink.innerHTML = docLinkHtml;\n",
              "          element.appendChild(docLink);\n",
              "        }\n",
              "      </script>\n",
              "    </div>\n",
              "  </div>\n",
              "  "
            ]
          },
          "metadata": {},
          "execution_count": 137
        }
      ],
      "source": [
        "df.head()"
      ]
    },
    {
      "cell_type": "markdown",
      "metadata": {
        "id": "BprRBcbstb2b"
      },
      "source": [
        "### Get all the Categorical Features"
      ]
    },
    {
      "cell_type": "code",
      "execution_count": null,
      "metadata": {
        "colab": {
          "base_uri": "https://localhost:8080/"
        },
        "id": "spUazcS3tb2b",
        "outputId": "0208b823-0b52-4a5e-d7ac-5c3916874e0b"
      },
      "outputs": [
        {
          "output_type": "execute_result",
          "data": {
            "text/plain": [
              "[]"
            ]
          },
          "metadata": {},
          "execution_count": 138
        }
      ],
      "source": [
        "[features for features in df.dtypes[df.dtypes=='object'].index]"
      ]
    },
    {
      "cell_type": "markdown",
      "metadata": {
        "id": "myPhCiqitb2b"
      },
      "source": [
        "<hr style='height:10px'>"
      ]
    },
    {
      "cell_type": "markdown",
      "metadata": {
        "id": "2FPSHpJNtb2c"
      },
      "source": [
        "<br id='eda'>\n",
        "\n",
        "## EXPLORATORY DATA ANALYSIS"
      ]
    },
    {
      "cell_type": "markdown",
      "metadata": {
        "id": "LAtrv_Z7tb2c"
      },
      "source": [
        "### Distribution of Numerical Features"
      ]
    },
    {
      "cell_type": "code",
      "execution_count": null,
      "metadata": {
        "colab": {
          "base_uri": "https://localhost:8080/"
        },
        "id": "3Fqtjaystb2c",
        "outputId": "f065a3c7-5a53-4928-a11d-d2bd8a7e17f4"
      },
      "outputs": [
        {
          "output_type": "execute_result",
          "data": {
            "text/plain": [
              "['season',\n",
              " 'holiday',\n",
              " 'workingday',\n",
              " 'weather',\n",
              " 'temp',\n",
              " 'atemp',\n",
              " 'humidity',\n",
              " 'windspeed',\n",
              " 'count',\n",
              " 'Year',\n",
              " 'Month',\n",
              " 'Day',\n",
              " 'Day of Week',\n",
              " 'Hour',\n",
              " 'Minutes',\n",
              " 'Seconds']"
            ]
          },
          "metadata": {},
          "execution_count": 139
        }
      ],
      "source": [
        "[features for features in df.dtypes[df.dtypes != 'object'].index]"
      ]
    },
    {
      "cell_type": "code",
      "execution_count": null,
      "metadata": {
        "id": "jGZDcfc6tb2c"
      },
      "outputs": [],
      "source": [
        "num_features = df.dtypes[df.dtypes != 'object'].index"
      ]
    },
    {
      "cell_type": "code",
      "execution_count": null,
      "metadata": {
        "colab": {
          "base_uri": "https://localhost:8080/",
          "height": 382
        },
        "id": "ai-nLgrQtb2c",
        "outputId": "b2f5094b-5216-4018-9e69-50bafc3e655e"
      },
      "outputs": [
        {
          "output_type": "execute_result",
          "data": {
            "text/plain": [
              "            season      holiday   workingday      weather         temp  \\\n",
              "count  9174.000000  9174.000000  9174.000000  9174.000000  9174.000000   \n",
              "mean      2.505559     0.031284     0.678875     1.414868    20.130401   \n",
              "std       1.116618     0.174094     0.466934     0.635363     7.940504   \n",
              "min       1.000000     0.000000     0.000000     1.000000     0.820000   \n",
              "25%       2.000000     0.000000     0.000000     1.000000    13.940000   \n",
              "50%       3.000000     0.000000     1.000000     1.000000    20.500000   \n",
              "75%       4.000000     0.000000     1.000000     2.000000    27.060000   \n",
              "max       4.000000     1.000000     1.000000     4.000000    41.000000   \n",
              "\n",
              "             atemp     humidity    windspeed        count         Year  \\\n",
              "count  9174.000000  9174.000000  9174.000000  9174.000000  9174.000000   \n",
              "mean     23.578433    61.715064    12.737931   190.581753  2011.501526   \n",
              "std       8.617957    19.401829     8.199027   181.011530     0.500025   \n",
              "min       0.760000     0.000000     0.000000     1.000000  2011.000000   \n",
              "25%      16.665000    46.000000     7.001500    41.000000  2011.000000   \n",
              "50%      24.240000    61.000000    11.001400   144.000000  2012.000000   \n",
              "75%      31.060000    78.000000    16.997900   282.000000  2012.000000   \n",
              "max      45.455000   100.000000    56.996900   977.000000  2012.000000   \n",
              "\n",
              "             Month          Day  Day of Week         Hour  Minutes  Seconds  \n",
              "count  9174.000000  9174.000000  9174.000000  9174.000000   9174.0   9174.0  \n",
              "mean      6.517114     8.498365     3.024090    11.537933      0.0      0.0  \n",
              "std       3.447047     4.611702     1.999882     6.915338      0.0      0.0  \n",
              "min       1.000000     1.000000     0.000000     0.000000      0.0      0.0  \n",
              "25%       4.000000     4.000000     1.000000     6.000000      0.0      0.0  \n",
              "50%       7.000000     8.000000     3.000000    12.000000      0.0      0.0  \n",
              "75%      10.000000    13.000000     5.000000    18.000000      0.0      0.0  \n",
              "max      12.000000    16.000000     6.000000    23.000000      0.0      0.0  "
            ],
            "text/html": [
              "\n",
              "  <div id=\"df-73971016-bfcb-45b7-a2bd-a1644f257000\">\n",
              "    <div class=\"colab-df-container\">\n",
              "      <div>\n",
              "<style scoped>\n",
              "    .dataframe tbody tr th:only-of-type {\n",
              "        vertical-align: middle;\n",
              "    }\n",
              "\n",
              "    .dataframe tbody tr th {\n",
              "        vertical-align: top;\n",
              "    }\n",
              "\n",
              "    .dataframe thead th {\n",
              "        text-align: right;\n",
              "    }\n",
              "</style>\n",
              "<table border=\"1\" class=\"dataframe\">\n",
              "  <thead>\n",
              "    <tr style=\"text-align: right;\">\n",
              "      <th></th>\n",
              "      <th>season</th>\n",
              "      <th>holiday</th>\n",
              "      <th>workingday</th>\n",
              "      <th>weather</th>\n",
              "      <th>temp</th>\n",
              "      <th>atemp</th>\n",
              "      <th>humidity</th>\n",
              "      <th>windspeed</th>\n",
              "      <th>count</th>\n",
              "      <th>Year</th>\n",
              "      <th>Month</th>\n",
              "      <th>Day</th>\n",
              "      <th>Day of Week</th>\n",
              "      <th>Hour</th>\n",
              "      <th>Minutes</th>\n",
              "      <th>Seconds</th>\n",
              "    </tr>\n",
              "  </thead>\n",
              "  <tbody>\n",
              "    <tr>\n",
              "      <th>count</th>\n",
              "      <td>9174.000000</td>\n",
              "      <td>9174.000000</td>\n",
              "      <td>9174.000000</td>\n",
              "      <td>9174.000000</td>\n",
              "      <td>9174.000000</td>\n",
              "      <td>9174.000000</td>\n",
              "      <td>9174.000000</td>\n",
              "      <td>9174.000000</td>\n",
              "      <td>9174.000000</td>\n",
              "      <td>9174.000000</td>\n",
              "      <td>9174.000000</td>\n",
              "      <td>9174.000000</td>\n",
              "      <td>9174.000000</td>\n",
              "      <td>9174.000000</td>\n",
              "      <td>9174.0</td>\n",
              "      <td>9174.0</td>\n",
              "    </tr>\n",
              "    <tr>\n",
              "      <th>mean</th>\n",
              "      <td>2.505559</td>\n",
              "      <td>0.031284</td>\n",
              "      <td>0.678875</td>\n",
              "      <td>1.414868</td>\n",
              "      <td>20.130401</td>\n",
              "      <td>23.578433</td>\n",
              "      <td>61.715064</td>\n",
              "      <td>12.737931</td>\n",
              "      <td>190.581753</td>\n",
              "      <td>2011.501526</td>\n",
              "      <td>6.517114</td>\n",
              "      <td>8.498365</td>\n",
              "      <td>3.024090</td>\n",
              "      <td>11.537933</td>\n",
              "      <td>0.0</td>\n",
              "      <td>0.0</td>\n",
              "    </tr>\n",
              "    <tr>\n",
              "      <th>std</th>\n",
              "      <td>1.116618</td>\n",
              "      <td>0.174094</td>\n",
              "      <td>0.466934</td>\n",
              "      <td>0.635363</td>\n",
              "      <td>7.940504</td>\n",
              "      <td>8.617957</td>\n",
              "      <td>19.401829</td>\n",
              "      <td>8.199027</td>\n",
              "      <td>181.011530</td>\n",
              "      <td>0.500025</td>\n",
              "      <td>3.447047</td>\n",
              "      <td>4.611702</td>\n",
              "      <td>1.999882</td>\n",
              "      <td>6.915338</td>\n",
              "      <td>0.0</td>\n",
              "      <td>0.0</td>\n",
              "    </tr>\n",
              "    <tr>\n",
              "      <th>min</th>\n",
              "      <td>1.000000</td>\n",
              "      <td>0.000000</td>\n",
              "      <td>0.000000</td>\n",
              "      <td>1.000000</td>\n",
              "      <td>0.820000</td>\n",
              "      <td>0.760000</td>\n",
              "      <td>0.000000</td>\n",
              "      <td>0.000000</td>\n",
              "      <td>1.000000</td>\n",
              "      <td>2011.000000</td>\n",
              "      <td>1.000000</td>\n",
              "      <td>1.000000</td>\n",
              "      <td>0.000000</td>\n",
              "      <td>0.000000</td>\n",
              "      <td>0.0</td>\n",
              "      <td>0.0</td>\n",
              "    </tr>\n",
              "    <tr>\n",
              "      <th>25%</th>\n",
              "      <td>2.000000</td>\n",
              "      <td>0.000000</td>\n",
              "      <td>0.000000</td>\n",
              "      <td>1.000000</td>\n",
              "      <td>13.940000</td>\n",
              "      <td>16.665000</td>\n",
              "      <td>46.000000</td>\n",
              "      <td>7.001500</td>\n",
              "      <td>41.000000</td>\n",
              "      <td>2011.000000</td>\n",
              "      <td>4.000000</td>\n",
              "      <td>4.000000</td>\n",
              "      <td>1.000000</td>\n",
              "      <td>6.000000</td>\n",
              "      <td>0.0</td>\n",
              "      <td>0.0</td>\n",
              "    </tr>\n",
              "    <tr>\n",
              "      <th>50%</th>\n",
              "      <td>3.000000</td>\n",
              "      <td>0.000000</td>\n",
              "      <td>1.000000</td>\n",
              "      <td>1.000000</td>\n",
              "      <td>20.500000</td>\n",
              "      <td>24.240000</td>\n",
              "      <td>61.000000</td>\n",
              "      <td>11.001400</td>\n",
              "      <td>144.000000</td>\n",
              "      <td>2012.000000</td>\n",
              "      <td>7.000000</td>\n",
              "      <td>8.000000</td>\n",
              "      <td>3.000000</td>\n",
              "      <td>12.000000</td>\n",
              "      <td>0.0</td>\n",
              "      <td>0.0</td>\n",
              "    </tr>\n",
              "    <tr>\n",
              "      <th>75%</th>\n",
              "      <td>4.000000</td>\n",
              "      <td>0.000000</td>\n",
              "      <td>1.000000</td>\n",
              "      <td>2.000000</td>\n",
              "      <td>27.060000</td>\n",
              "      <td>31.060000</td>\n",
              "      <td>78.000000</td>\n",
              "      <td>16.997900</td>\n",
              "      <td>282.000000</td>\n",
              "      <td>2012.000000</td>\n",
              "      <td>10.000000</td>\n",
              "      <td>13.000000</td>\n",
              "      <td>5.000000</td>\n",
              "      <td>18.000000</td>\n",
              "      <td>0.0</td>\n",
              "      <td>0.0</td>\n",
              "    </tr>\n",
              "    <tr>\n",
              "      <th>max</th>\n",
              "      <td>4.000000</td>\n",
              "      <td>1.000000</td>\n",
              "      <td>1.000000</td>\n",
              "      <td>4.000000</td>\n",
              "      <td>41.000000</td>\n",
              "      <td>45.455000</td>\n",
              "      <td>100.000000</td>\n",
              "      <td>56.996900</td>\n",
              "      <td>977.000000</td>\n",
              "      <td>2012.000000</td>\n",
              "      <td>12.000000</td>\n",
              "      <td>16.000000</td>\n",
              "      <td>6.000000</td>\n",
              "      <td>23.000000</td>\n",
              "      <td>0.0</td>\n",
              "      <td>0.0</td>\n",
              "    </tr>\n",
              "  </tbody>\n",
              "</table>\n",
              "</div>\n",
              "      <button class=\"colab-df-convert\" onclick=\"convertToInteractive('df-73971016-bfcb-45b7-a2bd-a1644f257000')\"\n",
              "              title=\"Convert this dataframe to an interactive table.\"\n",
              "              style=\"display:none;\">\n",
              "        \n",
              "  <svg xmlns=\"http://www.w3.org/2000/svg\" height=\"24px\"viewBox=\"0 0 24 24\"\n",
              "       width=\"24px\">\n",
              "    <path d=\"M0 0h24v24H0V0z\" fill=\"none\"/>\n",
              "    <path d=\"M18.56 5.44l.94 2.06.94-2.06 2.06-.94-2.06-.94-.94-2.06-.94 2.06-2.06.94zm-11 1L8.5 8.5l.94-2.06 2.06-.94-2.06-.94L8.5 2.5l-.94 2.06-2.06.94zm10 10l.94 2.06.94-2.06 2.06-.94-2.06-.94-.94-2.06-.94 2.06-2.06.94z\"/><path d=\"M17.41 7.96l-1.37-1.37c-.4-.4-.92-.59-1.43-.59-.52 0-1.04.2-1.43.59L10.3 9.45l-7.72 7.72c-.78.78-.78 2.05 0 2.83L4 21.41c.39.39.9.59 1.41.59.51 0 1.02-.2 1.41-.59l7.78-7.78 2.81-2.81c.8-.78.8-2.07 0-2.86zM5.41 20L4 18.59l7.72-7.72 1.47 1.35L5.41 20z\"/>\n",
              "  </svg>\n",
              "      </button>\n",
              "      \n",
              "  <style>\n",
              "    .colab-df-container {\n",
              "      display:flex;\n",
              "      flex-wrap:wrap;\n",
              "      gap: 12px;\n",
              "    }\n",
              "\n",
              "    .colab-df-convert {\n",
              "      background-color: #E8F0FE;\n",
              "      border: none;\n",
              "      border-radius: 50%;\n",
              "      cursor: pointer;\n",
              "      display: none;\n",
              "      fill: #1967D2;\n",
              "      height: 32px;\n",
              "      padding: 0 0 0 0;\n",
              "      width: 32px;\n",
              "    }\n",
              "\n",
              "    .colab-df-convert:hover {\n",
              "      background-color: #E2EBFA;\n",
              "      box-shadow: 0px 1px 2px rgba(60, 64, 67, 0.3), 0px 1px 3px 1px rgba(60, 64, 67, 0.15);\n",
              "      fill: #174EA6;\n",
              "    }\n",
              "\n",
              "    [theme=dark] .colab-df-convert {\n",
              "      background-color: #3B4455;\n",
              "      fill: #D2E3FC;\n",
              "    }\n",
              "\n",
              "    [theme=dark] .colab-df-convert:hover {\n",
              "      background-color: #434B5C;\n",
              "      box-shadow: 0px 1px 3px 1px rgba(0, 0, 0, 0.15);\n",
              "      filter: drop-shadow(0px 1px 2px rgba(0, 0, 0, 0.3));\n",
              "      fill: #FFFFFF;\n",
              "    }\n",
              "  </style>\n",
              "\n",
              "      <script>\n",
              "        const buttonEl =\n",
              "          document.querySelector('#df-73971016-bfcb-45b7-a2bd-a1644f257000 button.colab-df-convert');\n",
              "        buttonEl.style.display =\n",
              "          google.colab.kernel.accessAllowed ? 'block' : 'none';\n",
              "\n",
              "        async function convertToInteractive(key) {\n",
              "          const element = document.querySelector('#df-73971016-bfcb-45b7-a2bd-a1644f257000');\n",
              "          const dataTable =\n",
              "            await google.colab.kernel.invokeFunction('convertToInteractive',\n",
              "                                                     [key], {});\n",
              "          if (!dataTable) return;\n",
              "\n",
              "          const docLinkHtml = 'Like what you see? Visit the ' +\n",
              "            '<a target=\"_blank\" href=https://colab.research.google.com/notebooks/data_table.ipynb>data table notebook</a>'\n",
              "            + ' to learn more about interactive tables.';\n",
              "          element.innerHTML = '';\n",
              "          dataTable['output_type'] = 'display_data';\n",
              "          await google.colab.output.renderOutput(dataTable, element);\n",
              "          const docLink = document.createElement('div');\n",
              "          docLink.innerHTML = docLinkHtml;\n",
              "          element.appendChild(docLink);\n",
              "        }\n",
              "      </script>\n",
              "    </div>\n",
              "  </div>\n",
              "  "
            ]
          },
          "metadata": {},
          "execution_count": 141
        }
      ],
      "source": [
        "# Summarize numerical features\n",
        "df[num_features].describe()"
      ]
    },
    {
      "cell_type": "markdown",
      "metadata": {
        "id": "3-99AXDFtb2c"
      },
      "source": [
        "### Distribution of Categorical Features"
      ]
    },
    {
      "cell_type": "code",
      "execution_count": null,
      "metadata": {
        "id": "p5bEK5oXtb2d"
      },
      "outputs": [],
      "source": [
        "# cat_features = df.dtypes[df.dtypes == 'object'].index"
      ]
    },
    {
      "cell_type": "code",
      "execution_count": null,
      "metadata": {
        "id": "wfEeR_GUtb2d"
      },
      "outputs": [],
      "source": [
        "# df[cat_features].describe()"
      ]
    },
    {
      "cell_type": "markdown",
      "metadata": {
        "id": "UYmT0orWtb2d"
      },
      "source": [
        "<hr style='height:10px'>"
      ]
    },
    {
      "cell_type": "markdown",
      "metadata": {
        "id": "YLYUVs0gtb2d"
      },
      "source": [
        "<br id='clean'>\n",
        "\n",
        "## DATA CLEANING"
      ]
    },
    {
      "cell_type": "markdown",
      "metadata": {
        "id": "FvTuJX3dtb2d"
      },
      "source": [
        "<br id='neg'>\n",
        "\n",
        "### Replace Negative Values with Zero\n",
        "\n",
        "* Replaced Negative Values as Multinomial Naive Bayes and related Algorithms doesn't accept Negative Values"
      ]
    },
    {
      "cell_type": "code",
      "execution_count": null,
      "metadata": {
        "id": "Rb2y2LWttb2d"
      },
      "outputs": [],
      "source": [
        "num = df._get_numeric_data()\n",
        "\n",
        "num[num < 0] = 0"
      ]
    },
    {
      "cell_type": "markdown",
      "metadata": {
        "id": "hfuOy709tb2e"
      },
      "source": [
        "### Drop Duplicates"
      ]
    },
    {
      "cell_type": "code",
      "execution_count": null,
      "metadata": {
        "colab": {
          "base_uri": "https://localhost:8080/"
        },
        "id": "e0hs0aR7tb2e",
        "outputId": "455e291a-4c62-400b-8b26-4de5843dc2fa"
      },
      "outputs": [
        {
          "output_type": "execute_result",
          "data": {
            "text/plain": [
              "(9174, 16)"
            ]
          },
          "metadata": {},
          "execution_count": 145
        }
      ],
      "source": [
        "# Check the Number of Rows before Removing Duplicates\n",
        "df.shape"
      ]
    },
    {
      "cell_type": "code",
      "execution_count": null,
      "metadata": {
        "id": "qlns3Qx-tb2e"
      },
      "outputs": [],
      "source": [
        "# Call drop_duplicates on DataFrame to remove Duplicates and Assign it back to DataFrame\n",
        "df.drop_duplicates(inplace=True)"
      ]
    },
    {
      "cell_type": "code",
      "execution_count": null,
      "metadata": {
        "colab": {
          "base_uri": "https://localhost:8080/"
        },
        "id": "fViiQ5Hftb2e",
        "outputId": "a21107c2-83ed-4e3c-9277-64a8ce3436b8"
      },
      "outputs": [
        {
          "output_type": "execute_result",
          "data": {
            "text/plain": [
              "(9174, 16)"
            ]
          },
          "metadata": {},
          "execution_count": 147
        }
      ],
      "source": [
        "# Check the Number of Rows after Removing Duplicates\n",
        "df.shape"
      ]
    },
    {
      "cell_type": "markdown",
      "metadata": {
        "id": "cuU3fQRktb2e"
      },
      "source": [
        "<br id='inf'>\n",
        "\n",
        "### Replace \"Inf\" Values with it's mean value"
      ]
    },
    {
      "cell_type": "code",
      "execution_count": null,
      "metadata": {
        "id": "eDeocSZstb2e"
      },
      "outputs": [],
      "source": [
        "df = df.replace([np.inf, -np.inf], np.nan)   # replaced \"Inf\" and \"-Inf\" with \"NaN\""
      ]
    },
    {
      "cell_type": "markdown",
      "metadata": {
        "id": "nsmuy-tZtb2f"
      },
      "source": [
        "### Remove Unwanted OUTLIERS !!!"
      ]
    },
    {
      "cell_type": "markdown",
      "metadata": {
        "id": "oIVn-rVWtb2f"
      },
      "source": [
        "### Get Feature and respective outliers count"
      ]
    },
    {
      "cell_type": "code",
      "execution_count": null,
      "metadata": {
        "colab": {
          "base_uri": "https://localhost:8080/"
        },
        "id": "GmtzmnRatb2f",
        "outputId": "7fde0462-4d5a-4343-c642-eb3fe2167e1e"
      },
      "outputs": [
        {
          "output_type": "stream",
          "name": "stdout",
          "text": [
            "holiday has  287  outliers. The Outliers are  :  [1, 1, 1, 1, 1, 1, 1, 1, 1, 1, 1, 1, 1, 1, 1, 1, 1, 1, 1, 1, 1, 1, 1, 1, 1, 1, 1, 1, 1, 1, 1, 1, 1, 1, 1, 1, 1, 1, 1, 1, 1, 1, 1, 1, 1, 1, 1, 1, 1, 1, 1, 1, 1, 1, 1, 1, 1, 1, 1, 1, 1, 1, 1, 1, 1, 1, 1, 1, 1, 1, 1, 1, 1, 1, 1, 1, 1, 1, 1, 1, 1, 1, 1, 1, 1, 1, 1, 1, 1, 1, 1, 1, 1, 1, 1, 1, 1, 1, 1, 1, 1, 1, 1, 1, 1, 1, 1, 1, 1, 1, 1, 1, 1, 1, 1, 1, 1, 1, 1, 1, 1, 1, 1, 1, 1, 1, 1, 1, 1, 1, 1, 1, 1, 1, 1, 1, 1, 1, 1, 1, 1, 1, 1, 1, 1, 1, 1, 1, 1, 1, 1, 1, 1, 1, 1, 1, 1, 1, 1, 1, 1, 1, 1, 1, 1, 1, 1, 1, 1, 1, 1, 1, 1, 1, 1, 1, 1, 1, 1, 1, 1, 1, 1, 1, 1, 1, 1, 1, 1, 1, 1, 1, 1, 1, 1, 1, 1, 1, 1, 1, 1, 1, 1, 1, 1, 1, 1, 1, 1, 1, 1, 1, 1, 1, 1, 1, 1, 1, 1, 1, 1, 1, 1, 1, 1, 1, 1, 1, 1, 1, 1, 1, 1, 1, 1, 1, 1, 1, 1, 1, 1, 1, 1, 1, 1, 1, 1, 1, 1, 1, 1, 1, 1, 1, 1, 1, 1, 1, 1, 1, 1, 1, 1, 1, 1, 1, 1, 1, 1, 1, 1, 1, 1, 1, 1, 1, 1, 1, 1, 1, 1, 1, 1, 1, 1, 1, 1]\n",
            "\n",
            "\n",
            "weather has  1  outliers. The Outliers are  :  [4]\n",
            "\n",
            "\n",
            "windspeed has  184  outliers. The Outliers are  :  [32.9975, 36.9974, 35.0008, 35.0008, 39.0007, 35.0008, 35.0008, 36.9974, 32.9975, 36.9974, 35.0008, 32.9975, 32.9975, 36.9974, 32.9975, 35.0008, 39.0007, 35.0008, 32.9975, 43.9989, 40.9973, 40.9973, 32.9975, 35.0008, 43.9989, 32.9975, 51.9987, 46.0022, 35.0008, 32.9975, 35.0008, 36.9974, 35.0008, 32.9975, 32.9975, 40.9973, 39.0007, 35.0008, 39.0007, 32.9975, 32.9975, 32.9975, 36.9974, 35.0008, 40.9973, 32.9975, 36.9974, 32.9975, 39.0007, 32.9975, 32.9975, 32.9975, 35.0008, 32.9975, 35.0008, 35.0008, 35.0008, 35.0008, 32.9975, 35.0008, 32.9975, 39.0007, 35.0008, 39.0007, 39.0007, 39.0007, 32.9975, 40.9973, 35.0008, 35.0008, 39.0007, 32.9975, 32.9975, 32.9975, 35.0008, 32.9975, 56.9969, 56.9969, 32.9975, 32.9975, 43.0006, 32.9975, 32.9975, 39.0007, 40.9973, 36.9974, 32.9975, 32.9975, 36.9974, 32.9975, 36.9974, 32.9975, 43.0006, 43.0006, 35.0008, 32.9975, 32.9975, 35.0008, 35.0008, 43.9989, 35.0008, 39.0007, 35.0008, 32.9975, 36.9974, 40.9973, 32.9975, 35.0008, 36.9974, 39.0007, 32.9975, 35.0008, 35.0008, 43.9989, 36.9974, 36.9974, 43.0006, 32.9975, 39.0007, 46.0022, 47.9988, 43.0006, 35.0008, 36.9974, 35.0008, 32.9975, 36.9974, 40.9973, 32.9975, 43.9989, 39.0007, 32.9975, 43.0006, 43.0006, 46.0022, 43.0006, 43.9989, 36.9974, 32.9975, 35.0008, 35.0008, 35.0008, 32.9975, 35.0008, 40.9973, 32.9975, 32.9975, 32.9975, 35.0008, 32.9975, 47.9988, 39.0007, 36.9974, 36.9974, 32.9975, 35.0008, 32.9975, 39.0007, 35.0008, 35.0008, 32.9975, 32.9975, 35.0008, 39.0007, 32.9975, 32.9975, 32.9975, 32.9975, 32.9975, 39.0007, 39.0007, 35.0008, 35.0008, 32.9975, 35.0008, 35.0008, 35.0008, 35.0008, 39.0007, 32.9975, 32.9975, 32.9975, 43.0006, 32.9975]\n",
            "\n",
            "\n",
            "count has  258  outliers. The Outliers are  :  [644, 712, 676, 734, 662, 782, 749, 713, 746, 729, 757, 800, 684, 744, 759, 822, 698, 655, 646, 692, 744, 704, 656, 738, 671, 678, 678, 660, 658, 681, 712, 676, 681, 743, 666, 729, 813, 704, 706, 769, 680, 717, 710, 705, 732, 770, 779, 659, 678, 733, 650, 873, 846, 694, 668, 679, 647, 702, 644, 684, 686, 678, 644, 662, 665, 834, 822, 645, 710, 850, 790, 668, 724, 782, 681, 869, 813, 700, 793, 723, 651, 800, 831, 681, 653, 713, 857, 744, 671, 719, 867, 823, 653, 823, 693, 747, 730, 646, 722, 689, 849, 872, 649, 872, 819, 674, 830, 814, 702, 795, 825, 713, 835, 667, 755, 794, 681, 837, 891, 652, 739, 865, 767, 668, 741, 671, 858, 843, 705, 868, 814, 737, 858, 862, 686, 698, 810, 811, 730, 673, 818, 812, 812, 854, 682, 851, 848, 649, 682, 897, 832, 677, 856, 839, 725, 863, 839, 662, 646, 808, 835, 719, 772, 792, 694, 668, 757, 729, 647, 696, 701, 671, 730, 871, 968, 750, 970, 877, 770, 925, 977, 758, 884, 852, 674, 766, 894, 808, 706, 704, 715, 654, 783, 729, 656, 694, 784, 856, 715, 687, 809, 917, 810, 738, 901, 887, 785, 900, 761, 647, 743, 710, 659, 713, 806, 784, 839, 948, 844, 798, 827, 692, 743, 745, 837, 670, 737, 766, 835, 943, 838, 680, 689, 678, 687, 648, 668, 693, 654, 651, 686, 654, 724, 653, 691, 646, 711, 731, 708, 692, 721, 743, 731, 759, 659, 724, 688, 679]\n",
            "\n",
            "\n"
          ]
        }
      ],
      "source": [
        "for feature in df.dtypes[df.dtypes != 'object'].index:\n",
        "    count = []\n",
        "    median = np.median(df[feature])\n",
        "    upper_quartile = np.percentile(df[feature], 75)\n",
        "    lower_quartile = np.percentile(df[feature], 25)\n",
        "    iqr = upper_quartile - lower_quartile\n",
        "    maxim = df[df[feature] <= upper_quartile + outlier_proportion * iqr][feature].max()\n",
        "    minim = df[df[feature] >= lower_quartile - outlier_proportion * iqr][feature].min()\n",
        "    for val in df[feature].values:\n",
        "        if((val > maxim) or (val < minim)):\n",
        "            count.append(val)\n",
        "    if(len(count) > 0):\n",
        "        print(feature, 'has ', str(len(count)), ' outliers. The Outliers are', ' : ', count)\n",
        "        print('\\n')"
      ]
    },
    {
      "cell_type": "markdown",
      "metadata": {
        "id": "ohR6qE5Gtb2f"
      },
      "source": [
        "### Remove all the Outliers"
      ]
    },
    {
      "cell_type": "code",
      "execution_count": null,
      "metadata": {
        "id": "EpY4uurEtb2f"
      },
      "outputs": [],
      "source": [
        "if remove_outliers:\n",
        "    for feature in df.dtypes[df.dtypes != 'object'].index:\n",
        "        count = []\n",
        "        median = np.median(df[feature])\n",
        "        upper_quartile = np.percentile(df[feature], 75)\n",
        "        lower_quartile = np.percentile(df[feature], 25)\n",
        "        iqr = upper_quartile - lower_quartile\n",
        "        maxim = df[df[feature] <= upper_quartile + outlier_proportion * iqr][feature].max()\n",
        "        minim = df[df[feature] >= lower_quartile - outlier_proportion * iqr][feature].min()\n",
        "        for val in df[feature].values:\n",
        "            if((val > maxim) or (val < minim)):\n",
        "                df[feature] = df[df[feature] != val][feature]"
      ]
    },
    {
      "cell_type": "markdown",
      "metadata": {
        "id": "fijc2vcbtb2f"
      },
      "source": [
        "### Check the Outliers again"
      ]
    },
    {
      "cell_type": "code",
      "execution_count": null,
      "metadata": {
        "id": "7aMJ5DYCtb2g"
      },
      "outputs": [],
      "source": [
        "for feature in df.dtypes[df.dtypes!='object'].index:\n",
        "    count = []\n",
        "    median = np.median(df[feature])\n",
        "    upper_quartile = np.percentile(df[feature], 75)\n",
        "    lower_quartile = np.percentile(df[feature], 25)\n",
        "    iqr = upper_quartile - lower_quartile\n",
        "    maxim = df[df[feature] <= upper_quartile + outlier_proportion * iqr][feature].max()\n",
        "    minim = df[df[feature] >= lower_quartile - outlier_proportion * iqr][feature].min()\n",
        "    for val in df[feature].values:\n",
        "        if((val > maxim) or (val < minim)):\n",
        "            count.append(val)\n",
        "    if(len(count) > 0):\n",
        "        print(feature, 'has ', str(len(count)), ' outliers. The Outliers are', ' : ', count)\n",
        "        print('\\n')"
      ]
    },
    {
      "cell_type": "markdown",
      "metadata": {
        "id": "E8VAQQv7tb2g"
      },
      "source": [
        "<hr style='height:4px'>"
      ]
    },
    {
      "cell_type": "markdown",
      "metadata": {
        "id": "0rUdGBQAtb2g"
      },
      "source": [
        "### Remove NULLs"
      ]
    },
    {
      "cell_type": "code",
      "execution_count": null,
      "metadata": {
        "colab": {
          "base_uri": "https://localhost:8080/"
        },
        "id": "iFsk9uZRtb2g",
        "outputId": "413ae13c-e7b6-404e-840d-8af58d0e2d34"
      },
      "outputs": [
        {
          "output_type": "execute_result",
          "data": {
            "text/plain": [
              "season           0\n",
              "holiday        287\n",
              "workingday       0\n",
              "weather          1\n",
              "temp             0\n",
              "atemp            0\n",
              "humidity         0\n",
              "windspeed      184\n",
              "count          258\n",
              "Year             0\n",
              "Month            0\n",
              "Day              0\n",
              "Day of Week      0\n",
              "Hour             0\n",
              "Minutes          0\n",
              "Seconds          0\n",
              "dtype: int64"
            ]
          },
          "metadata": {},
          "execution_count": 152
        }
      ],
      "source": [
        "# Check Columns that has NULLs\n",
        "df.isnull().sum()"
      ]
    },
    {
      "cell_type": "markdown",
      "metadata": {
        "id": "6XqBDFFztb2g"
      },
      "source": [
        "### NUMERICAL"
      ]
    },
    {
      "cell_type": "code",
      "execution_count": null,
      "metadata": {
        "colab": {
          "base_uri": "https://localhost:8080/"
        },
        "id": "hKkfHxT8tb2g",
        "outputId": "b78b6c25-0039-4848-ae2c-d135c57f8389"
      },
      "outputs": [
        {
          "output_type": "stream",
          "name": "stdout",
          "text": [
            "season\n",
            "holiday\n",
            "workingday\n",
            "weather\n",
            "temp\n",
            "atemp\n",
            "humidity\n",
            "windspeed\n",
            "count\n",
            "Year\n",
            "Month\n",
            "Day\n",
            "Day of Week\n",
            "Hour\n",
            "Minutes\n",
            "Seconds\n"
          ]
        }
      ],
      "source": [
        "for feature in df.select_dtypes(exclude=['object']):\n",
        "    print(feature)"
      ]
    },
    {
      "cell_type": "markdown",
      "metadata": {
        "id": "GL7DikSMtb2g"
      },
      "source": [
        "#### Fill all the NULLs in Numerical Features with fill (when Values in Numerical Features are Repetetive in Nature)"
      ]
    },
    {
      "cell_type": "code",
      "execution_count": null,
      "metadata": {
        "id": "3oUw3lnutb2h"
      },
      "outputs": [],
      "source": [
        "for feature in df.isnull().sum()[df[df.dtypes.index].isnull().sum() > 0].index:\n",
        "    if (np.dtype(df[feature]) == np.dtype('int64') or np.dtype(df[feature]) == np.dtype('float64')):\n",
        "        if skew(df[feature]) <= 5.0:\n",
        "            df[feature] = df[feature].mean()\n",
        "        elif skew(df[feature]) >= 5.0 and skew(df[feature]) <= 10.0:\n",
        "            df[feature] = df[feature].ffill()\n",
        "            df[feature] = df[feature].bfill()\n",
        "        else:\n",
        "            df[feature] = df[feature].fillna(0)\n",
        "    else:\n",
        "        if len(df[feature]) / len(df[feature].unique())  <= 5.0:\n",
        "            df[feature] = df[feature].fillna(st.mode(df[df[feature].notnull()][feature]))\n",
        "        elif len(df[feature]) / len(df[feature].unique()) >= 5.0 and len(df[feature]) / len(df[feature].unique()) <= 10.0:\n",
        "            df[feature] = df[feature].ffill()\n",
        "            df[feature] = df[feature].bfill()\n",
        "        else:\n",
        "            df[feature] = df[feature].fillna('Missing')"
      ]
    },
    {
      "cell_type": "markdown",
      "metadata": {
        "id": "8OVsdmfptb2h"
      },
      "source": [
        "#### Check NULLs again"
      ]
    },
    {
      "cell_type": "code",
      "execution_count": null,
      "metadata": {
        "colab": {
          "base_uri": "https://localhost:8080/"
        },
        "id": "lxN5zcDktb2h",
        "outputId": "031a33ae-d83e-4bb9-a2ce-4f3c757aeb08"
      },
      "outputs": [
        {
          "output_type": "execute_result",
          "data": {
            "text/plain": [
              "season         0\n",
              "holiday        0\n",
              "workingday     0\n",
              "weather        0\n",
              "temp           0\n",
              "atemp          0\n",
              "humidity       0\n",
              "windspeed      0\n",
              "count          0\n",
              "Year           0\n",
              "Month          0\n",
              "Day            0\n",
              "Day of Week    0\n",
              "Hour           0\n",
              "Minutes        0\n",
              "Seconds        0\n",
              "dtype: int64"
            ]
          },
          "metadata": {},
          "execution_count": 155
        }
      ],
      "source": [
        "# Check Columns that has NULLs After dealing with NULL values in the respective Features\n",
        "df.isnull().sum()"
      ]
    },
    {
      "cell_type": "markdown",
      "metadata": {
        "id": "07-m6S_qtb2h"
      },
      "source": [
        "<hr style='height:10px'>"
      ]
    },
    {
      "cell_type": "markdown",
      "metadata": {
        "id": "CKLM13VZtb2h"
      },
      "source": [
        "<br id='featureengineering'>\n",
        "\n",
        "## FEATURE ENGINEERING"
      ]
    },
    {
      "cell_type": "markdown",
      "metadata": {
        "id": "PgBOxUjXtb2i"
      },
      "source": [
        "### Label Encoding"
      ]
    },
    {
      "cell_type": "code",
      "execution_count": null,
      "metadata": {
        "id": "4FLiBZJ9tb2i"
      },
      "outputs": [],
      "source": [
        "final_dict = {}"
      ]
    },
    {
      "cell_type": "code",
      "execution_count": null,
      "metadata": {
        "id": "uYSWAw92tb2i"
      },
      "outputs": [],
      "source": [
        "from sklearn.preprocessing import LabelEncoder"
      ]
    },
    {
      "cell_type": "code",
      "execution_count": null,
      "metadata": {
        "id": "2jHrjttTtb2i"
      },
      "outputs": [],
      "source": [
        "for feature in df.dtypes[df.dtypes != 'object'].index:\n",
        "    final_dict[feature] = [df[feature].dtype, min(df[feature]), max(df[feature]), np.mean(df[feature])]"
      ]
    },
    {
      "cell_type": "code",
      "execution_count": null,
      "metadata": {
        "id": "AOUqwAEAtb2i"
      },
      "outputs": [],
      "source": [
        "for feature in df.dtypes[df.dtypes=='object'].index:\n",
        "    label_encoder  = LabelEncoder()\n",
        "    feature_unique_values = list(df[feature].unique())\n",
        "    df[feature] = label_encoder.fit_transform(df[feature])\n",
        "    final_dict[feature] = ['object', feature_unique_values, label_encoder]"
      ]
    },
    {
      "cell_type": "markdown",
      "metadata": {
        "id": "SBXHAhootb2i"
      },
      "source": [
        "<hr style='height:10px'>"
      ]
    },
    {
      "cell_type": "markdown",
      "metadata": {
        "id": "IARHF0kGtb2i"
      },
      "source": [
        "<br id='pipeline'>\n",
        "\n",
        "## BUILD PIPELINE"
      ]
    },
    {
      "cell_type": "markdown",
      "metadata": {
        "id": "YhMhB3S-tb2j"
      },
      "source": [
        "### Create seperate objects for TARGET & INPUT features"
      ]
    },
    {
      "cell_type": "code",
      "execution_count": null,
      "metadata": {
        "id": "LaJ-1uM9tb2j"
      },
      "outputs": [],
      "source": [
        "# Separate object for target feature\n",
        "y = df[target_name]\n",
        "\n",
        "# Separate Object for Input Features\n",
        "X = df.drop(target_name, axis=1)"
      ]
    },
    {
      "cell_type": "markdown",
      "metadata": {
        "id": "SmfvJG2ntb2j"
      },
      "source": [
        "### Create TRAIN & TEST datasets"
      ]
    },
    {
      "cell_type": "code",
      "execution_count": null,
      "metadata": {
        "id": "2fyhFCittb2j"
      },
      "outputs": [],
      "source": [
        "# Function for splitting training and test set\n",
        "from sklearn.model_selection import train_test_split"
      ]
    },
    {
      "cell_type": "code",
      "execution_count": null,
      "metadata": {
        "id": "xTe37b8Mtb2j"
      },
      "outputs": [],
      "source": [
        "# Split X and y into train and test sets\n",
        "X_train, X_test, y_train, y_test = train_test_split(X, y, test_size=0.3, random_state=1234)"
      ]
    },
    {
      "cell_type": "markdown",
      "metadata": {
        "id": "71KaYr5Ztb2j"
      },
      "source": [
        "### Regression Algorithms Imports"
      ]
    },
    {
      "cell_type": "code",
      "execution_count": null,
      "metadata": {
        "id": "dCl36ksftb2j"
      },
      "outputs": [],
      "source": [
        "# Import Elastic Net, Ridge Regression, and Lasso Regression\n",
        "from sklearn.linear_model import ElasticNet, Ridge, Lasso"
      ]
    },
    {
      "cell_type": "code",
      "execution_count": null,
      "metadata": {
        "id": "ezdibc4Ttb2k"
      },
      "outputs": [],
      "source": [
        "# Import Random Forest and Gradient Boosted Trees\n",
        "from sklearn.ensemble import RandomForestRegressor, GradientBoostingRegressor"
      ]
    },
    {
      "cell_type": "code",
      "execution_count": null,
      "metadata": {
        "id": "Ubm523bQtb2n"
      },
      "outputs": [],
      "source": [
        "# Import Support Vector Regressor\n",
        "from sklearn.svm import SVR"
      ]
    },
    {
      "cell_type": "code",
      "execution_count": null,
      "metadata": {
        "id": "lwtpJlDVtb2n"
      },
      "outputs": [],
      "source": [
        "# Import Decision Tree Regressor\n",
        "from sklearn.tree import DecisionTreeRegressor"
      ]
    },
    {
      "cell_type": "markdown",
      "metadata": {
        "id": "BbvaNY5etb2n"
      },
      "source": [
        "### Built Model PIPELINES"
      ]
    },
    {
      "cell_type": "code",
      "execution_count": null,
      "metadata": {
        "id": "JvUxr-sUtb2n"
      },
      "outputs": [],
      "source": [
        "# Function for creating model pipelines\n",
        "from sklearn.pipeline import make_pipeline"
      ]
    },
    {
      "cell_type": "code",
      "execution_count": null,
      "metadata": {
        "id": "7o3S4Ckitb2n"
      },
      "outputs": [],
      "source": [
        "# For standardization\n",
        "from sklearn.preprocessing import StandardScaler, MinMaxScaler"
      ]
    },
    {
      "cell_type": "code",
      "execution_count": null,
      "metadata": {
        "id": "Ff0bqfketb2o"
      },
      "outputs": [],
      "source": [
        "# Create pipelines dictionary\n",
        "pipeline_dict = {   'lasso' : make_pipeline(StandardScaler(), Lasso(random_state=123)),\n",
        "                    'ridge' : make_pipeline(StandardScaler(), Ridge(random_state=123)),\n",
        "                    'enet' :  make_pipeline(StandardScaler(), ElasticNet(random_state=123)),\n",
        "                    'rf' :    make_pipeline(StandardScaler(), RandomForestRegressor(random_state=123)),\n",
        "                    'gb' :    make_pipeline(StandardScaler(), GradientBoostingRegressor(random_state=123)),\n",
        "                    'dtr' :   DecisionTreeRegressor(random_state=123)}"
      ]
    },
    {
      "cell_type": "markdown",
      "metadata": {
        "id": "FixRY4nYtb2o"
      },
      "source": [
        "<hr style='height:10px'>"
      ]
    },
    {
      "cell_type": "markdown",
      "metadata": {
        "id": "K4G5B3K6tb2o"
      },
      "source": [
        "<br id='hyper'>\n",
        "\n",
        "## Hyperparameters to TUNE"
      ]
    },
    {
      "cell_type": "code",
      "execution_count": null,
      "metadata": {
        "id": "-s95C9rWtb2o"
      },
      "outputs": [],
      "source": [
        "# Lasso hyperparameters\n",
        "lasso_hyperparameters = { 'lasso__alpha' : [0.001, 0.005, 0.01, 0.05, 0.1, 0.5, 1, 5, 10] }"
      ]
    },
    {
      "cell_type": "code",
      "execution_count": null,
      "metadata": {
        "id": "wZNSW3zltb2o"
      },
      "outputs": [],
      "source": [
        "# Ridge hyperparameters \n",
        "ridge_hyperparameters = { 'ridge__alpha': [0.001, 0.005, 0.01, 0.05, 0.1, 0.5, 1, 5, 10] }"
      ]
    },
    {
      "cell_type": "code",
      "execution_count": null,
      "metadata": {
        "id": "sts-NcIZtb2o"
      },
      "outputs": [],
      "source": [
        "# Elastic Net hyperparameters\n",
        "enet_hyperparameters = { 'elasticnet__alpha': [0.001, 0.005, 0.01, 0.05, 0.1, 0.5, 1, 5, 10], \n",
        "                       'elasticnet__l1_ratio': [0.1, 0.3, 0.5, 0.7, 0.9]}"
      ]
    },
    {
      "cell_type": "code",
      "execution_count": null,
      "metadata": {
        "id": "-qtg288utb2p"
      },
      "outputs": [],
      "source": [
        "# Random forest hyperparameters\n",
        "rf_hyperparameters = { \n",
        "    'randomforestregressor__n_estimators' : [100, 200],\n",
        "    'randomforestregressor__max_features': ['auto', 'sqrt', 0.33],\n",
        "}"
      ]
    },
    {
      "cell_type": "code",
      "execution_count": null,
      "metadata": {
        "id": "_29BGMt4tb2p"
      },
      "outputs": [],
      "source": [
        "# Boosted tree hyperparameters\n",
        "gb_hyperparameters = {'gradientboostingregressor__n_estimators': [100, 200],\n",
        "                     'gradientboostingregressor__learning_rate': [0.05, 0.1, 0.2],\n",
        "                     'gradientboostingregressor__max_depth': [1, 3, 5]}"
      ]
    },
    {
      "cell_type": "code",
      "execution_count": null,
      "metadata": {
        "id": "ZmovOA3mtb2p"
      },
      "outputs": [],
      "source": [
        "# Support Vector Regressor hyperparameters\n",
        "svr_hyperparameters = {'C': [0.5,1.0,2.0, 3.0],\n",
        "                       'kernel': ['linear', 'rbf'],\n",
        "                       'gamma':[0.02, 0.08,0.2,1.0]}"
      ]
    },
    {
      "cell_type": "code",
      "execution_count": null,
      "metadata": {
        "id": "hD-M2kIntb2p"
      },
      "outputs": [],
      "source": [
        "# Decision Tree Regressor hyperparameters\n",
        "dtr_hyperparameters = {'criterion': ['mse','mae', 'friedman_mse'],\n",
        "                      'splitter': ['best', 'random'],\n",
        "                      'max_depth':[2,4,6,8,10,None] ,\n",
        "                      'random_state': [0]}"
      ]
    },
    {
      "cell_type": "code",
      "execution_count": null,
      "metadata": {
        "id": "rfCnhcDbtb2p"
      },
      "outputs": [],
      "source": [
        "# Create hyperparameters dictionary\n",
        "hyperparameters = {\n",
        "    'rf' : rf_hyperparameters,\n",
        "    'gb' : gb_hyperparameters,\n",
        "    'lasso' : lasso_hyperparameters,\n",
        "    'ridge' : ridge_hyperparameters,\n",
        "    'enet' : enet_hyperparameters,\n",
        "    'svr': svr_hyperparameters,\n",
        "    'dtr': dtr_hyperparameters\n",
        "}"
      ]
    },
    {
      "cell_type": "markdown",
      "metadata": {
        "id": "ZVwejMR0tb2p"
      },
      "source": [
        "<hr style='height:10px'>"
      ]
    },
    {
      "cell_type": "markdown",
      "metadata": {
        "id": "tYtbicuCtb2q"
      },
      "source": [
        "<br id='grid'>\n",
        "\n",
        "## CONSTRUCT GRID FOR MODEL TRAINING - LASSO, RIDGE, ENET, RANDOM FOREST, GRADIENT BOOSTING AND DECISION TREE ALGORITHMS"
      ]
    },
    {
      "cell_type": "code",
      "execution_count": null,
      "metadata": {
        "id": "aP5QJJ5ftb2q"
      },
      "outputs": [],
      "source": [
        "from sklearn.model_selection import GridSearchCV"
      ]
    },
    {
      "cell_type": "code",
      "execution_count": null,
      "metadata": {
        "colab": {
          "base_uri": "https://localhost:8080/"
        },
        "id": "4Rj8NroPtb2q",
        "outputId": "d4d916d9-40c5-451c-8f3a-66268145dd8d"
      },
      "outputs": [
        {
          "output_type": "stream",
          "name": "stdout",
          "text": [
            "lasso has been fitted.\n",
            "ridge has been fitted.\n",
            "enet has been fitted.\n",
            "rf has been fitted.\n",
            "gb has been fitted.\n",
            "dtr has been fitted.\n"
          ]
        }
      ],
      "source": [
        "fitted_models = {}\n",
        "\n",
        "for name, pipeline in pipeline_dict.items():\n",
        "\n",
        "    model = GridSearchCV(pipeline, hyperparameters[name], cv=10, n_jobs=-1)\n",
        "    \n",
        "    model.fit(X_train, y_train)\n",
        "    \n",
        "    fitted_models[name] = model\n",
        "    \n",
        "    print(name, 'has been fitted.')"
      ]
    },
    {
      "cell_type": "markdown",
      "metadata": {
        "id": "DEKE6qMBtb2q"
      },
      "source": [
        "<hr style='height:10px'>"
      ]
    },
    {
      "cell_type": "markdown",
      "metadata": {
        "id": "5XjZpQj2tb2q"
      },
      "source": [
        "<br id='accuracy'>\n",
        "\n",
        "## EVALUATE MODELS"
      ]
    },
    {
      "cell_type": "code",
      "execution_count": null,
      "metadata": {
        "id": "QGq43_Pitb2r"
      },
      "outputs": [],
      "source": [
        "from sklearn.metrics import r2_score \n",
        "from sklearn.metrics import mean_absolute_error, mean_squared_error"
      ]
    },
    {
      "cell_type": "markdown",
      "metadata": {
        "id": "q1vScFestb2r"
      },
      "source": [
        "### Loop that gives all the values of R^2, MAE, MSE & RMSE for all the Algorithms, we have fitted"
      ]
    },
    {
      "cell_type": "code",
      "execution_count": null,
      "metadata": {
        "colab": {
          "base_uri": "https://localhost:8080/"
        },
        "id": "Bmr-2yVftb2r",
        "outputId": "2cbb7f72-3c4e-4eca-ef5a-3bb4c2a1156d"
      },
      "outputs": [
        {
          "output_type": "stream",
          "name": "stdout",
          "text": [
            "lasso\n",
            "-------\n",
            "R^2:  0.34728935138321115\n",
            "MAE:  95.01274523789529\n",
            "MSE:  16427.508524260116\n",
            "RMSE:  128.16984249136033\n",
            "\n",
            "\n",
            "ridge\n",
            "-------\n",
            "R^2:  0.34728819381173237\n",
            "MAE:  94.9982092343633\n",
            "MSE:  16427.53765817324\n",
            "RMSE:  128.16995614485182\n",
            "\n",
            "\n",
            "enet\n",
            "-------\n",
            "R^2:  0.3472904774427411\n",
            "MAE:  95.0064437079147\n",
            "MSE:  16427.48018344391\n",
            "RMSE:  128.16973193170028\n",
            "\n",
            "\n",
            "rf\n",
            "-------\n",
            "R^2:  0.824756837989694\n",
            "MAE:  34.156149654921904\n",
            "MSE:  4410.543238176534\n",
            "RMSE:  66.41192090413087\n",
            "\n",
            "\n",
            "gb\n",
            "-------\n",
            "R^2:  0.7716214996418633\n",
            "MAE:  41.12657562151421\n",
            "MSE:  5747.860509617144\n",
            "RMSE:  75.81464574616928\n",
            "\n",
            "\n",
            "dtr\n",
            "-------\n",
            "R^2:  0.6978350423419718\n",
            "MAE:  48.338146374440896\n",
            "MSE:  7604.927892901971\n",
            "RMSE:  87.20623769491475\n",
            "\n",
            "\n"
          ]
        }
      ],
      "source": [
        "final_dict['model_score'] = []\n",
        "i = 0\n",
        "for name, model in fitted_models.items(): \n",
        "    pred_var = model.predict(X_test)\n",
        "    print(name)\n",
        "    print('-------')\n",
        "    print('R^2: ', r2_score(y_test, pred_var))\n",
        "    print('MAE: ', mean_absolute_error(y_test, pred_var))\n",
        "    print('MSE: ', mean_squared_error(y_test, pred_var))\n",
        "    print('RMSE: ', np.sqrt(mean_squared_error(y_test, pred_var)))\n",
        "    final_dict['model_score'].append((i, name, r2_score(y_test, pred_var)))\n",
        "    print('\\n')\n",
        "    i += 1"
      ]
    },
    {
      "cell_type": "code",
      "execution_count": null,
      "metadata": {
        "id": "ed0IyYsGtb2r"
      },
      "outputs": [],
      "source": [
        "best_model = final_dict['model_score'][max(final_dict['model_score'], key = lambda i : i[2])[0]][1]"
      ]
    },
    {
      "cell_type": "code",
      "execution_count": null,
      "metadata": {
        "colab": {
          "base_uri": "https://localhost:8080/",
          "height": 36
        },
        "id": "0AFCpBDFtb2r",
        "outputId": "cb4beadf-53ac-40db-c0e4-04afd48e5131"
      },
      "outputs": [
        {
          "output_type": "execute_result",
          "data": {
            "text/plain": [
              "'rf'"
            ],
            "application/vnd.google.colaboratory.intrinsic+json": {
              "type": "string"
            }
          },
          "metadata": {},
          "execution_count": 183
        }
      ],
      "source": [
        "best_model"
      ]
    },
    {
      "cell_type": "markdown",
      "metadata": {
        "id": "zgKezVPPtb2r"
      },
      "source": [
        "### Plot a Graph on Predicted and Actual Values"
      ]
    },
    {
      "cell_type": "code",
      "execution_count": null,
      "metadata": {
        "colab": {
          "base_uri": "https://localhost:8080/",
          "height": 279
        },
        "id": "tF2cZSAxtb2s",
        "outputId": "1c0a1630-cd84-4dc6-ab88-a6f28a25d87f"
      },
      "outputs": [
        {
          "output_type": "display_data",
          "data": {
            "text/plain": [
              "<Figure size 432x288 with 1 Axes>"
            ],
            "image/png": "[encoded data removed]"
          },
          "metadata": {
            "needs_background": "light"
          }
        }
      ],
      "source": [
        "model_pred = fitted_models[best_model].predict(X_test)\n",
        "plt.scatter(model_pred, y_test)\n",
        "plt.xlabel('predicted')\n",
        "plt.ylabel('actual')\n",
        "plt.show()"
      ]
    },
    {
      "cell_type": "markdown",
      "metadata": {
        "id": "WGqQt-Pktb2s"
      },
      "source": [
        "<hr style='height:10px'>"
      ]
    },
    {
      "cell_type": "markdown",
      "metadata": {
        "id": "nq0wTFXgtb2s"
      },
      "source": [
        "<br id='save'>\n",
        "\n",
        "## PROJECT DELIVERY - PIPEPLINE AGAINST TEST DATASET"
      ]
    },
    {
      "cell_type": "code",
      "execution_count": null,
      "metadata": {
        "id": "b_NBKn3ntb2s"
      },
      "outputs": [],
      "source": [
        "import pickle"
      ]
    },
    {
      "cell_type": "markdown",
      "metadata": {
        "id": "EerMRxmjtb2s"
      },
      "source": [
        "#### Save the Model"
      ]
    },
    {
      "cell_type": "code",
      "execution_count": null,
      "metadata": {
        "id": "MWBwKXx9tb2t"
      },
      "outputs": [],
      "source": [
        "final_dict['model'] = fitted_models[best_model].best_estimator_"
      ]
    },
    {
      "cell_type": "code",
      "execution_count": null,
      "metadata": {
        "id": "wXhgdAUMtb2t"
      },
      "outputs": [],
      "source": [
        "with open('./models/' + pickle_file + '.pkl', 'wb') as f:\n",
        "    pickle.dump(final_dict, f)"
      ]
    },
    {
      "cell_type": "code",
      "execution_count": null,
      "metadata": {
        "scrolled": true,
        "colab": {
          "base_uri": "https://localhost:8080/"
        },
        "id": "yZi_JOWjtb2t",
        "outputId": "602ef127-8a41-4832-feea-12246f27205f"
      },
      "outputs": [
        {
          "output_type": "execute_result",
          "data": {
            "text/plain": [
              "{'memory': None,\n",
              " 'randomforestregressor': RandomForestRegressor(n_estimators=200, random_state=123),\n",
              " 'randomforestregressor__bootstrap': True,\n",
              " 'randomforestregressor__ccp_alpha': 0.0,\n",
              " 'randomforestregressor__criterion': 'squared_error',\n",
              " 'randomforestregressor__max_depth': None,\n",
              " 'randomforestregressor__max_features': 'auto',\n",
              " 'randomforestregressor__max_leaf_nodes': None,\n",
              " 'randomforestregressor__max_samples': None,\n",
              " 'randomforestregressor__min_impurity_decrease': 0.0,\n",
              " 'randomforestregressor__min_samples_leaf': 1,\n",
              " 'randomforestregressor__min_samples_split': 2,\n",
              " 'randomforestregressor__min_weight_fraction_leaf': 0.0,\n",
              " 'randomforestregressor__n_estimators': 200,\n",
              " 'randomforestregressor__n_jobs': None,\n",
              " 'randomforestregressor__oob_score': False,\n",
              " 'randomforestregressor__random_state': 123,\n",
              " 'randomforestregressor__verbose': 0,\n",
              " 'randomforestregressor__warm_start': False,\n",
              " 'standardscaler': StandardScaler(),\n",
              " 'standardscaler__copy': True,\n",
              " 'standardscaler__with_mean': True,\n",
              " 'standardscaler__with_std': True,\n",
              " 'steps': [('standardscaler', StandardScaler()),\n",
              "  ('randomforestregressor',\n",
              "   RandomForestRegressor(n_estimators=200, random_state=123))],\n",
              " 'verbose': False}"
            ]
          },
          "metadata": {},
          "execution_count": 188
        }
      ],
      "source": [
        "final_dict['model'].get_params()"
      ]
    },
    {
      "cell_type": "code",
      "source": [
        ""
      ],
      "metadata": {
        "id": "DFpwOt6BiAs9"
      },
      "execution_count": null,
      "outputs": []
    },
    {
      "cell_type": "markdown",
      "source": [
        "# Load Test Dataset, Build Pipeline and Prediction"
      ],
      "metadata": {
        "id": "kkInKMYHiCAK"
      }
    },
    {
      "cell_type": "code",
      "execution_count": null,
      "metadata": {
        "id": "ttj76ZkDtb2t"
      },
      "outputs": [],
      "source": [
        "dateparse = lambda dates: pd.datetime.strptime(dates, '%Y-%m')\n",
        "df_test = pd.read_csv('./data/test_luc.csv',parse_dates=['datetime'], index_col='datetime')"
      ]
    },
    {
      "cell_type": "code",
      "execution_count": null,
      "metadata": {
        "id": "iNMh3So2tb2u"
      },
      "outputs": [],
      "source": [
        "df_test['Year'] = df_test.index.year\n",
        "df_test['Month'] = df_test.index.month\n",
        "df_test['Day'] = df_test.index.day\n",
        "df_test['Day of Week'] = df_test.index.dayofweek\n",
        "df_test['Hour'] = df_test.index.hour\n",
        "df_test['Minute'] = df_test.index.minute\n",
        "df_test['Seconds'] = df_test.index.second"
      ]
    },
    {
      "cell_type": "code",
      "execution_count": null,
      "metadata": {
        "colab": {
          "base_uri": "https://localhost:8080/",
          "height": 281
        },
        "id": "vyYH48vDtb2u",
        "outputId": "5f08f8a3-18f7-41a2-8e5d-4841be3e2e41"
      },
      "outputs": [
        {
          "output_type": "execute_result",
          "data": {
            "text/plain": [
              "                     season  holiday  workingday  weather  temp  atemp  \\\n",
              "datetime                                                                 \n",
              "2011-01-17 00:00:00       1        1           0        2  8.20  9.850   \n",
              "2011-01-17 01:00:00       1        1           0        2  8.20  9.850   \n",
              "2011-01-17 02:00:00       1        1           0        2  7.38  8.335   \n",
              "2011-01-17 03:00:00       1        1           0        2  7.38  9.090   \n",
              "2011-01-17 04:00:00       1        1           0        2  7.38  9.850   \n",
              "\n",
              "                     humidity  windspeed  Year  Month  Day  Day of Week  Hour  \\\n",
              "datetime                                                                        \n",
              "2011-01-17 00:00:00        47    15.0013  2011      1   17            0     0   \n",
              "2011-01-17 01:00:00        44    12.9980  2011      1   17            0     1   \n",
              "2011-01-17 02:00:00        43    16.9979  2011      1   17            0     2   \n",
              "2011-01-17 03:00:00        43    12.9980  2011      1   17            0     3   \n",
              "2011-01-17 04:00:00        43     8.9981  2011      1   17            0     4   \n",
              "\n",
              "                     Minute  Seconds  \n",
              "datetime                              \n",
              "2011-01-17 00:00:00       0        0  \n",
              "2011-01-17 01:00:00       0        0  \n",
              "2011-01-17 02:00:00       0        0  \n",
              "2011-01-17 03:00:00       0        0  \n",
              "2011-01-17 04:00:00       0        0  "
            ],
            "text/html": [
              "\n",
              "  <div id=\"df-c6b4c5c8-fb8e-449b-b402-03191133117f\">\n",
              "    <div class=\"colab-df-container\">\n",
              "      <div>\n",
              "<style scoped>\n",
              "    .dataframe tbody tr th:only-of-type {\n",
              "        vertical-align: middle;\n",
              "    }\n",
              "\n",
              "    .dataframe tbody tr th {\n",
              "        vertical-align: top;\n",
              "    }\n",
              "\n",
              "    .dataframe thead th {\n",
              "        text-align: right;\n",
              "    }\n",
              "</style>\n",
              "<table border=\"1\" class=\"dataframe\">\n",
              "  <thead>\n",
              "    <tr style=\"text-align: right;\">\n",
              "      <th></th>\n",
              "      <th>season</th>\n",
              "      <th>holiday</th>\n",
              "      <th>workingday</th>\n",
              "      <th>weather</th>\n",
              "      <th>temp</th>\n",
              "      <th>atemp</th>\n",
              "      <th>humidity</th>\n",
              "      <th>windspeed</th>\n",
              "      <th>Year</th>\n",
              "      <th>Month</th>\n",
              "      <th>Day</th>\n",
              "      <th>Day of Week</th>\n",
              "      <th>Hour</th>\n",
              "      <th>Minute</th>\n",
              "      <th>Seconds</th>\n",
              "    </tr>\n",
              "    <tr>\n",
              "      <th>datetime</th>\n",
              "      <th></th>\n",
              "      <th></th>\n",
              "      <th></th>\n",
              "      <th></th>\n",
              "      <th></th>\n",
              "      <th></th>\n",
              "      <th></th>\n",
              "      <th></th>\n",
              "      <th></th>\n",
              "      <th></th>\n",
              "      <th></th>\n",
              "      <th></th>\n",
              "      <th></th>\n",
              "      <th></th>\n",
              "      <th></th>\n",
              "    </tr>\n",
              "  </thead>\n",
              "  <tbody>\n",
              "    <tr>\n",
              "      <th>2011-01-17 00:00:00</th>\n",
              "      <td>1</td>\n",
              "      <td>1</td>\n",
              "      <td>0</td>\n",
              "      <td>2</td>\n",
              "      <td>8.20</td>\n",
              "      <td>9.850</td>\n",
              "      <td>47</td>\n",
              "      <td>15.0013</td>\n",
              "      <td>2011</td>\n",
              "      <td>1</td>\n",
              "      <td>17</td>\n",
              "      <td>0</td>\n",
              "      <td>0</td>\n",
              "      <td>0</td>\n",
              "      <td>0</td>\n",
              "    </tr>\n",
              "    <tr>\n",
              "      <th>2011-01-17 01:00:00</th>\n",
              "      <td>1</td>\n",
              "      <td>1</td>\n",
              "      <td>0</td>\n",
              "      <td>2</td>\n",
              "      <td>8.20</td>\n",
              "      <td>9.850</td>\n",
              "      <td>44</td>\n",
              "      <td>12.9980</td>\n",
              "      <td>2011</td>\n",
              "      <td>1</td>\n",
              "      <td>17</td>\n",
              "      <td>0</td>\n",
              "      <td>1</td>\n",
              "      <td>0</td>\n",
              "      <td>0</td>\n",
              "    </tr>\n",
              "    <tr>\n",
              "      <th>2011-01-17 02:00:00</th>\n",
              "      <td>1</td>\n",
              "      <td>1</td>\n",
              "      <td>0</td>\n",
              "      <td>2</td>\n",
              "      <td>7.38</td>\n",
              "      <td>8.335</td>\n",
              "      <td>43</td>\n",
              "      <td>16.9979</td>\n",
              "      <td>2011</td>\n",
              "      <td>1</td>\n",
              "      <td>17</td>\n",
              "      <td>0</td>\n",
              "      <td>2</td>\n",
              "      <td>0</td>\n",
              "      <td>0</td>\n",
              "    </tr>\n",
              "    <tr>\n",
              "      <th>2011-01-17 03:00:00</th>\n",
              "      <td>1</td>\n",
              "      <td>1</td>\n",
              "      <td>0</td>\n",
              "      <td>2</td>\n",
              "      <td>7.38</td>\n",
              "      <td>9.090</td>\n",
              "      <td>43</td>\n",
              "      <td>12.9980</td>\n",
              "      <td>2011</td>\n",
              "      <td>1</td>\n",
              "      <td>17</td>\n",
              "      <td>0</td>\n",
              "      <td>3</td>\n",
              "      <td>0</td>\n",
              "      <td>0</td>\n",
              "    </tr>\n",
              "    <tr>\n",
              "      <th>2011-01-17 04:00:00</th>\n",
              "      <td>1</td>\n",
              "      <td>1</td>\n",
              "      <td>0</td>\n",
              "      <td>2</td>\n",
              "      <td>7.38</td>\n",
              "      <td>9.850</td>\n",
              "      <td>43</td>\n",
              "      <td>8.9981</td>\n",
              "      <td>2011</td>\n",
              "      <td>1</td>\n",
              "      <td>17</td>\n",
              "      <td>0</td>\n",
              "      <td>4</td>\n",
              "      <td>0</td>\n",
              "      <td>0</td>\n",
              "    </tr>\n",
              "  </tbody>\n",
              "</table>\n",
              "</div>\n",
              "      <button class=\"colab-df-convert\" onclick=\"convertToInteractive('df-c6b4c5c8-fb8e-449b-b402-03191133117f')\"\n",
              "              title=\"Convert this dataframe to an interactive table.\"\n",
              "              style=\"display:none;\">\n",
              "        \n",
              "  <svg xmlns=\"http://www.w3.org/2000/svg\" height=\"24px\"viewBox=\"0 0 24 24\"\n",
              "       width=\"24px\">\n",
              "    <path d=\"M0 0h24v24H0V0z\" fill=\"none\"/>\n",
              "    <path d=\"M18.56 5.44l.94 2.06.94-2.06 2.06-.94-2.06-.94-.94-2.06-.94 2.06-2.06.94zm-11 1L8.5 8.5l.94-2.06 2.06-.94-2.06-.94L8.5 2.5l-.94 2.06-2.06.94zm10 10l.94 2.06.94-2.06 2.06-.94-2.06-.94-.94-2.06-.94 2.06-2.06.94z\"/><path d=\"M17.41 7.96l-1.37-1.37c-.4-.4-.92-.59-1.43-.59-.52 0-1.04.2-1.43.59L10.3 9.45l-7.72 7.72c-.78.78-.78 2.05 0 2.83L4 21.41c.39.39.9.59 1.41.59.51 0 1.02-.2 1.41-.59l7.78-7.78 2.81-2.81c.8-.78.8-2.07 0-2.86zM5.41 20L4 18.59l7.72-7.72 1.47 1.35L5.41 20z\"/>\n",
              "  </svg>\n",
              "      </button>\n",
              "      \n",
              "  <style>\n",
              "    .colab-df-container {\n",
              "      display:flex;\n",
              "      flex-wrap:wrap;\n",
              "      gap: 12px;\n",
              "    }\n",
              "\n",
              "    .colab-df-convert {\n",
              "      background-color: #E8F0FE;\n",
              "      border: none;\n",
              "      border-radius: 50%;\n",
              "      cursor: pointer;\n",
              "      display: none;\n",
              "      fill: #1967D2;\n",
              "      height: 32px;\n",
              "      padding: 0 0 0 0;\n",
              "      width: 32px;\n",
              "    }\n",
              "\n",
              "    .colab-df-convert:hover {\n",
              "      background-color: #E2EBFA;\n",
              "      box-shadow: 0px 1px 2px rgba(60, 64, 67, 0.3), 0px 1px 3px 1px rgba(60, 64, 67, 0.15);\n",
              "      fill: #174EA6;\n",
              "    }\n",
              "\n",
              "    [theme=dark] .colab-df-convert {\n",
              "      background-color: #3B4455;\n",
              "      fill: #D2E3FC;\n",
              "    }\n",
              "\n",
              "    [theme=dark] .colab-df-convert:hover {\n",
              "      background-color: #434B5C;\n",
              "      box-shadow: 0px 1px 3px 1px rgba(0, 0, 0, 0.15);\n",
              "      filter: drop-shadow(0px 1px 2px rgba(0, 0, 0, 0.3));\n",
              "      fill: #FFFFFF;\n",
              "    }\n",
              "  </style>\n",
              "\n",
              "      <script>\n",
              "        const buttonEl =\n",
              "          document.querySelector('#df-c6b4c5c8-fb8e-449b-b402-03191133117f button.colab-df-convert');\n",
              "        buttonEl.style.display =\n",
              "          google.colab.kernel.accessAllowed ? 'block' : 'none';\n",
              "\n",
              "        async function convertToInteractive(key) {\n",
              "          const element = document.querySelector('#df-c6b4c5c8-fb8e-449b-b402-03191133117f');\n",
              "          const dataTable =\n",
              "            await google.colab.kernel.invokeFunction('convertToInteractive',\n",
              "                                                     [key], {});\n",
              "          if (!dataTable) return;\n",
              "\n",
              "          const docLinkHtml = 'Like what you see? Visit the ' +\n",
              "            '<a target=\"_blank\" href=https://colab.research.google.com/notebooks/data_table.ipynb>data table notebook</a>'\n",
              "            + ' to learn more about interactive tables.';\n",
              "          element.innerHTML = '';\n",
              "          dataTable['output_type'] = 'display_data';\n",
              "          await google.colab.output.renderOutput(dataTable, element);\n",
              "          const docLink = document.createElement('div');\n",
              "          docLink.innerHTML = docLinkHtml;\n",
              "          element.appendChild(docLink);\n",
              "        }\n",
              "      </script>\n",
              "    </div>\n",
              "  </div>\n",
              "  "
            ]
          },
          "metadata": {},
          "execution_count": 192
        }
      ],
      "source": [
        "df_test.head()"
      ]
    },
    {
      "cell_type": "code",
      "execution_count": null,
      "metadata": {
        "colab": {
          "base_uri": "https://localhost:8080/"
        },
        "id": "6Tz6MuC7tb2u",
        "outputId": "8558577f-235a-46ce-c633-8fb62e389062"
      },
      "outputs": [
        {
          "output_type": "stream",
          "name": "stderr",
          "text": [
            "/usr/local/lib/python3.7/dist-packages/sklearn/base.py:493: FutureWarning: The feature names should match those that were passed during fit. Starting version 1.2, an error will be raised.\n",
            "Feature names unseen at fit time:\n",
            "- Minute\n",
            "Feature names seen at fit time, yet now missing:\n",
            "- Minutes\n",
            "\n",
            "  warnings.warn(message, FutureWarning)\n"
          ]
        }
      ],
      "source": [
        "df_test['Count Predicted'] = final_dict['model'].predict(df_test)"
      ]
    },
    {
      "cell_type": "code",
      "execution_count": null,
      "metadata": {
        "id": "MCMaWfQttb2u"
      },
      "outputs": [],
      "source": [
        "df_test = df_test.reset_index()"
      ]
    },
    {
      "cell_type": "code",
      "source": [
        "df_test.head()"
      ],
      "metadata": {
        "colab": {
          "base_uri": "https://localhost:8080/",
          "height": 372
        },
        "id": "HvamrAZ8xqhS",
        "outputId": "b840ae88-41d8-4554-d1b6-6cec0e82ae64"
      },
      "execution_count": null,
      "outputs": [
        {
          "output_type": "execute_result",
          "data": {
            "text/plain": [
              "             datetime  season  holiday  workingday  weather  temp  atemp  \\\n",
              "0 2011-01-17 00:00:00       1        1           0        2  8.20  9.850   \n",
              "1 2011-01-17 01:00:00       1        1           0        2  8.20  9.850   \n",
              "2 2011-01-17 02:00:00       1        1           0        2  7.38  8.335   \n",
              "3 2011-01-17 03:00:00       1        1           0        2  7.38  9.090   \n",
              "4 2011-01-17 04:00:00       1        1           0        2  7.38  9.850   \n",
              "\n",
              "   humidity  windspeed  Year  Month  Day  Day of Week  Hour  Minute  Seconds  \\\n",
              "0        47    15.0013  2011      1   17            0     0       0        0   \n",
              "1        44    12.9980  2011      1   17            0     1       0        0   \n",
              "2        43    16.9979  2011      1   17            0     2       0        0   \n",
              "3        43    12.9980  2011      1   17            0     3       0        0   \n",
              "4        43     8.9981  2011      1   17            0     4       0        0   \n",
              "\n",
              "   Count Predicted  \n",
              "0           23.860  \n",
              "1           16.410  \n",
              "2           15.570  \n",
              "3            8.035  \n",
              "4            7.395  "
            ],
            "text/html": [
              "\n",
              "  <div id=\"df-531019f2-7e7b-465a-a335-3e40ba936a5b\">\n",
              "    <div class=\"colab-df-container\">\n",
              "      <div>\n",
              "<style scoped>\n",
              "    .dataframe tbody tr th:only-of-type {\n",
              "        vertical-align: middle;\n",
              "    }\n",
              "\n",
              "    .dataframe tbody tr th {\n",
              "        vertical-align: top;\n",
              "    }\n",
              "\n",
              "    .dataframe thead th {\n",
              "        text-align: right;\n",
              "    }\n",
              "</style>\n",
              "<table border=\"1\" class=\"dataframe\">\n",
              "  <thead>\n",
              "    <tr style=\"text-align: right;\">\n",
              "      <th></th>\n",
              "      <th>datetime</th>\n",
              "      <th>season</th>\n",
              "      <th>holiday</th>\n",
              "      <th>workingday</th>\n",
              "      <th>weather</th>\n",
              "      <th>temp</th>\n",
              "      <th>atemp</th>\n",
              "      <th>humidity</th>\n",
              "      <th>windspeed</th>\n",
              "      <th>Year</th>\n",
              "      <th>Month</th>\n",
              "      <th>Day</th>\n",
              "      <th>Day of Week</th>\n",
              "      <th>Hour</th>\n",
              "      <th>Minute</th>\n",
              "      <th>Seconds</th>\n",
              "      <th>Count Predicted</th>\n",
              "    </tr>\n",
              "  </thead>\n",
              "  <tbody>\n",
              "    <tr>\n",
              "      <th>0</th>\n",
              "      <td>2011-01-17 00:00:00</td>\n",
              "      <td>1</td>\n",
              "      <td>1</td>\n",
              "      <td>0</td>\n",
              "      <td>2</td>\n",
              "      <td>8.20</td>\n",
              "      <td>9.850</td>\n",
              "      <td>47</td>\n",
              "      <td>15.0013</td>\n",
              "      <td>2011</td>\n",
              "      <td>1</td>\n",
              "      <td>17</td>\n",
              "      <td>0</td>\n",
              "      <td>0</td>\n",
              "      <td>0</td>\n",
              "      <td>0</td>\n",
              "      <td>23.860</td>\n",
              "    </tr>\n",
              "    <tr>\n",
              "      <th>1</th>\n",
              "      <td>2011-01-17 01:00:00</td>\n",
              "      <td>1</td>\n",
              "      <td>1</td>\n",
              "      <td>0</td>\n",
              "      <td>2</td>\n",
              "      <td>8.20</td>\n",
              "      <td>9.850</td>\n",
              "      <td>44</td>\n",
              "      <td>12.9980</td>\n",
              "      <td>2011</td>\n",
              "      <td>1</td>\n",
              "      <td>17</td>\n",
              "      <td>0</td>\n",
              "      <td>1</td>\n",
              "      <td>0</td>\n",
              "      <td>0</td>\n",
              "      <td>16.410</td>\n",
              "    </tr>\n",
              "    <tr>\n",
              "      <th>2</th>\n",
              "      <td>2011-01-17 02:00:00</td>\n",
              "      <td>1</td>\n",
              "      <td>1</td>\n",
              "      <td>0</td>\n",
              "      <td>2</td>\n",
              "      <td>7.38</td>\n",
              "      <td>8.335</td>\n",
              "      <td>43</td>\n",
              "      <td>16.9979</td>\n",
              "      <td>2011</td>\n",
              "      <td>1</td>\n",
              "      <td>17</td>\n",
              "      <td>0</td>\n",
              "      <td>2</td>\n",
              "      <td>0</td>\n",
              "      <td>0</td>\n",
              "      <td>15.570</td>\n",
              "    </tr>\n",
              "    <tr>\n",
              "      <th>3</th>\n",
              "      <td>2011-01-17 03:00:00</td>\n",
              "      <td>1</td>\n",
              "      <td>1</td>\n",
              "      <td>0</td>\n",
              "      <td>2</td>\n",
              "      <td>7.38</td>\n",
              "      <td>9.090</td>\n",
              "      <td>43</td>\n",
              "      <td>12.9980</td>\n",
              "      <td>2011</td>\n",
              "      <td>1</td>\n",
              "      <td>17</td>\n",
              "      <td>0</td>\n",
              "      <td>3</td>\n",
              "      <td>0</td>\n",
              "      <td>0</td>\n",
              "      <td>8.035</td>\n",
              "    </tr>\n",
              "    <tr>\n",
              "      <th>4</th>\n",
              "      <td>2011-01-17 04:00:00</td>\n",
              "      <td>1</td>\n",
              "      <td>1</td>\n",
              "      <td>0</td>\n",
              "      <td>2</td>\n",
              "      <td>7.38</td>\n",
              "      <td>9.850</td>\n",
              "      <td>43</td>\n",
              "      <td>8.9981</td>\n",
              "      <td>2011</td>\n",
              "      <td>1</td>\n",
              "      <td>17</td>\n",
              "      <td>0</td>\n",
              "      <td>4</td>\n",
              "      <td>0</td>\n",
              "      <td>0</td>\n",
              "      <td>7.395</td>\n",
              "    </tr>\n",
              "  </tbody>\n",
              "</table>\n",
              "</div>\n",
              "      <button class=\"colab-df-convert\" onclick=\"convertToInteractive('df-531019f2-7e7b-465a-a335-3e40ba936a5b')\"\n",
              "              title=\"Convert this dataframe to an interactive table.\"\n",
              "              style=\"display:none;\">\n",
              "        \n",
              "  <svg xmlns=\"http://www.w3.org/2000/svg\" height=\"24px\"viewBox=\"0 0 24 24\"\n",
              "       width=\"24px\">\n",
              "    <path d=\"M0 0h24v24H0V0z\" fill=\"none\"/>\n",
              "    <path d=\"M18.56 5.44l.94 2.06.94-2.06 2.06-.94-2.06-.94-.94-2.06-.94 2.06-2.06.94zm-11 1L8.5 8.5l.94-2.06 2.06-.94-2.06-.94L8.5 2.5l-.94 2.06-2.06.94zm10 10l.94 2.06.94-2.06 2.06-.94-2.06-.94-.94-2.06-.94 2.06-2.06.94z\"/><path d=\"M17.41 7.96l-1.37-1.37c-.4-.4-.92-.59-1.43-.59-.52 0-1.04.2-1.43.59L10.3 9.45l-7.72 7.72c-.78.78-.78 2.05 0 2.83L4 21.41c.39.39.9.59 1.41.59.51 0 1.02-.2 1.41-.59l7.78-7.78 2.81-2.81c.8-.78.8-2.07 0-2.86zM5.41 20L4 18.59l7.72-7.72 1.47 1.35L5.41 20z\"/>\n",
              "  </svg>\n",
              "      </button>\n",
              "      \n",
              "  <style>\n",
              "    .colab-df-container {\n",
              "      display:flex;\n",
              "      flex-wrap:wrap;\n",
              "      gap: 12px;\n",
              "    }\n",
              "\n",
              "    .colab-df-convert {\n",
              "      background-color: #E8F0FE;\n",
              "      border: none;\n",
              "      border-radius: 50%;\n",
              "      cursor: pointer;\n",
              "      display: none;\n",
              "      fill: #1967D2;\n",
              "      height: 32px;\n",
              "      padding: 0 0 0 0;\n",
              "      width: 32px;\n",
              "    }\n",
              "\n",
              "    .colab-df-convert:hover {\n",
              "      background-color: #E2EBFA;\n",
              "      box-shadow: 0px 1px 2px rgba(60, 64, 67, 0.3), 0px 1px 3px 1px rgba(60, 64, 67, 0.15);\n",
              "      fill: #174EA6;\n",
              "    }\n",
              "\n",
              "    [theme=dark] .colab-df-convert {\n",
              "      background-color: #3B4455;\n",
              "      fill: #D2E3FC;\n",
              "    }\n",
              "\n",
              "    [theme=dark] .colab-df-convert:hover {\n",
              "      background-color: #434B5C;\n",
              "      box-shadow: 0px 1px 3px 1px rgba(0, 0, 0, 0.15);\n",
              "      filter: drop-shadow(0px 1px 2px rgba(0, 0, 0, 0.3));\n",
              "      fill: #FFFFFF;\n",
              "    }\n",
              "  </style>\n",
              "\n",
              "      <script>\n",
              "        const buttonEl =\n",
              "          document.querySelector('#df-531019f2-7e7b-465a-a335-3e40ba936a5b button.colab-df-convert');\n",
              "        buttonEl.style.display =\n",
              "          google.colab.kernel.accessAllowed ? 'block' : 'none';\n",
              "\n",
              "        async function convertToInteractive(key) {\n",
              "          const element = document.querySelector('#df-531019f2-7e7b-465a-a335-3e40ba936a5b');\n",
              "          const dataTable =\n",
              "            await google.colab.kernel.invokeFunction('convertToInteractive',\n",
              "                                                     [key], {});\n",
              "          if (!dataTable) return;\n",
              "\n",
              "          const docLinkHtml = 'Like what you see? Visit the ' +\n",
              "            '<a target=\"_blank\" href=https://colab.research.google.com/notebooks/data_table.ipynb>data table notebook</a>'\n",
              "            + ' to learn more about interactive tables.';\n",
              "          element.innerHTML = '';\n",
              "          dataTable['output_type'] = 'display_data';\n",
              "          await google.colab.output.renderOutput(dataTable, element);\n",
              "          const docLink = document.createElement('div');\n",
              "          docLink.innerHTML = docLinkHtml;\n",
              "          element.appendChild(docLink);\n",
              "        }\n",
              "      </script>\n",
              "    </div>\n",
              "  </div>\n",
              "  "
            ]
          },
          "metadata": {},
          "execution_count": 195
        }
      ]
    },
    {
      "cell_type": "code",
      "execution_count": null,
      "metadata": {
        "id": "5lyGKc3etb2v"
      },
      "outputs": [],
      "source": [
        "df_test[['datetime', 'Count Predicted']].to_csv('final_submission.csv')"
      ]
    }
  ],
  "metadata": {
    "kernelspec": {
      "display_name": "Python 3",
      "language": "python",
      "name": "python3"
    },
    "language_info": {
      "codemirror_mode": {
        "name": "ipython",
        "version": 3
      },
      "file_extension": ".py",
      "mimetype": "text/x-python",
      "name": "python",
      "nbconvert_exporter": "python",
      "pygments_lexer": "ipython3",
      "version": "3.8.8"
    },
    "colab": {
      "name": "in_class_exercise_06.ipynb",
      "provenance": [],
      "collapsed_sections": [
        "nsmuy-tZtb2f"
      ],
      "include_colab_link": true
    }
  },
  "nbformat": 4,
  "nbformat_minor": 0
}