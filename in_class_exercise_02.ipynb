{
  "cells": [
    {
      "cell_type": "markdown",
      "metadata": {
        "id": "view-in-github",
        "colab_type": "text"
      },
      "source": [
        "<a href=\"https://colab.research.google.com/github/Pavani7849/Lakshmi_INFO5731_-Fall2021/blob/main/in_class_exercise_02.ipynb\" target=\"_parent\"><img src=\"https://colab.research.google.com/assets/colab-badge.svg\" alt=\"Open In Colab\"/></a>"
      ]
    },
    {
      "cell_type": "markdown",
      "metadata": {
        "id": "Ryk8D1Q4Wsrp"
      },
      "source": [
        "# **The second Lab-assignment (07/19/2022 11:59'AM' - 07/22/2022 11:59PM, 50 points in total)**"
      ]
    },
    {
      "cell_type": "markdown",
      "metadata": {
        "id": "90_NR8c5XGWc"
      },
      "source": [
        "# Question 1\n",
        "\n",
        "(5 points). Write a Python program to generate 12 random numbers between 1 and 100. Sort the list of numbers in ascending order and print it out. Sort the list of numbers in descending order and print it out. Calculate the average for the group and print it out."
      ]
    },
    {
      "cell_type": "code",
      "execution_count": null,
      "metadata": {
        "colab": {
          "base_uri": "https://localhost:8080/"
        },
        "id": "5QX6bJjGWXY9",
        "outputId": "c6bd7bfc-b6e3-4980-eb44-455d07d3f401"
      },
      "outputs": [
        {
          "output_type": "stream",
          "name": "stdout",
          "text": [
            "Original List : [67, 46, 50, 9, 13, 5, 7, 14, 84, 57, 28, 51]\n",
            "Ascending Order List : [5, 7, 9, 13, 14, 28, 46, 50, 51, 57, 67, 84]\n",
            "Descending Order List : [84, 67, 57, 51, 50, 46, 28, 14, 13, 9, 7, 5]\n",
            "Average  : 35.916666666666664\n"
          ]
        }
      ],
      "source": [
        "# Your code here\n",
        "import random\n",
        "randomlist = random.sample(range(1, 100), 12)\n",
        "print(\"Original List : \"+str(randomlist))\n",
        "randomlist.sort()\n",
        "print(\"Ascending Order List : \"+str(randomlist))\n",
        "randomlist.sort(reverse=True)\n",
        "print(\"Descending Order List : \"+str(randomlist))\n",
        "print(\"Average  : \"+str(sum(randomlist)/len(randomlist)))"
      ]
    },
    {
      "cell_type": "markdown",
      "metadata": {
        "id": "CmFoI4jDS9nx"
      },
      "source": [
        "# Question 2 \n",
        "\n",
        "(5 points). The formula that describes the volume V of a sphere with radius r is the following:\n",
        "\n",
        "$ V=\\frac{4}{3}\\ast\\ \\pi\\ast\\ r^3 $\n",
        "\n",
        "Write a program to calculate the value of V when r is in the range of 1–10. Output the result in the following format:\n",
        "\n",
        "\tr\tV\n",
        "\t1\t…\n",
        "\t2\t…\n",
        "\t3\t…\n"
      ]
    },
    {
      "cell_type": "code",
      "execution_count": null,
      "metadata": {
        "colab": {
          "base_uri": "https://localhost:8080/"
        },
        "id": "pEyqeioAT95b",
        "outputId": "8a78b213-a0ab-470f-97b9-ecfd2c4a132d"
      },
      "outputs": [
        {
          "output_type": "stream",
          "name": "stdout",
          "text": [
            "r           V\n",
            "1    4.186667\n",
            "2   33.493333\n",
            "3  113.040000\n",
            "4  267.946667\n",
            "5  523.333333\n",
            "6  904.320000\n",
            "7 1436.026667\n",
            "8 2143.573333\n",
            "9 3052.080000\n"
          ]
        }
      ],
      "source": [
        "# Your code here\n",
        "import pandas as pd\n",
        "result_df=pd.DataFrame()\n",
        "for i in range(1, 10):\n",
        "    V=4/3*(3.14)*i**3    \n",
        "    result_df = result_df.append({'r' : str(i), 'V' : V},\n",
        "        ignore_index = True)\n",
        "result_df=result_df[['r','V']]\n",
        "print(result_df.to_string(index=False))\n"
      ]
    },
    {
      "cell_type": "markdown",
      "metadata": {
        "id": "z3tBE7E-Xn5X"
      },
      "source": [
        "# Question 3\n",
        "\n",
        "(40 points). In the field of Data Science, data is often formatted as a comma-delimited (CSV) file, where each line in a file corresponds to a field's value. Refer to Chapter 9 (p. 106) for more information on comma-delimited files. To answer this question, you will need to download the file [lab_assignment_02_denton_housing.csv](https://github.com/suthapalliuday/INFO5502-Summer2022/blob/main/datasets/lab_assignment_02_denton_housing.csv) included with this assignment. The file [lab_assignment_02_denton_housing.csv](https://github.com/suthapalliuday/INFO5502-Summer2022/blob/main/datasets/lab_assignment_02_denton_housing.csv) contains statistics about housing in the city of Denton from 2008 to 2014. Write a program to implement the following questions.\n",
        "\n",
        "(1) (10 pts) Calculate the difference in the number of Occupied Housing Units from year to year and print it. The difference must be calculated for the consecutive years such as 2008-2009, 2009-2010 etc. Finally, print the values in the ascending order.\n",
        "\n",
        "(2) (10 pts) For all the years, calculate the percentage of housing units which are vacant an occupied. Print the results in the following format:\n",
        "\n",
        "Year Vacant Housing Units Occupied Housing Units\n",
        "\n",
        "    2008  30%   70%                          \n",
        "\t2009 ----- -----\n",
        "\t2010 ----- -----\n",
        "    2011 ----- -----\n",
        "\t2012 ----- -----\n",
        "    2013 ----- -----\n",
        "\t2014 ----- -----\n",
        "  \n",
        "  \n",
        "\n",
        "(3) (10 pts) Calculate and print the valued and years in which the highest number of housing units were vacant and occupied. Print the results in the following format:  \n",
        "\n",
        "                              Year\tValue\n",
        "\tVacant Housing Units\t  -----   -----\n",
        "\tOccupied Housing Units\t-----   -----\n",
        "\n",
        "(4) (10 pts) Calculate the harmonic mean of the total housing units and print it out. You can find the information about harmonic mean here: https://ncalculators.com/statistics/harmonic-mean-calculator.htm"
      ]
    },
    {
      "cell_type": "code",
      "execution_count": null,
      "metadata": {
        "colab": {
          "base_uri": "https://localhost:8080/"
        },
        "id": "lqGYuHBhcsRH",
        "outputId": "088b8d7f-b9bc-45cf-ead0-3d8624ab05d4"
      },
      "outputs": [
        {
          "output_type": "stream",
          "name": "stdout",
          "text": [
            "Consecutive Years  Difference\n",
            "        2008-2009       795.0\n",
            "        2009-2010     -5091.0\n",
            "        2010-2011       303.0\n",
            "        2011-2012     -1404.0\n",
            "        2012-2013     -1565.0\n",
            "        2013-2014     -2622.0\n"
          ]
        }
      ],
      "source": [
        "# Your code here\n",
        "import pandas as pd\n",
        "data=pd.read_csv(\"https://raw.githubusercontent.com/suthapalliuday/INFO5502-Summer2022/main/datasets/lab_assignment_02_denton_housing.csv\")\n",
        "#data.head()\n",
        "occupied_houses_df = data.query('title_field == \"Occupied Housing Units\"').sort_values(by='year')\n",
        "\n",
        "\n",
        "df_size=len(occupied_houses_df.index)\n",
        "#print(occupied_houses_df)\n",
        "result_df=pd.DataFrame()\n",
        "df_index_list=list(occupied_houses_df.index.values)\n",
        "for i ,df_index in enumerate(df_index_list):    \n",
        "    if (i+1) < len(df_index_list):\n",
        "        years=str(occupied_houses_df['year'].loc[df_index_list[i]])+'-'+str(occupied_houses_df['year'].loc[df_index_list[i+1]])\n",
        "        difference=occupied_houses_df['value'].loc[df_index_list[i]] - occupied_houses_df['value'].loc[df_index_list[i+1]]        \n",
        "        result_df = result_df.append({'Consecutive Years' : years, 'Difference' : difference},\n",
        "        ignore_index = True)\n",
        "print(result_df.to_string(index=False))\n",
        "\n",
        "\n"
      ]
    },
    {
      "cell_type": "code",
      "execution_count": null,
      "metadata": {
        "colab": {
          "base_uri": "https://localhost:8080/"
        },
        "id": "oRRbhvUfiuiE",
        "outputId": "31770a1c-bf60-450e-e159-c211ac654662"
      },
      "outputs": [
        {
          "output_type": "stream",
          "name": "stdout",
          "text": [
            "Year Vacant Housing Units Occupied Housing Units\n",
            "2014                5.73%                 94.27%\n",
            "2013                 8.8%                  91.2%\n",
            "2012                6.68%                 93.32%\n",
            "2011                9.38%                 90.62%\n",
            "2010                8.14%                 91.86%\n",
            "2009                9.07%                 90.93%\n",
            "2008               10.88%                 89.12%\n"
          ]
        }
      ],
      "source": [
        "import pandas as pd\n",
        "import numpy as np\n",
        "data=pd.read_csv(\"https://raw.githubusercontent.com/suthapalliuday/INFO5502-Summer2022/main/datasets/lab_assignment_02_denton_housing.csv\")\n",
        "unique_years=data['year'].unique()\n",
        "result_df=pd.DataFrame()\n",
        "for year in unique_years:\n",
        "    #np.where((df['year']==year) & (df['title_field']=='Total Housing Units') )\n",
        "    occupied_units=data.query('year== @year and title_field == \"Occupied Housing Units\"')['value']\n",
        "    #print(int(occupied_units))\n",
        "    vacant_units=data.query('year== @year and title_field == \"Vacant Housing Units\"')['value']\n",
        "    total_units=data.query('year== @year and title_field == \"Total Housing Units\"')['value']\n",
        "    occupied_units_pct=round((int(occupied_units)/int(total_units))*100,2)\n",
        "    vacant_units_pct=round((int(vacant_units)/int(total_units))*100,2)    \n",
        "    result_df = result_df.append({'Year' : str(year), 'Vacant Housing Units' : str(vacant_units_pct)+'%', 'Occupied Housing Units':str(occupied_units_pct)+'%' },\n",
        "        ignore_index = True)\n",
        "    result_df=result_df[['Year','Vacant Housing Units', 'Occupied Housing Units']]\n",
        "print(result_df.to_string(index=False))"
      ]
    },
    {
      "cell_type": "code",
      "execution_count": null,
      "metadata": {
        "colab": {
          "base_uri": "https://localhost:8080/"
        },
        "id": "Xma1UtERiuiE",
        "outputId": "bd17e1e0-7311-4111-dc17-872574bc7dfe"
      },
      "outputs": [
        {
          "output_type": "stream",
          "name": "stdout",
          "text": [
            "                       Year   Value\n",
            "Vacant Housing Units 2008     4483\n",
            "Occupied Housing Units 2014     46295\n"
          ]
        }
      ],
      "source": [
        "import pandas as pd\n",
        "import numpy as np\n",
        "data=pd.read_csv(\"https://raw.githubusercontent.com/suthapalliuday/INFO5502-Summer2022/main/datasets/lab_assignment_02_denton_housing.csv\")\n",
        "unique_years=data['year'].unique()\n",
        "result_df=pd.DataFrame()\n",
        "all_years_vacant_units=data.query('title_field == \"Vacant Housing Units\"')\n",
        "all_years_occupied_units=data.query('title_field == \"Occupied Housing Units\"')\n",
        "max_vacant_units_row_df=all_years_vacant_units.loc[all_years_vacant_units['value'].idxmax()]\n",
        "max_occupied_units_row_df=all_years_occupied_units.loc[all_years_occupied_units['value'].idxmax()]\n",
        "print('                       Year   Value')\n",
        "print(\"Vacant Housing Units \"+str(max_vacant_units_row_df['year'])+\"     \"+str(max_vacant_units_row_df['value']))\n",
        "print(\"Occupied Housing Units \"+str(max_occupied_units_row_df['year'])+\"     \"+str(max_occupied_units_row_df['value']))\n",
        "#print(all_years_vacant_units)"
      ]
    },
    {
      "cell_type": "code",
      "execution_count": null,
      "metadata": {
        "colab": {
          "base_uri": "https://localhost:8080/"
        },
        "id": "MTVqypZYiuiF",
        "outputId": "dba8fc71-f21a-4762-f296-aef7877564b7"
      },
      "outputs": [
        {
          "output_type": "stream",
          "name": "stdout",
          "text": [
            "Harmonic Mean is : 44398.28543969185\n"
          ]
        }
      ],
      "source": [
        "import pandas as pd\n",
        "import numpy as np\n",
        "import statistics\n",
        "data=pd.read_csv(\"https://raw.githubusercontent.com/suthapalliuday/INFO5502-Summer2022/main/datasets/lab_assignment_02_denton_housing.csv\")\n",
        "total_housing_units_df=data.query('title_field == \"Total Housing Units\"')\n",
        "total_units_count=total_housing_units_df['value'].tolist()\n",
        "denominator=0\n",
        "for i in total_units_count:\n",
        "    denominator=denominator+(1/i)\n",
        "\n",
        "print(\"Harmonic Mean is : \"+str(len(total_units_count)/denominator))"
      ]
    }
  ],
  "metadata": {
    "colab": {
      "collapsed_sections": [],
      "name": " in_class_exercise_02.ipynb",
      "provenance": [],
      "include_colab_link": true
    },
    "kernelspec": {
      "display_name": "Python 3",
      "language": "python",
      "name": "python3"
    },
    "language_info": {
      "codemirror_mode": {
        "name": "ipython",
        "version": 3
      },
      "file_extension": ".py",
      "mimetype": "text/x-python",
      "name": "python",
      "nbconvert_exporter": "python",
      "pygments_lexer": "ipython3",
      "version": "3.7.0"
    }
  },
  "nbformat": 4,
  "nbformat_minor": 0
}